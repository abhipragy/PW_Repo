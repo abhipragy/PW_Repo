{
  "nbformat": 4,
  "nbformat_minor": 0,
  "metadata": {
    "colab": {
      "provenance": []
    },
    "kernelspec": {
      "name": "python3",
      "display_name": "Python 3"
    },
    "language_info": {
      "name": "python"
    }
  },
  "cells": [
    {
      "cell_type": "markdown",
      "source": [],
      "metadata": {
        "id": "ZN1yh6TZeV1N"
      }
    },
    {
      "cell_type": "markdown",
      "source": [
        " 1.What are data structures, and why are they important\n",
        "  \n",
        "    Data structures are ways of organizing and storing data in a computer so that they can be used efficiently. They define the relationship between the data and the operations that can be performed on the data.\n",
        "    In Python, data structures are essential for managing and manipulating data effectively.\n",
        "    \n",
        "    User-defined data structures add additional functionality to Python, thereby allowing users to access, modify or preserve data in specific ways. In addition to Python's built-in data structures, there are a number of user-defined data structures you can use, such as arrays, stacks, queues, trees and more."
      ],
      "metadata": {
        "id": "CgDim8kCeXwT"
      }
    },
    {
      "cell_type": "markdown",
      "source": [
        "2. Explain the difference between mutable and immutable data types with examples\n",
        "\n",
        "    in Python, data types can be classified as either mutable or immutable, based on whether their values can be changed after they are created.\n",
        "\n",
        "    **Mutable data types**: These are data types that allow modification of their values after creation. Common mutable data types in Python include:\n",
        "\n",
        "      **Lists**: Ordered collections of items, which can be modified by adding, removing, or changing elements.\n",
        "\n",
        "      **Dictionaries**: Collections of key-value pairs, where values can be modified, added, or removed.\n",
        "\n",
        "      **Sets**: Unordered collections of unique elements, which can be modified by adding or removing elements.\n",
        "      Example\n",
        "\n",
        "        my_list = [1, 2, 3]\n",
        "        my_list.append(4)  # Modifies the list in-place\n",
        "        print(my_list)  # Output: [1, 2, 3, 4]\n",
        "\n",
        "    **Immutable data types**: These are data types whose values cannot be changed after they are created. Any operation that appears to modify an immutable object actually creates a new object with the modified value. Common immutable data types in Python include:\n",
        "\n",
        "    **Strings**: Sequences of characters, which cannot be modified after creation.\n",
        "    **Tuples**: Ordered collections of items, similar to lists, but immutable.\n",
        "  **  Frozen sets**: Immutable versions of sets.\n",
        "\n",
        "    Example\n",
        "       my_tuple = (1, 2, 3)\n",
        "        # my_tuple[0] = 4  # This would raise an error because tuples are immutable\n",
        "        new_tuple = my_tuple + (4,) # creates a new tuple\n",
        "        print(my_tuple) # Output: (1, 2, 3)\n",
        "        print(new_tuple) # Output: (1, 2, 3, 4)"
      ],
      "metadata": {
        "id": "EJLiD97qfk69"
      }
    },
    {
      "cell_type": "markdown",
      "source": [
        " 3.What are the main differences between lists and tuples in Python\n",
        "  \n",
        "  Key Differences between List and Tuple\n",
        "\n",
        "    1\tLists are mutable(can be modified).\tTuples are immutable(cannot be modified).\n",
        "    2\tIteration over lists is time-consuming.\tIterations over tuple is faster\n",
        "    3\tLists are better for performing operations, such as insertion and deletion.\tTuples are more suitable for accessing elements efficiently.\n",
        "    4\tLists consume more memory.\tTuples consumes less memory\n",
        "    5\tLists have several built-in methods.\tTuples have fewer built-in methods.\n",
        "    6\tLists are more prone to unexpected changes and errors.\tTuples, being immutable are less error prone.\n"
      ],
      "metadata": {
        "id": "8sDFe9bIhO13"
      }
    },
    {
      "cell_type": "markdown",
      "source": [
        "4.  Describe how dictionaries store data\n",
        "\n",
        "      A Python dictionary is a data structure that stores the value in key: value pairs. Values in a dictionary can be of any data type and can be duplicated, whereas keys can't be repeated and must be immutable. Example: Here, The data is stored in key:value pairs in dictionaries, which makes it easier to find values\n",
        "      \n",
        "        d = {1: 'Geeks', 2: 'For', 3: 'Geeks'}\n",
        "        print(d)\n",
        "        #Output\n",
        "        {1: 'Geeks', 2: 'For', 3: 'Geeks'}"
      ],
      "metadata": {
        "id": "TpQPbPViidZZ"
      }
    },
    {
      "cell_type": "markdown",
      "source": [
        "5. Why might you use a set instead of a list in Python\n",
        "\n",
        "    A set in Python is preferred over a list in scenarios prioritizing uniqueness and efficient membership testing. Sets, unlike lists, inherently store only unique elements, automatically eliminating duplicates. This characteristic proves valuable when dealing with data where redundancy is undesirable. Furthermore, sets utilize hashing for element storage, enabling significantly faster membership checks (using the in operator) compared to lists, which require linear searching. This efficiency becomes crucial when working with large collections where quick lookups are essential. Sets are also optimized for set operations like union, intersection, and difference, providing convenient tools for data manipulation. However, sets do not maintain element order, which might be a limitation in applications where sequence matters.\n",
        "\n",
        "\n",
        "\n"
      ],
      "metadata": {
        "id": "t0rxBKuJmaG9"
      }
    },
    {
      "cell_type": "markdown",
      "source": [
        "6. What is a string in Python, and how is it different from a list\n",
        "    \n",
        "    A string is a sequence of characters enclosed in quotes (single, double, or triple). Its immutable and cannot be changed after creation. Its Used to store and manipulate text data.\n",
        "\n",
        "   Wheareas list is a collection of items that can be of any data type and can be modified (mutable). Lists are represented by square brackets and can contain multiple elements separated by commas. On the other hand, a string is a sequence of characters enclosed in single or double quotes. Strings are immutable, meaning their values cannot be changed once they are created. While both lists and strings can be accessed using indexing and slicing, lists provide more flexibility as they can be modified, appended, or extended, while strings cannot be altered after creation."
      ],
      "metadata": {
        "id": "qyk48bWOVct-"
      }
    },
    {
      "cell_type": "markdown",
      "source": [
        "7.  How do tuples ensure data integrity in Python\n",
        "    \n",
        "    Tuples in Python ensure data integrity due to their immutability. Once a tuple is created, its elements cannot be modified, added, or removed. This characteristic makes tuples suitable for situations where data should remain constant throughout the program's execution, such as storing configuration settings, representing fixed records, or using them as keys in dictionaries. Immutability prevents accidental or unauthorized changes to the data, ensuring its consistency and reliability"
      ],
      "metadata": {
        "id": "DWjBV9vqYYOp"
      }
    },
    {
      "cell_type": "markdown",
      "source": [
        "8. What is a hash table, and how does it relate to dictionaries in Python\n",
        "    \n",
        "    \n",
        "    A hash table is a data structure that stores key-value pairs, implementing an associative array or dictionary. It uses a hash function to compute an index for each key, determining the position in the table where the corresponding value is stored. This allows for efficient data retrieval, insertion, and deletion, typically with an average time complexity of O(1).\n",
        "\n",
        "    In Python, the Dictionary data types represent the implementation of hash tables. The Keys in the dictionary are hashable–they are generated by a hash function which generates a unique result for each unique value supplied to the hash function. Also, the order of data elements in a dictionary is not fixed"
      ],
      "metadata": {
        "id": "EX8qGGfYbZSt"
      }
    },
    {
      "cell_type": "markdown",
      "source": [
        "  9. Can lists contain different data types in Python\n",
        "      \n",
        "      Yes, lists in Python are highly flexible and can contain elements of different data types within the same list. This is a key feature of Python lists, allowing them to store heterogeneous collections of data. For example, a single list can contain integers, strings, floats, booleans, and even other lists or more complex objects."
      ],
      "metadata": {
        "id": "c-jQuUXGeTA-"
      }
    },
    {
      "cell_type": "markdown",
      "source": [
        "10. Explain why strings are immutable in Python\n",
        "      \n",
        "      Python strings are immutable which means they cannot be changed after they are created.\n"
      ],
      "metadata": {
        "id": "gn_R14rIds-t"
      }
    },
    {
      "cell_type": "code",
      "source": [
        " #Explanation: We cannot update the string after declaring it means once an #immutable the objects instantiated, its value cannot be changed\n",
        "\n",
        " name_1 = \"Aarun\"\n",
        "  name_1[0] = 'T'\n",
        "Output: TypeError: 'str' object does not support item assignment\n"
      ],
      "metadata": {
        "id": "rio0cQwteOiV"
      },
      "execution_count": null,
      "outputs": []
    },
    {
      "cell_type": "markdown",
      "source": [
        "11. What advantages do dictionaries offer over lists for certain tasks\n",
        "\n",
        "    1 - Dictionaries in Python offer fast data retrieval: Unlike lists where you have to traverse through each element to find a value, dictionaries use hash tables for quick access to values based on keys.\n",
        "\n",
        "    2) Easy to understand key value pairs: Dictionaries consist of key value pairs, making it easier to associate and access relevant data together.\n",
        "\n",
        "    3) Dynamic data structure: Dictionaries in Python are mutable, meaning you can add, update, or remove key value pairs as needed, providing flexibility in managing data.\n",
        "\n",
        "    4) Efficient for storing large amounts of data: Due to its efficient data retrieval mechanism, dictionaries are ideal for storing and accessing large datasets quickly.\n",
        "\n",
        "    5) Built in methods for manipulation: Python dictionaries offer a variety of built in methods such as `get()`, `keys()`, `values()`, and `items()` for easy data manipulation and iteration."
      ],
      "metadata": {
        "id": "Oqp3V0ZGenGO"
      }
    },
    {
      "cell_type": "markdown",
      "source": [
        "12. Describe a scenario where using a tuple would be preferable over a list\n",
        "\n",
        "    Tuples are immutable. Hence, they are primarily used to store data that doesn't change frequently. Any operation can store data in a tuple when you don't want it to change. Tuples are great to use if you want the data in your collection to be read-only, never to change, and always remain the same and constant"
      ],
      "metadata": {
        "id": "VI9w77ZlfI9D"
      }
    },
    {
      "cell_type": "markdown",
      "source": [
        " 13.How do sets handle duplicate values in Python\n",
        "\n",
        "    Sets in Python are designed to store only unique elements. When attempting to add a duplicate value to a set, Python automatically discards the duplicate, ensuring that the set retains only distinct values. This behavior makes sets useful for tasks such as removing duplicates from a list or checking for the presence of an element efficiently."
      ],
      "metadata": {
        "id": "26cGdS80gckW"
      }
    },
    {
      "cell_type": "code",
      "source": [
        "fruit_set = {\"apple\", \"banana\", \"cherry\", \"apple\"}#apple is duplicate hence elemented from output results\n",
        "\n",
        "print(fruit_set)"
      ],
      "metadata": {
        "colab": {
          "base_uri": "https://localhost:8080/"
        },
        "id": "rrUtM6QXg-lY",
        "outputId": "d4d03724-3c91-48f9-96fe-92518e795a21"
      },
      "execution_count": null,
      "outputs": [
        {
          "output_type": "stream",
          "name": "stdout",
          "text": [
            "{'banana', 'apple', 'cherry'}\n"
          ]
        }
      ]
    },
    {
      "cell_type": "markdown",
      "source": [
        "14. How does the “in” keyword work differently for lists and dictionaries\n",
        "\n",
        "    1.IN Keyword with lists\n",
        "      In this example, we will check if the string “php” is present in a list of programming languages. If it is, the program will print True.\n",
        "\n",
        "      Explanation: The in operator checks if the string “php” is present in the list a. Since “php” exists in the list, the output will be True."
      ],
      "metadata": {
        "id": "6ABpgemQhi1k"
      }
    },
    {
      "cell_type": "code",
      "source": [
        "a = [\"php\", \"python\", \"java\"]\n",
        "\n",
        "if \"php\" in a:\n",
        "    print(True)"
      ],
      "metadata": {
        "colab": {
          "base_uri": "https://localhost:8080/"
        },
        "id": "LL16UrpniYRm",
        "outputId": "3c93b95a-214a-4541-ca13-971cdb15bbf6"
      },
      "execution_count": null,
      "outputs": [
        {
          "output_type": "stream",
          "name": "stdout",
          "text": [
            "True\n"
          ]
        }
      ]
    },
    {
      "cell_type": "markdown",
      "source": [
        "      2.IN Keyword with dictionaries in this example\n",
        "\n",
        "        In this case, we will check if the key “Alice” exists in a dictionary of student names and marks. If the key is found, we will print Alice’s marks.\n",
        "        Explanation: The in operator checks whether “Alice” is present as a key in dictionary d. Since “Alice” is a key, it prints her marks."
      ],
      "metadata": {
        "id": "3qPI983aidMf"
      }
    },
    {
      "cell_type": "code",
      "source": [
        "d = {\"Alice\": 90, \"Bob\": 85}\n",
        "\n",
        "if \"Alice\" in d:\n",
        "    print(\"Alice's marks are:\", d[\"Alice\"])"
      ],
      "metadata": {
        "colab": {
          "base_uri": "https://localhost:8080/"
        },
        "id": "7Pr8GBdFi4Q7",
        "outputId": "28a90728-5a37-4bc9-cf7e-54754bcfc0a0"
      },
      "execution_count": null,
      "outputs": [
        {
          "output_type": "stream",
          "name": "stdout",
          "text": [
            "Alice's marks are: 90\n"
          ]
        }
      ]
    },
    {
      "cell_type": "markdown",
      "source": [
        "15  Can you modify the elements of a tuple? Explain why or why not\n",
        "    \n",
        "    No, you cannot directly modify the elements of a tuple in Python. Tuples are immutable data structures, meaning their elements cannot be changed after they are created. Attempting to assign a new value to an element within a tuple will raise a TypeError"
      ],
      "metadata": {
        "id": "zO9L9O8qjMPP"
      }
    },
    {
      "cell_type": "code",
      "source": [
        "thistuple = (\"apple\", \"banana\", \"cherry\")\n",
        "thistuple.remove(\"apple\")\n",
        "print(thistuple)"
      ],
      "metadata": {
        "colab": {
          "base_uri": "https://localhost:8080/",
          "height": 176
        },
        "id": "nxPCNVtrkVjq",
        "outputId": "4c995903-c31c-4586-f2bf-814c0bccc416"
      },
      "execution_count": null,
      "outputs": [
        {
          "output_type": "error",
          "ename": "AttributeError",
          "evalue": "'tuple' object has no attribute 'remove'",
          "traceback": [
            "\u001b[0;31m---------------------------------------------------------------------------\u001b[0m",
            "\u001b[0;31mAttributeError\u001b[0m                            Traceback (most recent call last)",
            "\u001b[0;32m<ipython-input-6-b1d9a501c873>\u001b[0m in \u001b[0;36m<cell line: 0>\u001b[0;34m()\u001b[0m\n\u001b[1;32m      1\u001b[0m \u001b[0mthistuple\u001b[0m \u001b[0;34m=\u001b[0m \u001b[0;34m(\u001b[0m\u001b[0;34m\"apple\"\u001b[0m\u001b[0;34m,\u001b[0m \u001b[0;34m\"banana\"\u001b[0m\u001b[0;34m,\u001b[0m \u001b[0;34m\"cherry\"\u001b[0m\u001b[0;34m)\u001b[0m\u001b[0;34m\u001b[0m\u001b[0;34m\u001b[0m\u001b[0m\n\u001b[0;32m----> 2\u001b[0;31m \u001b[0mthistuple\u001b[0m\u001b[0;34m.\u001b[0m\u001b[0mremove\u001b[0m\u001b[0;34m(\u001b[0m\u001b[0;34m\"apple\"\u001b[0m\u001b[0;34m)\u001b[0m\u001b[0;34m\u001b[0m\u001b[0;34m\u001b[0m\u001b[0m\n\u001b[0m\u001b[1;32m      3\u001b[0m \u001b[0mprint\u001b[0m\u001b[0;34m(\u001b[0m\u001b[0mthistuple\u001b[0m\u001b[0;34m)\u001b[0m\u001b[0;34m\u001b[0m\u001b[0;34m\u001b[0m\u001b[0m\n",
            "\u001b[0;31mAttributeError\u001b[0m: 'tuple' object has no attribute 'remove'"
          ]
        }
      ]
    },
    {
      "cell_type": "markdown",
      "source": [
        "16. What is a nested dictionary, and give an example of its use case\n",
        "\n",
        "    A nested dictionary in Python is a dictionary whose values are themselves dictionaries. This allows for a hierarchical structure, where you can organize data into multiple levels of key-value pairs. A common use case is storing information with a hierarchical structure, like employee records organized by department.\n",
        "    \n",
        "    Here's an example:\n",
        "    "
      ],
      "metadata": {
        "id": "qXzf82Nhka2c"
      }
    },
    {
      "cell_type": "code",
      "source": [
        "employees = {\n",
        "    \"Engineering\": {\n",
        "        \"John\": {\"id\": 101, \"salary\": 75000},\n",
        "        \"Jane\": {\"id\": 102, \"salary\": 80000}\n",
        "    },\n",
        "    \"Sales\": {\n",
        "        \"Peter\": {\"id\": 201, \"salary\": 60000},\n",
        "        \"Mary\": {\"id\": 202, \"salary\": 65000}\n",
        "    }\n",
        "}\n",
        "print( employees)"
      ],
      "metadata": {
        "colab": {
          "base_uri": "https://localhost:8080/"
        },
        "id": "pmqt7SyCnR0Q",
        "outputId": "0181b193-a460-4d05-f4d5-48629b4f9813"
      },
      "execution_count": null,
      "outputs": [
        {
          "output_type": "stream",
          "name": "stdout",
          "text": [
            "{'Engineering': {'John': {'id': 101, 'salary': 75000}, 'Jane': {'id': 102, 'salary': 80000}}, 'Sales': {'Peter': {'id': 201, 'salary': 60000}, 'Mary': {'id': 202, 'salary': 65000}}}\n"
          ]
        }
      ]
    },
    {
      "cell_type": "markdown",
      "source": [
        "17.  Describe the time complexity of accessing elements in a dictionary\n",
        "\n",
        "      The time complexity of accessing an element in a dictionary (also known as a hash table or associative array) is typically O(1), meaning it takes constant time regardless of the dictionary's size. This is because dictionaries use hashing to map keys to their corresponding values, allowing for direct access to the desired value in a single step\n",
        "\n"
      ],
      "metadata": {
        "id": "Z_Rpp4Cknvnq"
      }
    },
    {
      "cell_type": "markdown",
      "source": [
        "18.  In what situations are lists preferred over dictionaries\n",
        "\n",
        "    Lists are perfect when the data is based on integers indexes, or when the data needs to be maintained in a specific order, or where the data needs to be able to be sorted. Finding a data item in a list is only efficient if you know the index. Lists are also useful where the ordering is irrelevant.\n",
        "\n",
        "    Remember Python lists are not restricted to just storing strings, numbers etc - you can also store other lists and tuples.\n",
        "    A great example for using a list is something like a shopping list - in this case the ordering doesn’t matter."
      ],
      "metadata": {
        "id": "YHfi5Zbjp4z1"
      }
    },
    {
      "cell_type": "markdown",
      "source": [
        "19.  Why are dictionaries considered unordered, and how does that affect data retrieval\n",
        "\n",
        "    A dictionary is termed an unordered collection of objects because dictionaries do not maintain any inherent order of the items based on when they were added. In older versions of Python (before 3.7), dictionaries did not preserve insertion order at all. This meant that when you accessed or printed the items, the order could vary, as dictionaries were optimized for fast lookups rather than maintaining order.\n",
        "\n",
        "    Starting from Python 3.7, dictionaries do retain insertion order as an implementation detail, meaning elements appear in the order they were added when you print or iterate over them. However, they are still called \"unordered\" because their primary function is fast key-based access, and they are not intended to be used as ordered collections like lists or tuples. So even though they appear ordered in Python 3.7+, the emphasis is still on key-value mapping rather than sequence."
      ],
      "metadata": {
        "id": "Sy3LMAmMqiAu"
      }
    },
    {
      "cell_type": "markdown",
      "source": [
        "20.Explain the difference between a list and a dictionary in terms of data retrieval.\n",
        "\n",
        "\n",
        "    in terms of data retrieval, a dictionary excels at fast lookups by key, while a list is better suited for sequential access by index. Dictionaries use a hash-based approach, allowing for nearly instantaneous retrieval of a value when the key is known, whereas lists require traversing the list sequentially until the desired element is found.\n",
        "\n",
        "    Here's a more detailed breakdown:\n",
        "    Lists:\n",
        "    Elements are accessed by their position (index) in the sequence.\n",
        "    Retrieval time is proportional to the list's size, as elements need to be checked one by one.\n",
        "    Best for ordered collections where you know the position of the desired element.\n",
        "    Dictionaries:\n",
        "    Elements are accessed by their associated key.\n",
        "    Retrieval time is very fast (close to O(1) or constant time) due to the use of a hash table.\n",
        "    Ideal for scenarios where you need to quickly look up data based on a unique identifier."
      ],
      "metadata": {
        "id": "7eLnH0Jzrogu"
      }
    },
    {
      "cell_type": "markdown",
      "source": [
        "# Practical Questions\n"
      ],
      "metadata": {
        "id": "rPhIaH_RtyTA"
      }
    },
    {
      "cell_type": "code",
      "source": [
        " # 1. Write a code to create a string with your name and print it\n",
        "name = \"Abhishek\"\n",
        "print(name)"
      ],
      "metadata": {
        "colab": {
          "base_uri": "https://localhost:8080/"
        },
        "id": "LarVQ-Sjt4ek",
        "outputId": "6fded505-e772-44e1-e597-175dd8c5acac"
      },
      "execution_count": null,
      "outputs": [
        {
          "output_type": "stream",
          "name": "stdout",
          "text": [
            "Abhishek\n"
          ]
        }
      ]
    },
    {
      "cell_type": "code",
      "source": [
        "#2 Write a code to find the length of the string \"Hello World\"\n",
        "var_length = \"Hello World\"\n",
        "print(len(var_length))"
      ],
      "metadata": {
        "colab": {
          "base_uri": "https://localhost:8080/"
        },
        "id": "Ue4bQtgdulJV",
        "outputId": "807c6cd7-5d49-4006-bc73-63bd61c882b9"
      },
      "execution_count": null,
      "outputs": [
        {
          "output_type": "stream",
          "name": "stdout",
          "text": [
            "11\n"
          ]
        }
      ]
    },
    {
      "cell_type": "code",
      "source": [
        "#3  Write a code to slice the first 3 characters from the string \"Python Programming\"\n",
        "var= \"Python Programming\"\n",
        "\n",
        "print ( var[0:3])#index start from 0 ."
      ],
      "metadata": {
        "colab": {
          "base_uri": "https://localhost:8080/"
        },
        "id": "vlrj9Ol2vKqw",
        "outputId": "d96c7644-90dc-48cc-dd5a-931349c00676"
      },
      "execution_count": null,
      "outputs": [
        {
          "output_type": "stream",
          "name": "stdout",
          "text": [
            "Pyt\n"
          ]
        }
      ]
    },
    {
      "cell_type": "code",
      "source": [
        "#4  Write a code to convert the string \"hello\" to uppercase\n",
        "var = \"hello\"\n",
        "print(var.upper())"
      ],
      "metadata": {
        "colab": {
          "base_uri": "https://localhost:8080/"
        },
        "id": "s8OsR8inws_U",
        "outputId": "5d3206a3-c326-4431-a15b-1a6528735dbf"
      },
      "execution_count": null,
      "outputs": [
        {
          "output_type": "stream",
          "name": "stdout",
          "text": [
            "HELLO\n"
          ]
        }
      ]
    },
    {
      "cell_type": "code",
      "source": [
        "#5  Write a code to replace the word \"apple\" with \"orange\" in the string \"I like apple\"\n",
        "str =  \"I like apple\"\n",
        "x = str.replace(\"apple\",\"orange\")\n",
        "\n",
        "print(x)\n"
      ],
      "metadata": {
        "colab": {
          "base_uri": "https://localhost:8080/"
        },
        "id": "Pak9g2vLxd1h",
        "outputId": "ef77fcde-6583-42ac-9e21-70fc172fcd47"
      },
      "execution_count": null,
      "outputs": [
        {
          "output_type": "stream",
          "name": "stdout",
          "text": [
            "I like orange\n"
          ]
        }
      ]
    },
    {
      "cell_type": "code",
      "source": [
        "#6. Write a code to create a list with numbers 1 to 5 and print it\n",
        "lst = [1,2,3,4,5]\n",
        "print (lst)"
      ],
      "metadata": {
        "colab": {
          "base_uri": "https://localhost:8080/"
        },
        "id": "CReeh--iyFdz",
        "outputId": "565c0b98-24bd-47d4-86ed-19cfbaf03329"
      },
      "execution_count": null,
      "outputs": [
        {
          "output_type": "stream",
          "name": "stdout",
          "text": [
            "[1, 2, 3, 4, 5]\n"
          ]
        }
      ]
    },
    {
      "cell_type": "code",
      "source": [
        "#7.  Write a code to append the number 10 to the list [1, 2, 3, 4]\n",
        "\n",
        "lst = [1,2,3,4]\n",
        "lst.append(10)\n",
        "print (lst)"
      ],
      "metadata": {
        "colab": {
          "base_uri": "https://localhost:8080/"
        },
        "id": "yAhj3XPhUiLP",
        "outputId": "1152af96-4b98-4ac4-a370-cfc232f18397"
      },
      "execution_count": null,
      "outputs": [
        {
          "output_type": "stream",
          "name": "stdout",
          "text": [
            "[1, 2, 3, 4, 10]\n"
          ]
        }
      ]
    },
    {
      "cell_type": "code",
      "source": [
        " # 8 Write a code to remove the number 3 from the list [1, 2, 3, 4, 5]\n",
        "lst = [1,2,3,4,5]\n",
        "print (lst)\n",
        "lst.remove(3)#remove 3\n",
        "print (lst)"
      ],
      "metadata": {
        "colab": {
          "base_uri": "https://localhost:8080/"
        },
        "id": "NHt1nK_Pa55a",
        "outputId": "c56c4395-d641-40a6-fcb1-eec248dc82c8"
      },
      "execution_count": null,
      "outputs": [
        {
          "output_type": "stream",
          "name": "stdout",
          "text": [
            "[1, 2, 3, 4, 5]\n",
            "[1, 2, 4, 5]\n"
          ]
        }
      ]
    },
    {
      "cell_type": "code",
      "source": [
        "#9  Write a code to access the second element in the list ['a', 'b', 'c', 'd']\n",
        "lst = ['a', 'b', 'c', 'd']\n",
        "print (lst)\n",
        "lst.pop(1) #remove 2ns element  'b'\n",
        "print (lst)"
      ],
      "metadata": {
        "colab": {
          "base_uri": "https://localhost:8080/"
        },
        "id": "ze-32RIIb36-",
        "outputId": "848f7043-d33b-4d0c-aa2d-eaeeb2b07a56"
      },
      "execution_count": null,
      "outputs": [
        {
          "output_type": "stream",
          "name": "stdout",
          "text": [
            "['a', 'b', 'c', 'd']\n",
            "['a', 'c', 'd']\n"
          ]
        }
      ]
    },
    {
      "cell_type": "code",
      "source": [
        "# 10  Write a code to reverse the list [10, 20, 30, 40, 50].\n",
        "lst = [10, 20, 30, 40, 50]\n",
        "print (lst)\n",
        "lst.reverse()\n",
        "print (lst)"
      ],
      "metadata": {
        "colab": {
          "base_uri": "https://localhost:8080/"
        },
        "id": "sflRPkTgcY2-",
        "outputId": "8e331369-3ef5-4b23-fc17-8868cf585352"
      },
      "execution_count": null,
      "outputs": [
        {
          "output_type": "stream",
          "name": "stdout",
          "text": [
            "[10, 20, 30, 40, 50]\n",
            "[50, 40, 30, 20, 10]\n"
          ]
        }
      ]
    },
    {
      "cell_type": "code",
      "source": [
        "#11. Write a code to create a tuple with the elements 100, 200, 300 and print it.\n",
        "tup = (100, 200, 300)\n",
        "print (tup)"
      ],
      "metadata": {
        "colab": {
          "base_uri": "https://localhost:8080/"
        },
        "id": "pyqAQdKMctr5",
        "outputId": "f1becf3d-2eb3-41a7-9b4f-813aef9ccb7e"
      },
      "execution_count": null,
      "outputs": [
        {
          "output_type": "stream",
          "name": "stdout",
          "text": [
            "(100, 200, 300)\n"
          ]
        }
      ]
    },
    {
      "cell_type": "code",
      "source": [
        "#12  Write a code to access the second-to-last element of the tuple ('red', 'green', 'blue', 'yellow').\n",
        "tup = ('red', 'green', 'blue', 'yellow')\n",
        "print (tup)\n",
        "\n",
        "tup[1:] #Second-to-last element of the tuple"
      ],
      "metadata": {
        "colab": {
          "base_uri": "https://localhost:8080/"
        },
        "id": "WSgOXuBHdgIb",
        "outputId": "ea95ffa7-6439-4178-e853-6fbec899cbe3"
      },
      "execution_count": null,
      "outputs": [
        {
          "output_type": "stream",
          "name": "stdout",
          "text": [
            "('red', 'green', 'blue', 'yellow')\n"
          ]
        },
        {
          "output_type": "execute_result",
          "data": {
            "text/plain": [
              "('green', 'blue', 'yellow')"
            ]
          },
          "metadata": {},
          "execution_count": 23
        }
      ]
    },
    {
      "cell_type": "code",
      "source": [
        "#13   Write a code to find the minimum number in the tuple (10, 20, 5, 15).\n",
        "tup = (10, 20, 5, 15)\n",
        "min(tup)"
      ],
      "metadata": {
        "colab": {
          "base_uri": "https://localhost:8080/"
        },
        "id": "29Dg5oIhirwJ",
        "outputId": "b20ef829-cd9e-40a2-ff2d-3005972e1d7a"
      },
      "execution_count": null,
      "outputs": [
        {
          "output_type": "execute_result",
          "data": {
            "text/plain": [
              "5"
            ]
          },
          "metadata": {},
          "execution_count": 24
        }
      ]
    },
    {
      "cell_type": "code",
      "source": [
        "#14  14. Write a code to find the index of the element \"cat\" in the tuple ('dog', 'cat', 'rabbit').\n",
        "tup = ('dog', 'cat', 'rabbit')\n",
        "\n",
        "\n",
        "tup.index(\"cat\")"
      ],
      "metadata": {
        "colab": {
          "base_uri": "https://localhost:8080/"
        },
        "id": "VaOsP-vwlsL_",
        "outputId": "e74ec5a4-02a0-4eb4-d422-d363a2141c51"
      },
      "execution_count": null,
      "outputs": [
        {
          "output_type": "execute_result",
          "data": {
            "text/plain": [
              "1"
            ]
          },
          "metadata": {},
          "execution_count": 28
        }
      ]
    },
    {
      "cell_type": "code",
      "source": [
        "#15  Write a code to create a tuple containing three different fruits and check if \"kiwi\" is in it.\n",
        "tup1 =('Apple','Mango','kiwi'  )\n",
        "'kiwi' in tup1"
      ],
      "metadata": {
        "colab": {
          "base_uri": "https://localhost:8080/"
        },
        "id": "A5AJlBWjoRJL",
        "outputId": "f0d97de5-7015-43fb-fade-47afd21877a7"
      },
      "execution_count": null,
      "outputs": [
        {
          "output_type": "execute_result",
          "data": {
            "text/plain": [
              "True"
            ]
          },
          "metadata": {},
          "execution_count": 29
        }
      ]
    },
    {
      "cell_type": "code",
      "source": [
        "#16  Write a code to create a set with the elements 'a', 'b', 'c' and print it.\n",
        "s = {'a', 'b', 'c'}\n",
        "s\n"
      ],
      "metadata": {
        "colab": {
          "base_uri": "https://localhost:8080/"
        },
        "id": "iFdi0DrQo2Qy",
        "outputId": "891ff083-91cf-4dab-aeca-a8ba099b2887"
      },
      "execution_count": null,
      "outputs": [
        {
          "output_type": "execute_result",
          "data": {
            "text/plain": [
              "{'a', 'b', 'c'}"
            ]
          },
          "metadata": {},
          "execution_count": 30
        }
      ]
    },
    {
      "cell_type": "code",
      "source": [
        " #17. Write a code to clear all elements from the set {1, 2, 3, 4, 5}.\n",
        "\n",
        "s = {1, 2, 3, 4, 5}\n",
        "print(s)\n",
        "s.clear()\n",
        "print(s)"
      ],
      "metadata": {
        "colab": {
          "base_uri": "https://localhost:8080/"
        },
        "id": "mUiHLzgmppSa",
        "outputId": "4b910865-029a-4207-f909-71e1ecff1a96"
      },
      "execution_count": null,
      "outputs": [
        {
          "output_type": "stream",
          "name": "stdout",
          "text": [
            "{1, 2, 3, 4, 5}\n",
            "set()\n"
          ]
        }
      ]
    },
    {
      "cell_type": "code",
      "source": [
        " #18. Write a code to remove the element 4 from the set {1, 2, 3, 4}.\n",
        " s = {1, 2, 3, 4, 5}\n",
        " s.remove(4)\n",
        " s"
      ],
      "metadata": {
        "colab": {
          "base_uri": "https://localhost:8080/"
        },
        "id": "jdqJVxUhqLN-",
        "outputId": "da73fc2e-efe9-4efa-c937-ff08ed64dd48"
      },
      "execution_count": null,
      "outputs": [
        {
          "output_type": "execute_result",
          "data": {
            "text/plain": [
              "{1, 2, 3, 5}"
            ]
          },
          "metadata": {},
          "execution_count": 35
        }
      ]
    },
    {
      "cell_type": "code",
      "source": [
        " #19. Write a code to find the union of two sets {1, 2, 3} and {3, 4, 5}.\n",
        "s1= {1, 2, 3}\n",
        "s2= {3, 4, 5}\n",
        "s1|s2"
      ],
      "metadata": {
        "colab": {
          "base_uri": "https://localhost:8080/"
        },
        "id": "enEkM67eqlfQ",
        "outputId": "34b75db6-9e54-467a-8b13-48d020bc95d0"
      },
      "execution_count": null,
      "outputs": [
        {
          "output_type": "execute_result",
          "data": {
            "text/plain": [
              "{1, 2, 3, 4, 5}"
            ]
          },
          "metadata": {},
          "execution_count": 36
        }
      ]
    },
    {
      "cell_type": "code",
      "source": [
        "# 20. Write a code to find the intersection of two sets {1, 2, 3} and {2, 3, 4}.\n",
        "s1= {1, 2, 3}\n",
        "s2= {3, 4, 5}\n",
        "s1&s2"
      ],
      "metadata": {
        "colab": {
          "base_uri": "https://localhost:8080/"
        },
        "id": "ia3paiUHrEx9",
        "outputId": "923bfa92-dc0b-492a-9e74-c208604f5ee4"
      },
      "execution_count": null,
      "outputs": [
        {
          "output_type": "execute_result",
          "data": {
            "text/plain": [
              "{3}"
            ]
          },
          "metadata": {},
          "execution_count": 37
        }
      ]
    },
    {
      "cell_type": "code",
      "source": [
        "#  21. Write a code to create a dictionary with the keys \"name\", \"age\", and \"city\", and print it.\n",
        "dt = {\"name\":\"Abhishek\", \"age\":40, \"city\": \"Pune\"}\n",
        "dt"
      ],
      "metadata": {
        "colab": {
          "base_uri": "https://localhost:8080/"
        },
        "id": "-XdCb4_KruyT",
        "outputId": "c3fc2777-f0a5-4c85-c9b0-eab1a1a57061"
      },
      "execution_count": null,
      "outputs": [
        {
          "output_type": "execute_result",
          "data": {
            "text/plain": [
              "{'name': 'Abhishek', 'age': 40, 'city': 'Pune'}"
            ]
          },
          "metadata": {},
          "execution_count": 38
        }
      ]
    },
    {
      "cell_type": "code",
      "source": [
        "# 22. Write a code to add a new key-value pair \"country\": \"USA\" to the dictionary {'name': 'John', 'age': 25}.\n",
        "dt = {'name': 'John', 'age': 25}\n",
        "dt\n",
        "dt.update({\"country\": \"USA\"})\n",
        "dt\n"
      ],
      "metadata": {
        "colab": {
          "base_uri": "https://localhost:8080/"
        },
        "id": "-E0LqrPZssPy",
        "outputId": "a01d68f9-ccd9-46d4-9d3e-18ef11db2555"
      },
      "execution_count": null,
      "outputs": [
        {
          "output_type": "execute_result",
          "data": {
            "text/plain": [
              "{'name': 'John', 'age': 25, 'country': 'USA'}"
            ]
          },
          "metadata": {},
          "execution_count": 41
        }
      ]
    },
    {
      "cell_type": "code",
      "source": [
        "# 23. Write a code to access the value associated with the key \"name\" in the dictionary {'name': 'Alice', 'age': 30}.\n",
        "\n",
        "dt1 = {'name': 'Alice', 'age': 30}\n",
        "dt1.get(\"name\")"
      ],
      "metadata": {
        "colab": {
          "base_uri": "https://localhost:8080/",
          "height": 35
        },
        "id": "CBJsuUHju4Hi",
        "outputId": "c8940a4e-902b-46a3-f004-3cd983ca3165"
      },
      "execution_count": null,
      "outputs": [
        {
          "output_type": "execute_result",
          "data": {
            "text/plain": [
              "'Alice'"
            ],
            "application/vnd.google.colaboratory.intrinsic+json": {
              "type": "string"
            }
          },
          "metadata": {},
          "execution_count": 42
        }
      ]
    },
    {
      "cell_type": "code",
      "source": [
        "#24  Write a code to remove the key \"age\" from the dictionary {'name': 'Bob', 'age': 22, 'city': 'New York'}.\n",
        "dt1 ={'name': 'Bob', 'age': 22, 'city': 'New York'}\n",
        "dt1\n",
        "dt1.pop(\"age\")\n",
        "dt1"
      ],
      "metadata": {
        "colab": {
          "base_uri": "https://localhost:8080/"
        },
        "id": "snJMo9UpyCc8",
        "outputId": "2aee190f-176e-4351-a7f6-6162757cbdd5"
      },
      "execution_count": null,
      "outputs": [
        {
          "output_type": "execute_result",
          "data": {
            "text/plain": [
              "{'name': 'Bob', 'city': 'New York'}"
            ]
          },
          "metadata": {},
          "execution_count": 46
        }
      ]
    },
    {
      "cell_type": "code",
      "source": [
        " #25. Write a code to check if the key \"city\" exists in the dictionary {'name': 'Alice', 'city': 'Paris'}.\n",
        "\n",
        "dt1 =  {'name': 'Alice', 'city': 'Paris'}\n",
        "key = 'city'\n",
        "print(key in dt1)"
      ],
      "metadata": {
        "colab": {
          "base_uri": "https://localhost:8080/"
        },
        "id": "IOc61AGXylOw",
        "outputId": "207b8f46-b11b-4f96-a11b-b3c8a407f267"
      },
      "execution_count": null,
      "outputs": [
        {
          "output_type": "stream",
          "name": "stdout",
          "text": [
            "True\n"
          ]
        }
      ]
    },
    {
      "cell_type": "code",
      "source": [
        " #26. Write a code to create a list, a tuple, and a dictionary, and print them all.\n",
        "\n",
        "#list\n",
        "grocery_list = [\"Milk\", \"Orange\", 1, 2.2, True, 3+5j]\n",
        "#tuple\n",
        "t = (\"pwskills\", \"Ajay\", 2, 2.3, True, 3+5j)\n",
        "\n",
        "#dictionary\n",
        "d = {\"name\":\"Abhi\", \"email\":\"abhi@gmail.com\", \"contact\": 1234}\n",
        "\n",
        "print(\"list:- \" ,grocery_list)\n",
        "print(\"tuple:- \",t)\n",
        "print(\"dictionary:- \",d)\n"
      ],
      "metadata": {
        "colab": {
          "base_uri": "https://localhost:8080/"
        },
        "id": "k7iIXFIkzoiT",
        "outputId": "5d0ca5c3-8c55-49cf-ea6d-4880514ac46b"
      },
      "execution_count": null,
      "outputs": [
        {
          "output_type": "stream",
          "name": "stdout",
          "text": [
            "list:-  ['Milk', 'Orange', 1, 2.2, True, (3+5j)]\n",
            "tuple:-  ('pwskills', 'Ajay', 2, 2.3, True, (3+5j))\n",
            "dictionary:-  {'name': 'Abhi', 'email': 'abhi@gmail.com', 'contact': 1234}\n"
          ]
        }
      ]
    },
    {
      "cell_type": "code",
      "source": [
        "#27  Write a code to create a list of 5 random numbers between 1 and 100, sort it in ascending order, and print the\n",
        "lst = [56,9,1,54,59]\n",
        "lst.sort()\n",
        "lst"
      ],
      "metadata": {
        "colab": {
          "base_uri": "https://localhost:8080/"
        },
        "id": "QYpVt9vO0t18",
        "outputId": "e040b2e9-b7be-4391-afe4-e6d4971c544a"
      },
      "execution_count": null,
      "outputs": [
        {
          "output_type": "execute_result",
          "data": {
            "text/plain": [
              "[1, 9, 54, 56, 59]"
            ]
          },
          "metadata": {},
          "execution_count": 54
        }
      ]
    },
    {
      "cell_type": "code",
      "source": [
        "#28. Write a code to create a list with strings and print the element at the third index.\n",
        "grocery_list = [\"Milk\", \"Orange\", \"mango\", \"Oil\" ]\n",
        "grocery_list[3]"
      ],
      "metadata": {
        "colab": {
          "base_uri": "https://localhost:8080/",
          "height": 35
        },
        "id": "nx9DGPJC1ao5",
        "outputId": "5014cb91-50b9-46d8-efa2-d51556bd57de"
      },
      "execution_count": null,
      "outputs": [
        {
          "output_type": "execute_result",
          "data": {
            "text/plain": [
              "'Oil'"
            ],
            "application/vnd.google.colaboratory.intrinsic+json": {
              "type": "string"
            }
          },
          "metadata": {},
          "execution_count": 56
        }
      ]
    },
    {
      "cell_type": "code",
      "source": [
        "# 29. Write a code to combine two dictionaries into one and print the result.\n",
        "\n",
        "d1 = {'x': 1, 'y': 2}\n",
        "d2 = {'y': 3, 'z': 4}\n",
        "\n",
        "d3 = d1 | d2\n",
        "print(d3)"
      ],
      "metadata": {
        "colab": {
          "base_uri": "https://localhost:8080/"
        },
        "id": "q4wv_dng1s-Q",
        "outputId": "1b242371-d063-4ba1-d880-70b52e9a9ba6"
      },
      "execution_count": null,
      "outputs": [
        {
          "output_type": "stream",
          "name": "stdout",
          "text": [
            "{'x': 1, 'y': 3, 'z': 4}\n"
          ]
        }
      ]
    },
    {
      "cell_type": "code",
      "source": [
        "# 30. Write a code to convert a list of strings into a set.\n",
        "myList = [1, 2, 3, 4, 4]\n",
        "mySet = set(myList)\n",
        "print(mySet)"
      ],
      "metadata": {
        "colab": {
          "base_uri": "https://localhost:8080/"
        },
        "id": "j1utyW7M2dqq",
        "outputId": "39efafde-9a4f-481b-f9b5-fda331b513a3"
      },
      "execution_count": null,
      "outputs": [
        {
          "output_type": "stream",
          "name": "stdout",
          "text": [
            "{1, 2, 3, 4}\n"
          ]
        }
      ]
    }
  ]
}