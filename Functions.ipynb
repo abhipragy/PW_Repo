{
  "nbformat": 4,
  "nbformat_minor": 0,
  "metadata": {
    "colab": {
      "provenance": []
    },
    "kernelspec": {
      "name": "python3",
      "display_name": "Python 3"
    },
    "language_info": {
      "name": "python"
    }
  },
  "cells": [
    {
      "cell_type": "markdown",
      "source": [],
      "metadata": {
        "id": "MYYTuUk0oXqd"
      }
    },
    {
      "cell_type": "markdown",
      "source": [
        "1.What is the difference between a function and a method in Python?\n",
        "\n",
        "  A function is a block of code (or statement) that performs a specific task and runs only when it is called. There are mainly two types of functions in Python.\n",
        "\n",
        "  Types of Functions:\n",
        "\n",
        "    Built-in Function: Built-in functions are the pre-defined function in Python that can be directly used.\n",
        "    User-Defined Function: They are not pre-defined functions. The user creates their own function to fulfill their specific needs."
      ],
      "metadata": {
        "id": "opcpkJSsoZKG"
      }
    },
    {
      "cell_type": "code",
      "source": [
        "#example\n",
        "#Define a function\n",
        "def factorial(n):\n",
        "    return 1 if (n==1 or n==0) else n * factorial(n-1);\n",
        "\n",
        "#Enter input\n",
        "n = int(input(\"Enter input number : \"))\n",
        "\n",
        "print(\"The factorial of\",n,\"is\",factorial(n))"
      ],
      "metadata": {
        "id": "Z45fhvR-pN_m"
      },
      "execution_count": null,
      "outputs": []
    },
    {
      "cell_type": "markdown",
      "source": [
        "  Methods :- As Python is an Object-Oriented Programming language, so it contains objects, and these objects have different properties and behavior. Methods in Python are used to define the behavior of the python objects.\n",
        "\n",
        "  It facilitates code reusability by creating various methods or functions in the program.\n",
        "  It also improves readability and accessibility to a particular code block.\n",
        "  Methods creation makes it easy to debug for the programmers."
      ],
      "metadata": {
        "id": "KWNuENISpapO"
      }
    },
    {
      "cell_type": "code",
      "source": [
        "#example\n",
        "#Define a class\n",
        "class Employee(object):\n",
        "   def my_method(self):\n",
        "      print(\"I am Abhishek\")\n",
        "name = Employee()\n",
        "name.my_method()"
      ],
      "metadata": {
        "id": "153EQIq-pkRa"
      },
      "execution_count": null,
      "outputs": []
    },
    {
      "cell_type": "markdown",
      "source": [
        "    Key Difference Between Methods and Function\n",
        "    Method definition is always present inside the class, while the class is not required to define the function.\n",
        "    Functions can have a zero parameter, whereas the method should have a default parameter, either self or cls, to get the object.\n",
        "    The method operates the data in the class, while a function is used to return or pass the data.\n",
        "    A function can be directly called by its name, while a method can’t be called by its name.\n",
        "    The method lies under Object-Oriented Programming, while a function is an independent functionality."
      ],
      "metadata": {
        "id": "VHaDJur1pxA7"
      }
    },
    {
      "cell_type": "markdown",
      "source": [
        " 2. Explain the concept of function arguments and parameters in Python.\n",
        "\n",
        "    Parameters are variables defined in a function declaration. This act as placeholders for the values (arguments) that will be passed to the function.\n",
        "\n",
        "    Arguments are the actual values that you pass to the function when you call it. These values replace the parameters defined in the function.\n",
        "\n",
        "    Although these terms are often used interchangeably, they have distinct roles within a function. This article focuses to clarify them and help us to use Parameters and Arguments effectively.\n",
        "\n",
        "    Parameters\n",
        "    A parameter is the variable defined within the parentheses when we declare a function.\n"
      ],
      "metadata": {
        "id": "cD3FdiSLp5dU"
      }
    },
    {
      "cell_type": "code",
      "source": [
        "# Here a,b are the parameters\n",
        "def sum(a,b):\n",
        "  print(a+b)\n",
        "\n",
        "sum(1,2)"
      ],
      "metadata": {
        "colab": {
          "base_uri": "https://localhost:8080/"
        },
        "id": "ws233mMDqcLk",
        "outputId": "3e71f38d-d7be-491a-db10-c905a0fb1587"
      },
      "execution_count": 1,
      "outputs": [
        {
          "output_type": "stream",
          "name": "stdout",
          "text": [
            "3\n"
          ]
        }
      ]
    },
    {
      "cell_type": "markdown",
      "source": [
        "    Arguments\n",
        "    An argument is a value that is passed to a function when it is called. It might be a variable, value or object passed to a function or method as input."
      ],
      "metadata": {
        "id": "Q4F40nrgqmv0"
      }
    },
    {
      "cell_type": "code",
      "source": [
        "#example\n",
        "def sum(a,b):\n",
        "  print(a+b)\n",
        "\n",
        "# Here the values 1,2 are arguments\n",
        "sum(1,2)\n"
      ],
      "metadata": {
        "colab": {
          "base_uri": "https://localhost:8080/"
        },
        "id": "KJGqIAGuqkTF",
        "outputId": "5e47eb93-ecab-4c20-c6d2-a2cba34afd6d"
      },
      "execution_count": 2,
      "outputs": [
        {
          "output_type": "stream",
          "name": "stdout",
          "text": [
            "3\n"
          ]
        }
      ]
    },
    {
      "cell_type": "markdown",
      "source": [
        " 3. What are the different ways to define and call a function in Python?\n",
        "\n",
        "\n",
        "    In Python, functions can be defined and called in several ways:\n",
        "    \n",
        "    1. Standard Function Definition\n",
        "    This is the most common way to define a function, using the def keyword, followed by the function name, parentheses for parameters, and a colon. The function body is indented below."
      ],
      "metadata": {
        "id": "xTN0BXvhq5iC"
      }
    },
    {
      "cell_type": "code",
      "source": [
        "def greet(name):\n",
        "    return f\"Hello, {name}!\"\n",
        "\n",
        "# Calling the function\n",
        "message = greet(\"World\")\n",
        "print(message) # Output: Hello, World!"
      ],
      "metadata": {
        "colab": {
          "base_uri": "https://localhost:8080/"
        },
        "id": "cJvo2FQarIYt",
        "outputId": "3a1628fb-ac80-4b43-dc54-6500cfd84927"
      },
      "execution_count": 3,
      "outputs": [
        {
          "output_type": "stream",
          "name": "stdout",
          "text": [
            "Hello, World!\n"
          ]
        }
      ]
    },
    {
      "cell_type": "markdown",
      "source": [
        "      2. Lambda Functions\n",
        "      These are anonymous, small, and single-expression functions defined using the lambda keyword."
      ],
      "metadata": {
        "id": "56cPgOLSrVun"
      }
    },
    {
      "cell_type": "markdown",
      "source": [],
      "metadata": {
        "id": "0jInN16Qpg6k"
      }
    },
    {
      "cell_type": "code",
      "source": [
        "add = lambda x, y: x + y\n",
        "\n",
        "# Calling the lambda function\n",
        "result = add(5, 3)\n",
        "print(result) # Output: 8"
      ],
      "metadata": {
        "colab": {
          "base_uri": "https://localhost:8080/"
        },
        "id": "FLmNJMTprSXk",
        "outputId": "4c712e3c-4707-4338-d8a9-017667c040b5"
      },
      "execution_count": 4,
      "outputs": [
        {
          "output_type": "stream",
          "name": "stdout",
          "text": [
            "8\n"
          ]
        }
      ]
    },
    {
      "cell_type": "markdown",
      "source": [
        "    3. Nested Functions\n",
        "    Functions can be defined inside other functions."
      ],
      "metadata": {
        "id": "t7MqFa_jreO4"
      }
    },
    {
      "cell_type": "code",
      "source": [
        "def outer_function():\n",
        "    def inner_function():\n",
        "        return \"Hello from inner function!\"\n",
        "    return inner_function()\n",
        "\n",
        "# Calling the outer function (which implicitly calls the inner function)\n",
        "message = outer_function()\n",
        "print(message) # Output: Hello from inner function!"
      ],
      "metadata": {
        "colab": {
          "base_uri": "https://localhost:8080/"
        },
        "id": "V3QMl2l1rqha",
        "outputId": "11c61c03-f8cc-409f-fc8b-26b63af216e8"
      },
      "execution_count": 5,
      "outputs": [
        {
          "output_type": "stream",
          "name": "stdout",
          "text": [
            "Hello from inner function!\n"
          ]
        }
      ]
    },
    {
      "cell_type": "markdown",
      "source": [
        "      4. Recursive Functions\n",
        "          A function can call itself, which is useful for repetitive tasks that can be broken down into smaller, self-similar subproblems."
      ],
      "metadata": {
        "id": "qk4sS0tqrufp"
      }
    },
    {
      "cell_type": "code",
      "source": [
        "def factorial(n):\n",
        "    if n == 0:\n",
        "        return 1\n",
        "    else:\n",
        "        return n * factorial(n - 1)\n",
        "\n",
        "# Calling the recursive function\n",
        "result = factorial(5)\n",
        "print(result) # Output: 120"
      ],
      "metadata": {
        "colab": {
          "base_uri": "https://localhost:8080/"
        },
        "id": "aSmrDMCTryR1",
        "outputId": "879feb8f-36a9-4281-c7c5-757beed0e313"
      },
      "execution_count": 6,
      "outputs": [
        {
          "output_type": "stream",
          "name": "stdout",
          "text": [
            "120\n"
          ]
        }
      ]
    },
    {
      "cell_type": "markdown",
      "source": [
        "   5. Functions with Default Parameters\n",
        "      You can define default values for function parameters, which are used if the caller doesn't provide them."
      ],
      "metadata": {
        "id": "417_RRGYr3pT"
      }
    },
    {
      "cell_type": "code",
      "source": [
        "def greet(name=\"Guest\"):\n",
        "    return f\"Hello, {name}!\"\n",
        "\n",
        "# Calling the function with and without an argument\n",
        "print(greet()) # Output: Hello, Guest!\n",
        "print(greet(\"Alice\")) # Output: Hello, Alice!"
      ],
      "metadata": {
        "colab": {
          "base_uri": "https://localhost:8080/"
        },
        "id": "uedcj4Q1r-_A",
        "outputId": "826a537b-4047-4146-82b3-8c467f91e8a7"
      },
      "execution_count": 7,
      "outputs": [
        {
          "output_type": "stream",
          "name": "stdout",
          "text": [
            "Hello, Guest!\n",
            "Hello, Alice!\n"
          ]
        }
      ]
    },
    {
      "cell_type": "markdown",
      "source": [
        "    6. Functions with *args and **kwargs\n",
        "        These allow a function to accept a variable number of positional and keyword arguments, respectively."
      ],
      "metadata": {
        "id": "_JlWYM7OsIFW"
      }
    },
    {
      "cell_type": "code",
      "source": [
        "def print_args(*args, **kwargs):\n",
        "    for arg in args:\n",
        "        print(f\"Positional argument: {arg}\")\n",
        "    for key, value in kwargs.items():\n",
        "        print(f\"Keyword argument: {key} = {value}\")\n",
        "\n",
        "# Calling the function with various arguments\n",
        "print_args(1, 2, 3, name=\"John\", age=30)\n",
        "# Output:\n",
        "# Positional argument: 1\n",
        "# Positional argument: 2\n",
        "# Positional argument: 3\n",
        "# Keyword argument: name = John\n",
        "# Keyword argument: age = 30"
      ],
      "metadata": {
        "colab": {
          "base_uri": "https://localhost:8080/"
        },
        "id": "0pTg91UUsL5e",
        "outputId": "e4dd6fe1-0de0-421a-8dc5-64a105b2cd26"
      },
      "execution_count": 8,
      "outputs": [
        {
          "output_type": "stream",
          "name": "stdout",
          "text": [
            "Positional argument: 1\n",
            "Positional argument: 2\n",
            "Positional argument: 3\n",
            "Keyword argument: name = John\n",
            "Keyword argument: age = 30\n"
          ]
        }
      ]
    },
    {
      "cell_type": "markdown",
      "source": [
        " 4. What is the purpose of the `return` statement in a Python function?\n",
        "\n",
        "\n",
        "    The return statement in Python has two primary purposes within a function: it exits the function and specifies the value to be returned to the caller. This returned value can then be used in the calling code for further processing or assignment. If a function doesn't have a return statement, it implicitly returns None.\n",
        "    Here's a breakdown:\n",
        "    Exiting the function:\n",
        "    Once a return statement is executed, the function's execution immediately stops, and control is transferred back to the part of the code that called the function.\n",
        "    Returning a value:\n",
        "    The return statement can optionally specify a value (or multiple values) to be sent back to the caller. This value can be any valid Python object (e.g., numbers, strings, lists, etc.).\n",
        "    Default return value:\n",
        "    If a function doesn't have a return statement at all, or if the execution reaches the end of the function without encountering a return statement, it implicitly returns None.\n",
        "    Multiple return values:\n",
        "    A function can also return multiple values by separating them with commas in the return statement. These values are returned as a tuple."
      ],
      "metadata": {
        "id": "FLYn-z3jseFi"
      }
    },
    {
      "cell_type": "code",
      "source": [
        "def add(x, y):\n",
        "  \"\"\"This function adds two numbers and returns the result.\"\"\"\n",
        "  return x + y\n",
        "\n",
        "result = add(5, 3)  # The function returns 8\n",
        "print(result)  # Output: 8"
      ],
      "metadata": {
        "colab": {
          "base_uri": "https://localhost:8080/"
        },
        "id": "kgV55brxs11f",
        "outputId": "da9e6c52-8a40-4109-b239-cabfb7ad606c"
      },
      "execution_count": 9,
      "outputs": [
        {
          "output_type": "stream",
          "name": "stdout",
          "text": [
            "8\n"
          ]
        }
      ]
    },
    {
      "cell_type": "markdown",
      "source": [
        " 5. What are iterators in Python and how do they differ from iterables?\n",
        "\n",
        "    An iterator is an object that contains a countable number of values.\n",
        "\n",
        "    An iterator is an object that can be iterated upon, meaning that you can traverse through all the values.\n",
        "\n",
        "    Technically, in Python, an iterator is an object which implements the iterator protocol, which consist of the methods __iter__() and __next__().\n",
        "\n",
        "    Iterator vs Iterable\n",
        "      Lists, tuples, dictionaries, and sets are all iterable objects. They are iterable containers which you can get an iterator from.\n",
        "\n",
        "      All these objects have a iter() method which is used to get an iterator:\n"
      ],
      "metadata": {
        "id": "3nmPAuAss5-X"
      }
    },
    {
      "cell_type": "code",
      "source": [
        "mytuple = (\"apple\", \"banana\", \"cherry\")\n",
        "myit = iter(mytuple)\n",
        "\n",
        "print(next(myit))\n",
        "print(next(myit))\n",
        "print(next(myit))"
      ],
      "metadata": {
        "colab": {
          "base_uri": "https://localhost:8080/"
        },
        "id": "2zKvMNsys5CO",
        "outputId": "b86d432a-fd07-409e-aa98-b867789c1c29"
      },
      "execution_count": 10,
      "outputs": [
        {
          "output_type": "stream",
          "name": "stdout",
          "text": [
            "apple\n",
            "banana\n",
            "cherry\n"
          ]
        }
      ]
    },
    {
      "cell_type": "markdown",
      "source": [
        " 6. Explain the concept of generators in Python and how they are defined.\n",
        "\n",
        "    In Python, a generator is a function that returns an iterator that produces a sequence of values when iterated over.\n",
        "\n",
        "    Generators are useful when we want to produce a large sequence of values, but we don't want to store all of them in memory at once.\n",
        "\n",
        "    In Python, similar to defining a normal function, we can define a generator function using the def keyword, but instead of the return statement we use the yield statement.\n",
        "\n",
        "    Here, the yield keyword is used to produce a value from the generator.\n",
        "\n",
        "    When the generator function is called, it does not execute the function body immediately. Instead, it returns a generator object that can be iterated over to produce the values.\n"
      ],
      "metadata": {
        "id": "JxmYRl7vtVEE"
      }
    },
    {
      "cell_type": "code",
      "source": [
        "def my_generator(n):\n",
        "\n",
        "    # initialize counter\n",
        "    value = 0\n",
        "\n",
        "    # loop until counter is less than n\n",
        "    while value < n:\n",
        "\n",
        "        # produce the current value of the counter\n",
        "        yield value\n",
        "\n",
        "        # increment the counter\n",
        "        value += 1\n",
        "\n",
        "# iterate over the generator object produced by my_generator\n",
        "for value in my_generator(3):\n",
        "\n",
        "    # print each value produced by generator\n",
        "    print(value)"
      ],
      "metadata": {
        "colab": {
          "base_uri": "https://localhost:8080/"
        },
        "id": "lmpZ-7kttuMU",
        "outputId": "b053a4be-5d2b-47a2-9875-968c5d728a60"
      },
      "execution_count": 11,
      "outputs": [
        {
          "output_type": "stream",
          "name": "stdout",
          "text": [
            "0\n",
            "1\n",
            "2\n"
          ]
        }
      ]
    },
    {
      "cell_type": "markdown",
      "source": [
        " 7. What are the advantages of using generators over regular functions?\n",
        "\n",
        "    Generators offer several advantages over regular functions, primarily related to memory efficiency and performance, especially when dealing with large datasets or infinite sequences. They generate values on demand, reducing the memory footprint and enabling lazy evaluation, which can improve performance. Additionally, generators can be easily composed to create powerful data processing pipelines.\n",
        "  \n",
        "    Here's a more detailed breakdown of the advantages:\n",
        "    Memory Efficiency:\n",
        "    Generators produce values one at a time, unlike regular functions that generate and store the entire sequence in memory. This is particularly beneficial when working with large datasets or infinite sequences where storing the entire result would be impractical or impossible.\n",
        "    Lazy Evaluation:\n",
        "    Generators evaluate expressions only when needed, providing a performance boost, especially when dealing with complex calculations or large amounts of data.\n",
        "    Composability:\n",
        "    Generators can be chained together to create powerful data processing pipelines, enabling efficient and modular code.\n",
        "    Readability and Conciseness:\n",
        "    Generators often lead to more concise and readable code compared to traditional loops, as they can express iterative logic in a more compact way.\n",
        "    Infinite Sequences:\n",
        "    Generators can easily handle infinite sequences by generating values on demand, without needing to store them all in memory.\n",
        "    Resource Pipeline:\n",
        "    Generators enable creating resource pipelines, where data processing tasks are divided into a sequence of generator functions, each processing a segment of data and forwarding it to the next stage.\n"
      ],
      "metadata": {
        "id": "pXuICUCwt0X4"
      }
    },
    {
      "cell_type": "code",
      "source": [
        "# generator function\n",
        "def Square():\n",
        "\n",
        "    number = 2\n",
        "\n",
        "    #Create infinite loop\n",
        "    while True:\n",
        "        # Yield the current value of 'number'\n",
        "        yield number\n",
        "\n",
        "        # Calculate the square of 'number' and update its value\n",
        "        number *= number\n",
        "\n",
        "# Create a generator object 'Sq' by calling the 'Square()' generator function\n",
        "Sq = Square()\n",
        "\n",
        "print(next(Sq))  # Output: 2\n",
        "\n",
        "\n",
        "print(next(Sq))  # Output: 4\n",
        ""
      ],
      "metadata": {
        "colab": {
          "base_uri": "https://localhost:8080/"
        },
        "id": "4RWoA_pjtz2v",
        "outputId": "d5801848-3f9c-4f3c-89b0-3f18e763272f"
      },
      "execution_count": 19,
      "outputs": [
        {
          "output_type": "stream",
          "name": "stdout",
          "text": [
            "2\n",
            "4\n",
            "16\n"
          ]
        }
      ]
    },
    {
      "cell_type": "markdown",
      "source": [
        " 8. What is a lambda function in Python and when is it typically used?\n",
        "\n",
        "\n",
        "    A lambda function in Python is a small, anonymous function defined using the lambda keyword. It's typically used for single-purpose, short-term tasks, especially when passing a function as an argument to another function.\n",
        "    Key Characteristics and Use Cases:\n",
        "    Anonymous:\n",
        "    Lambda functions don't have a name, making them ideal for one-time use.\n",
        "    Concise:\n",
        "    They are designed to be short and simple, typically containing a single expression.\n",
        "    Higher-Order Functions:\n",
        "    They are commonly used as arguments to functions like map(), filter(), and sorted().\n",
        "    Inline Functions:\n",
        "    Lambda functions are often defined and used inline within a single line of code, making them compact and easy to read.\n",
        "    Data Processing:\n",
        "    In data science, they are used for tasks like filtering, mapping, and transforming data within DataFrames."
      ],
      "metadata": {
        "id": "cUPnLDAGu0eo"
      }
    },
    {
      "cell_type": "code",
      "source": [
        "# Using a lambda function with map()\n",
        "numbers = [1, 2, 3, 4, 5]\n",
        "doubled_numbers = list(map(lambda x: x * 2, numbers))  # Doubles each number in 'numbers'\n",
        "print(doubled_numbers)  # Output: [2, 4, 6, 8, 10]\n",
        "\n",
        "# Using a lambda function with filter()\n",
        "even_numbers = list(filter(lambda x: x % 2 == 0, numbers)) # Filters for even numbers\n",
        "print(even_numbers) # Output: [2, 4]"
      ],
      "metadata": {
        "colab": {
          "base_uri": "https://localhost:8080/"
        },
        "id": "QI_VcNUvu9V3",
        "outputId": "c9519e97-b48c-4e31-b457-3a6d366e6310"
      },
      "execution_count": 20,
      "outputs": [
        {
          "output_type": "stream",
          "name": "stdout",
          "text": [
            "[2, 4, 6, 8, 10]\n",
            "[2, 4]\n"
          ]
        }
      ]
    },
    {
      "cell_type": "markdown",
      "source": [
        " 9. Explain the purpose and usage of the `map()` function in Python.\n",
        "    The map() function in Python serves to apply a given function to each item of an iterable (such as a list or tuple), returning a map object, which is an iterator that yields the results. It offers a concise way to perform operations on sequences without explicit loops."
      ],
      "metadata": {
        "id": "pYygGpWkvEyn"
      }
    },
    {
      "cell_type": "code",
      "source": [
        "def square(n):\n",
        "  return n * n\n",
        "\n",
        "numbers = [1, 2, 3, 4, 5]\n",
        "squared_numbers = map(square, numbers)\n",
        "\n",
        "print(list(squared_numbers))\n",
        "# Expected Output: [1, 4, 9, 16, 25]"
      ],
      "metadata": {
        "colab": {
          "base_uri": "https://localhost:8080/"
        },
        "id": "XvOph9gMvCRQ",
        "outputId": "fe37b057-c860-40a0-8392-2d3427d4b2fa"
      },
      "execution_count": 21,
      "outputs": [
        {
          "output_type": "stream",
          "name": "stdout",
          "text": [
            "[1, 4, 9, 16, 25]\n"
          ]
        }
      ]
    },
    {
      "cell_type": "markdown",
      "source": [
        " 10. What is the difference between `map()`, `reduce()`, and `filter()` functions in Python?\n",
        "\n",
        "    The map(), reduce(), and filter() functions are built-in higher-order functions in Python that operate on iterables (like lists, tuples, etc.). They each serve distinct purposes:\n",
        "\n",
        "    map():\n",
        "    Applies a given function to each item in an iterable and returns an iterator that yields the results. It transforms each element individually.\n",
        "\n",
        "    filter():\n",
        "    Creates an iterator from elements of an iterable for which a function returns True. It selectively keeps elements based on a condition.\n",
        "    \n",
        "    reduce():\n",
        "    Applies a function cumulatively to the items of an iterable, from left to right, to reduce the iterable to a single value. It performs an aggregate computation."
      ],
      "metadata": {
        "id": "i2vFt8E9r-Fu"
      }
    },
    {
      "cell_type": "markdown",
      "source": [],
      "metadata": {
        "id": "1yyfUZD3vYV1"
      }
    },
    {
      "cell_type": "code",
      "source": [
        "from functools import reduce # reduce needs to be imported\n",
        "\n",
        "numbers = [1, 2, 3, 4, 5]\n",
        "\n",
        "# map: squares each number\n",
        "squared_numbers = list(map(lambda x: x**2, numbers)) # Output: [1, 4, 9, 16, 25]\n",
        "\n",
        "# filter: keeps only even numbers\n",
        "even_numbers = list(filter(lambda x: x % 2 == 0, numbers)) # Output: [2, 4]\n",
        "\n",
        "# reduce: calculates the product of all numbers\n",
        "product = reduce(lambda x, y: x * y, numbers) # Output: 120"
      ],
      "metadata": {
        "id": "KWH6_uqEvXcY"
      },
      "execution_count": 22,
      "outputs": []
    },
    {
      "cell_type": "markdown",
      "source": [
        " 11.  write the internal mechanism for sum operation using  reduce function on this given  list:[47,11,42,13];\n"
      ],
      "metadata": {
        "id": "xRxwAkg8wKhl"
      }
    },
    {
      "cell_type": "code",
      "source": [
        "'''\n",
        "from functools import reduce\n",
        "result = reduce(lambda x, y: x + y, [47, 11, 42, 13])\n",
        "#Step 1: Apply the lambda on first two elements\n",
        "\n",
        "x = 47\n",
        "y = 11\n",
        "x + y = 58\n",
        "\n",
        "New intermediate value: 58\n",
        "\n",
        "Step 2: Apply the lambda on result and next element\n",
        "x = 58\n",
        "y = 42\n",
        "x + y = 100\n",
        "\n",
        "Step 3: Apply the lambda on result and next element\n",
        "\n",
        "x = 100\n",
        "y = 13\n",
        "x + y = 113\n",
        "Final Result:\n",
        "'''"
      ],
      "metadata": {
        "colab": {
          "base_uri": "https://localhost:8080/",
          "height": 70
        },
        "id": "EdKz-WJjwUxB",
        "outputId": "57dd00c8-d985-4b5c-cd43-168aa0c9411b"
      },
      "execution_count": 24,
      "outputs": [
        {
          "output_type": "execute_result",
          "data": {
            "text/plain": [
              "'\\nfrom functools import reduce\\nresult = reduce(lambda x, y: x + y, [47, 11, 42, 13])\\n#Step 1: Apply the lambda on first two elements\\n\\nx = 47\\ny = 11\\nx + y = 58\\n\\nNew intermediate value: 58\\n\\nStep 2: Apply the lambda on result and next element\\nx = 58\\ny = 42\\nx + y = 100\\n\\nStep 3: Apply the lambda on result and next element\\n\\nx = 100\\ny = 13\\nx + y = 113\\n\\n'"
            ],
            "application/vnd.google.colaboratory.intrinsic+json": {
              "type": "string"
            }
          },
          "metadata": {},
          "execution_count": 24
        }
      ]
    },
    {
      "cell_type": "code",
      "source": [
        "#Practical Questions"
      ],
      "metadata": {
        "id": "qUOs7yi1w-YK"
      },
      "execution_count": null,
      "outputs": []
    },
    {
      "cell_type": "code",
      "source": [
        "# 1. Write a Python function that takes a list of numbers as input and returns the sum of all even numbers in the list.\n",
        "\n",
        "def my_function(num):\n",
        "  sum =0\n",
        "\n",
        "  for x in num:\n",
        "    if x%2 == 0 :\n",
        "      sum = sum +x\n",
        "\n",
        "  print(sum)\n",
        "\n",
        "num = [1,2,3,4,5,6]\n",
        "\n",
        "my_function(num)"
      ],
      "metadata": {
        "colab": {
          "base_uri": "https://localhost:8080/"
        },
        "id": "_BcNRogQxJhE",
        "outputId": "0d438d2a-eaab-4b8b-8d24-6021948e4dbe"
      },
      "execution_count": 41,
      "outputs": [
        {
          "output_type": "stream",
          "name": "stdout",
          "text": [
            "12\n"
          ]
        }
      ]
    },
    {
      "cell_type": "code",
      "source": [
        " #2. Create a Python function that accepts a string and returns the reverse of that string.\n",
        "\n",
        " def my_function2(x):\n",
        "  return x[::-1]\n",
        "\n",
        "mytxt = my_function2(\"hello world\")\n",
        "\n",
        "print(mytxt)\n",
        "\n"
      ],
      "metadata": {
        "colab": {
          "base_uri": "https://localhost:8080/"
        },
        "id": "e39kLJUaLRL4",
        "outputId": "e5f7d951-ff62-4020-ab58-4ad102c53e2c"
      },
      "execution_count": 49,
      "outputs": [
        {
          "output_type": "stream",
          "name": "stdout",
          "text": [
            "dlrow olleh\n"
          ]
        }
      ]
    },
    {
      "cell_type": "code",
      "source": [
        "# 3. Implement a Python function that takes a list of integers and returns a new list containing the squares of  each number\n",
        "\n",
        "\n",
        "def printValues(lst):\n",
        "    # Create an empty list 'l'\n",
        "    l = list()\n",
        "\n",
        "    # Iterate through numbers from 1 to 20 (inclusive)\n",
        "    for i in lst:\n",
        "        # Calculate the square of 'i' and append it to the list 'l'\n",
        "        l.append(i**2)\n",
        "\n",
        "    # Print the list containing squares of numbers from 1 to 20\n",
        "    print(l)\n",
        "\n",
        "# Call the 'printValues' function to generate and print the list of squares\n",
        "num = [1,2,3,4,5,6]\n",
        "printValues(num)\n"
      ],
      "metadata": {
        "colab": {
          "base_uri": "https://localhost:8080/"
        },
        "id": "-PeeenC_MB_N",
        "outputId": "7be22a89-671d-4820-e01c-52668861211b"
      },
      "execution_count": 51,
      "outputs": [
        {
          "output_type": "stream",
          "name": "stdout",
          "text": [
            "[1, 4, 9, 16, 25, 36]\n"
          ]
        }
      ]
    },
    {
      "cell_type": "code",
      "source": [
        "# 4. Write a Python function that checks if a given number is prime or not from 1 to 200.\n",
        "\n",
        "def is_prime(num):\n",
        "    if num <= 1:\n",
        "        return False\n",
        "    x = range(2,num)\n",
        "\n",
        "    for i in x:\n",
        "        if num % i == 0:\n",
        "            return False\n",
        "    return True\n",
        "\n",
        "number = int(input(\"Enter a number: \"))\n",
        "if is_prime(number):\n",
        "    print(f\"{number} is a prime number.\")\n",
        "else:\n",
        "    print(f\"{number} is not a prime number.\")"
      ],
      "metadata": {
        "colab": {
          "base_uri": "https://localhost:8080/"
        },
        "id": "ObkbHBXHWlyH",
        "outputId": "58b1fcee-7868-433f-8832-ffb8bbded975"
      },
      "execution_count": 62,
      "outputs": [
        {
          "output_type": "stream",
          "name": "stdout",
          "text": [
            "Enter a number: 79\n",
            "79 is a prime number.\n"
          ]
        }
      ]
    },
    {
      "cell_type": "code",
      "source": [
        " #5. Create an iterator class in Python that generates the Fibonacci sequence up to a specified number of terms\n",
        "\n",
        " #defining function to return list of fibonacci elements\n",
        "def fibonacci(n):\n",
        "\n",
        "    l = [0,1]\n",
        "    for i in range(2,n):\n",
        "        l.append(l[-1]+l[-2])\n",
        "    return l\n",
        "\n",
        "    #calling of function\n",
        "fibo = fibonacci(10)\n",
        "\n",
        "#displaying the function\n",
        "print(\"Fibonacci Series: \",fibo)\n"
      ],
      "metadata": {
        "colab": {
          "base_uri": "https://localhost:8080/"
        },
        "id": "ZxkGGkMiYz9M",
        "outputId": "ab902bf6-121f-41ce-edfa-1c0d5d1f780f"
      },
      "execution_count": 71,
      "outputs": [
        {
          "output_type": "stream",
          "name": "stdout",
          "text": [
            "Fibonacci Series:  [0, 1, 1, 2, 3, 5, 8, 13, 21, 34]\n"
          ]
        }
      ]
    },
    {
      "cell_type": "code",
      "source": [
        " #6. Write a generator function in Python that yields the powers of 2 up to a given exponent.\n",
        "\n",
        "def power_generator(base, exponent):\n",
        "    result = 1\n",
        "    for i in range(exponent + 1):\n",
        "        yield result\n",
        "        result *= base\n",
        "\n",
        "# Accept input from the user\n",
        "base = int(input(\"Input the base number: \"))\n",
        "exponent = int(input(\"Input the exponent: \"))\n",
        "\n",
        "# Create the generator object\n",
        "power_gen = power_generator(base, exponent)\n",
        "\n",
        "# Generate and print the powers\n",
        "print(f\"Powers of {base} up to exponent {exponent}:\")\n",
        "for power in power_gen:\n",
        "    print(power)"
      ],
      "metadata": {
        "colab": {
          "base_uri": "https://localhost:8080/"
        },
        "id": "IbLBRKTNbAkK",
        "outputId": "a4d48676-e25b-4662-9c4a-7379f67e4a7e"
      },
      "execution_count": 75,
      "outputs": [
        {
          "output_type": "stream",
          "name": "stdout",
          "text": [
            "Input the base number: 3\n",
            "Input the exponent: 4\n",
            "Powers of 3 up to exponent 4:\n",
            "1\n",
            "3\n",
            "9\n",
            "27\n",
            "81\n"
          ]
        }
      ]
    },
    {
      "cell_type": "code",
      "source": [
        " #8. Use a lambda function in Python to sort a list of tuples based on the second element of each tuple.\n",
        "\n",
        "a = [(1, 3), (4, 1), (2, 2)]\n",
        "\n",
        "# Sort the list based on the second element\n",
        "res = sorted(a, key=lambda x: x[1])\n",
        "\n",
        "print(res)"
      ],
      "metadata": {
        "colab": {
          "base_uri": "https://localhost:8080/"
        },
        "id": "r-vCAW9_eOlC",
        "outputId": "0f1d38ca-a907-4bfa-b752-cf4b180916e0"
      },
      "execution_count": 76,
      "outputs": [
        {
          "output_type": "stream",
          "name": "stdout",
          "text": [
            "[(4, 1), (2, 2), (1, 3)]\n"
          ]
        }
      ]
    },
    {
      "cell_type": "code",
      "source": [
        " #9. Write a Python program that uses `map()` to convert a list of temperatures from Celsius to Fahrenheit.\n",
        "def cel_to_fer(*args):\n",
        "    l = []\n",
        "    for c in args:\n",
        "\n",
        "          f = (c * 1.8) + 32\n",
        "          l.append(f)\n",
        "    return l\n",
        "\n",
        "cel_to_fer(0,1,50,100)"
      ],
      "metadata": {
        "colab": {
          "base_uri": "https://localhost:8080/"
        },
        "id": "fk1YLOWcehqd",
        "outputId": "f1867595-dcc2-40c4-836a-117ae9abb4e2"
      },
      "execution_count": 92,
      "outputs": [
        {
          "output_type": "execute_result",
          "data": {
            "text/plain": [
              "[32.0, 33.8, 122.0, 212.0]"
            ]
          },
          "metadata": {},
          "execution_count": 92
        }
      ]
    },
    {
      "cell_type": "code",
      "source": [
        " #10. Create a Python program that uses `filter()` to remove all the vowels from a given string.\n",
        "\n",
        "vowels = ['a','e','i','o','u']\n",
        "\n",
        "def remove_vowel(string):\n",
        "\n",
        "    result =  string.lower()\n",
        "\n",
        "\n",
        "str = filter(remove_vowel, vowels)\n",
        "print(str)\n",
        "\n",
        "str = remove_vowel('Hi This is string')\n",
        "\n",
        "\n",
        "print(str)\n"
      ],
      "metadata": {
        "colab": {
          "base_uri": "https://localhost:8080/"
        },
        "id": "frUo9Mcv3xGB",
        "outputId": "fad34bc9-74f7-4188-9099-3221120e0cd3"
      },
      "execution_count": 99,
      "outputs": [
        {
          "output_type": "stream",
          "name": "stdout",
          "text": [
            "<filter object at 0x7b2637a0d750>\n",
            "None\n"
          ]
        }
      ]
    },
    {
      "cell_type": "code",
      "source": [
        "ages = ['a','e','i','o','u']\n",
        "\n",
        "\n",
        "def conso(str):\n",
        "    return str.lower()\n",
        "\n",
        "vowels =  ['a','e','i','o','u']\n",
        "res = filter(conso, vowels)\n",
        "\n",
        "\n",
        "print(res)\n",
        "\n",
        "conso('Hi this is string')"
      ],
      "metadata": {
        "colab": {
          "base_uri": "https://localhost:8080/",
          "height": 53
        },
        "id": "1v-RwuNQ7ja_",
        "outputId": "216ca3d1-b87a-45d5-d3e6-6f44dc12cd87"
      },
      "execution_count": 108,
      "outputs": [
        {
          "output_type": "stream",
          "name": "stdout",
          "text": [
            "<filter object at 0x7b2637c04d90>\n"
          ]
        },
        {
          "output_type": "execute_result",
          "data": {
            "text/plain": [
              "'hi this is string'"
            ],
            "application/vnd.google.colaboratory.intrinsic+json": {
              "type": "string"
            }
          },
          "metadata": {},
          "execution_count": 108
        }
      ]
    },
    {
      "cell_type": "code",
      "source": [],
      "metadata": {
        "id": "R9VggRFD-jgJ"
      },
      "execution_count": null,
      "outputs": []
    }
  ]
}