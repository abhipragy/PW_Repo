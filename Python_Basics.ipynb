{
  "nbformat": 4,
  "nbformat_minor": 0,
  "metadata": {
    "colab": {
      "provenance": []
    },
    "kernelspec": {
      "name": "python3",
      "display_name": "Python 3"
    },
    "language_info": {
      "name": "python"
    }
  },
  "cells": [
    {
      "cell_type": "markdown",
      "source": [
        "Python Basics Questions"
      ],
      "metadata": {
        "id": "AeMjFPNe0fLm"
      }
    },
    {
      "cell_type": "code",
      "execution_count": 2,
      "metadata": {
        "id": "YUqCzFzgzBCO",
        "colab": {
          "base_uri": "https://localhost:8080/",
          "height": 106
        },
        "outputId": "477527a8-0365-42fb-f1e0-51b1a7084951"
      },
      "outputs": [
        {
          "output_type": "error",
          "ename": "IndentationError",
          "evalue": "unindent does not match any outer indentation level (<tokenize>, line 170)",
          "traceback": [
            "\u001b[0;36m  File \u001b[0;32m\"<tokenize>\"\u001b[0;36m, line \u001b[0;32m170\u001b[0m\n\u001b[0;31m    Python has 3 key Conditional Statements that you should know:\u001b[0m\n\u001b[0m    ^\u001b[0m\n\u001b[0;31mIndentationError\u001b[0m\u001b[0;31m:\u001b[0m unindent does not match any outer indentation level\n"
          ]
        }
      ],
      "source": [
        "1.What is Python, and why is it popular.\n",
        "Ans :- Python is a open-source  programming language, meaning it's a set of instructions that computers can understand and execute to perform specific tasks. It's considered a high-level language because it's designed to be easy for humans to read and write, using a syntax that resembles natural language.\n",
        "       Python is an interpreted language, meaning the code is executed line by line by an interpreter rather than compiled into machine code first and  can be used for a wide variety of applications.\n",
        "       Python supports object-oriented programming, which is a programming paradigm that uses objects to organize code.\n",
        "       Below are tyhe key ponint behind Python’s popularity .\n",
        "       Python is easy to learn , efficient, fast, and reliable and  an active, supportive community, it offers versatile web-development solutions\n",
        "       Many of the factors that make python an attractive choice for beginners also set it apart as a reliable option for data-science and data-analysis. Python’s ease of use, support, and flexibility have made it an essential tool for those who work with machine learning, cloud computing and big data.\n",
        "\n",
        "2.What is an interpreter in Python?\n",
        "Ans   In Python, an interpreter is a program that reads and executes Python code line by line. It translates the high-level Python code into machine-readable bytecode and then executes the bytecode. Unlike compiled languages, Python is interpreted, meaning the interpreter processes the code and executes it directly, without a separate compilation step.\n",
        "\n",
        "3.What are pre-defined keywords in Python\n",
        "      Python has 35 predefined keywords, which are reserved words with specific meanings in the language. These keywords cannot be used as variable names, function names, or other identifiers. They define the syntax and structure of the language.\n",
        "      Keyword\tDescription\n",
        "      TRUE\tRepresents the boolean value True.\n",
        "      FALSE\tRepresents the boolean value false.\n",
        "      None\tA special constant that represents a null value. 0 or empty list doesn’t compute None.\n",
        "      and\tA logical operator that combines conditional statements and returns True if both the conditions are true; else returns False.\n",
        "      or\tA logical operator that combines conditional statements and returns True if one condition is true.\n",
        "      not\tA logical operator that inverts the truth value so it returns True if the condition is false.\n",
        "      is\tChecks if two values are identical.\n",
        "      in\tChecks if a value is present in a range, list, tuple, etc.\n",
        "      if\tMakes a conditional statement.\n",
        "      else\tA conditional statement used with if and elif conditional statements and executed if the given condition is not true.\n",
        "      elif\tA conditional statement used with an if statement and executed when the previous condition is not true.\n",
        "      del\tDeletes a reference to an object.\n",
        "      for\tCreates a for loop.\n",
        "      while\tCreates a while loop.\n",
        "      break\tTerminates the current closest enclosing loop.\n",
        "      continue\tContinues the next iteration of the current loop.\n",
        "      import\tImports a module.\n",
        "      from\tImports specific parts of a module.\n",
        "      def\tHelps to define functions.\n",
        "      as\tCreates an alias or alternative while importing a module.\n",
        "      with\tSimplifies exception handling.\n",
        "      class\tDefines a new user-defined class.\n",
        "      pass\tA null statement, so it does nothing.\n",
        "      lambda\tDefines an anonymous function.\n",
        "      try\tCreates a try-except statement.\n",
        "      raise\tRaises an exception.\n",
        "      except\tUsed with ‘try’ to catch exceptions.\n",
        "      finally\tUsed with exceptions and is executed always, whether there is an exception or not.\n",
        "      assert\tUsed for debugging purposes and checking if the code is correct.\n",
        "      return\tHelps return a value and exit the function.\n",
        "      yield\tUsed to end a function and return a generator.\n",
        "      async\tCreates asynchronous coroutine.\n",
        "      await\tReleases the flow of control to the event loop.\n",
        "      global\tDeclares a global variable.\n",
        "      nonlocal\tDeclares a non-local variable.\n",
        "\n",
        "\n",
        "4.Can keywords be used as variable names\n",
        "      No, you cannot use Python keywords as variable names. Keywords are reserved words with predefined meanings and are used by the Python interpreter to define the language's syntax. Using them as variable names would cause a SyntaxError.\n",
        "\n",
        "5.What is mutability in Python\n",
        "    In Python, mutability refers to an object's ability to be changed after it's created. If an object is mutable, its contents can be modified without creating a new object. Immutable objects, on the other hand, cannot be changed after creation, and any modification will result in a new object being created.\n",
        "\n",
        "6.Why are lists mutable, but tuples are immutable\n",
        "\n",
        "     Tuples and lists are the same in every way except two: tuples use parentheses instead of square brackets, and the items in tuples cannot be modified (but the items in lists can be modified). We often call lists mutable (meaning they can be changed) and tuples immutable (meaning they cannot be changed).\n",
        "     Suppose you write a method that depends on a particular sequence of objects remaining the same throughout the lifetime of the code. If you store these objects in a list, there is a chance that some other method using the list will accidentally alter it and thus break your method. Thus, in a way, a tuple offers a guarantee that a particular collection of objects will remain fixed.\n",
        "     The important benefit to using tuples is similar to the benefit of using constant variables: it’s a sign that the value in the tuple will never change, so anyone reading the code later will be able to understand  that this tuple will always be the same. Otherwise the programmer would have used a list. This also lets a future programmer reading your code sand understand that it could be modified at some point in this program. Otherwise, the programmer who wrote this code would have used a tuple.\n",
        "\n",
        "7.What is the difference between “==” and “is” operators in Python\n",
        "\n",
        "      In Python, == and is are both comparison operators, but they check different aspects of objects. == (equality operator) checks if two objects have the same value, while is (identity operator) checks if two variables point to the same object in memory.\n",
        "      == (Equality Operator):\n",
        "      Compares the values of two objects.\n",
        "      Returns True if the objects have the same value, even if they are different objects (i.e., have different memory addresses).\n",
        "      Example: 1 == 1.0 returns True because 1 and 1.0 have the same value, but they are of different types (integer and float).\n",
        "      is (Identity Operator):\n",
        "      Checks if two variables point to the same object in memory.\n",
        "      Returns True if both variables refer to the exact same object.\n",
        "      Returns False if the variables refer to different objects, even if they have the same value.\n",
        "      Example: x = [1, 2, 3] and y = x. Then x is y returns True because both x and y are pointing to the same list object in memory.\n",
        "      In essence:\n",
        "      Use == to compare the content or values of objects.\n",
        "      Use is to check if two variables refer to the same object in memory (identity).\n",
        "\n",
        "8.What are logical operators in Python\n",
        "      In Python, logical operators are used to evaluate expressions and return a Boolean value There are three types of logical operators in Python: `and`, `or`, and `not`.\n",
        "\n",
        "\n",
        "      The `and` operator returns `True` if both conditions it is evaluating are true, otherwise it returns `False`. For example:\n",
        "\n",
        "      x = 5\n",
        "      y = 10\n",
        "      if x > 0 and y > 0:\n",
        "          print(\"Both x and y are positive.\")\n",
        "      In the above code block, the condition `x > 0` and `y > 0` are both true, so the statement “Both x and y are positive.” will be printed.\n",
        "\n",
        "      The `or` operator returns `True` if at least one of the conditions it is evaluating is true. For example:\n",
        "\n",
        "      x = 5\n",
        "      y = -10\n",
        "      if x > 0 or y > 0:\n",
        "          print(\"At least one of x or y is positive.\")\n",
        "      In the above code block, the condition `x > 0` is true even though `y > 0` is false. Therefore, the statement “At least one of x or y is positive.” will be printed.\n",
        "\n",
        "      Finally, the `not` operator negates a boolean expression. That is, it returns `True` if its operand is false and vice versa. For example:\n",
        "\n",
        "      x = True\n",
        "      if not x:\n",
        "          print(\"x is false.\")\n",
        "      else:\n",
        "          print(\"x is true.\")\n",
        "      In the above code block, since `x` is initially set to `True`, the condition in the `if` statement evaluates to false (`not True == False`). Therefore, the statement “x is true.” will be printed.\n",
        "\n",
        "      Python Logical Operators\n",
        "\n",
        "\n",
        "      Conclusion\n",
        "      In conclusion, logical operators in Python are essential for creating complex conditions and controlling the flow of programs. The `and` and `or` operators are the most commonly used logical operators in Python, while the `not` operator is useful for negating conditions.\n",
        "\n",
        "      It is important to remember that the `and` and `or` operators use short-circuit evaluation, which means that they stop evaluating as soon as the result can be determined. This can have significant performance implications in certain situations.\n",
        "\n",
        "      It is also worth noting that the `and` operator in Python is equivalent to the `&&` operator in other programming languages, while the `or` operator is equivalent to the `||` operator.\n",
        "\n",
        "      Overall, understanding logical operators is crucial for writing effective Python code and creating programs that behave as intended. With practice and experimentation, you can master these concepts and use them to write powerful and efficient Python programs.\n",
        "      Interested in learning more? Check out our Introduction to Python course!\n",
        "\n",
        "9. What is type casting in Python,\n",
        "\n",
        "\n",
        "      Type casting, also known as type conversion, is the process of changing the data type of a variable in Python. It's useful for performing operations on different types of data and ensuring compatibility between them.\n",
        "\n",
        "\n",
        "      Casting in python is done  using constructor functions:\n",
        "\n",
        "      int() - constructs an integer number from an integer literal, a float literal (by removing all decimals), or a string literal (providing the string represents a whole number)\n",
        "      float() - constructs a float number from an integer literal, a float literal or a string literal (providing the string represents a float or an integer)\n",
        "      str() - constructs a string from a wide variety of data types, including strings, integer literals and float literals\n",
        "\n",
        "\n",
        "10. What is the difference between implicit and explicit type casting\n",
        "\n",
        "      There are two types  of typecasting in python namely - Explicit Conversion  and Implicit Conversion .\n",
        "\n",
        "      Explicit Conversion  :- The conversion of one data type into another data type, done via developer or programmer intervention or manually as per the requirement, is known as explicit type conversion.\n",
        "\n",
        "      It can be achieved with the help of Python’s built-in type conversion functions such as int(), float(), hex(), oct(), str(), etc .\n",
        "\n",
        "      Below are the exmple of Explicit type casting in python\n",
        "\n",
        "              x = int(1)   # x will be 1\n",
        "              y = int(2.8) # y will be 2\n",
        "              z = int(\"3\") # z will be 3\n",
        "\n",
        "      Implicit Conversion  :- Implicit type conversion, also known as coercion, is the automatic conversion of a variable's data type by the interpreter without explicit instructions from the programmer.\n",
        "                              This happens when operations are performed on variables of different data types, particularly in arithmetic operations. Python generally promotes the data type to a \"higher\" type to avoid data loss, such as converting an integer to a float when adding an  integer and a float.\n",
        "\n",
        "                              Below are the exmple of Implicit type casting in python\n",
        "                              num1 = 5  # integer\n",
        "                              num2 = 2.5  # float\n",
        "                              result = num1 + num2\n",
        "                              print(result)  # Output: 7.5 (Python implicitly converted num1 to float before adding)\n",
        "\n",
        "11. What is the purpose of conditional statements in Python\n",
        "\n",
        "        The purpose of conditional statements in Python is to control the flow of a program by executing different blocks of code based on conditions. This allows you to make decisions in your code, which can make it more efficient and easier to read.\n",
        "\n",
        "        The program evaluates the condition in conditional statements\n",
        "        If the condition is true, the code block associated with that condition is executed\n",
        "        If the condition is false, the code block associated with that condition is not executed\n",
        "        Examples of conditional statements\n",
        "        If statements: Run a section of code if a condition is true\n",
        "        Elif statements: Evaluate multiple conditions in order, and execute the code block associated with the first true condition\n",
        "        Else statements: Execute a default code block if none of the preceding conditions are true\n",
        "\n",
        "       Python has 3 key Conditional Statements that you should know:\n",
        "\n",
        "        if statement\n",
        "        if-else statement\n",
        "        if-elif-else ladder\n",
        "\n",
        "        Python supports the usual logical conditions from mathematics:\n",
        "\n",
        "        Equals: a == b\n",
        "        Not Equals: a != b\n",
        "        Less than: a < b\n",
        "        Less than or equal to: a <= b\n",
        "        Greater than: a > b\n",
        "        Greater than or equal to: a >= b\n",
        "        These conditions can be used in several ways, most commonly in \"if statements\" and loops.\n",
        "\n",
        "        An \"if statement\" is written by using the if keyword.\n",
        "          a = 33\n",
        "          b = 200\n",
        "          if b > a:\n",
        "            print(\"b is greater than a\")\n",
        "\n",
        "12. How does the elif statement work\n",
        "\n",
        "          The elif keyword is Python's way of saying \"if the previous conditions were not true, then try this condition\".\n",
        "\n",
        "          Example\n",
        "          a = 33\n",
        "          b = 33\n",
        "          if b > a:\n",
        "            print(\"b is greater than a\")\n",
        "          elif a == b:\n",
        "            print(\"a and b are equal\")\n",
        "\n",
        "            In this example a is equal to b, so the first condition is not true, but the elif condition is true, so we print to screen that \"a and b are equal\".\n",
        "\n",
        "\n",
        "            The else keyword catches anything which isn't caught by the preceding conditions.\n",
        "\n",
        "            Example\n",
        "            a = 200\n",
        "            b = 33\n",
        "            if b > a:\n",
        "              print(\"b is greater than a\")\n",
        "            elif a == b:\n",
        "              print(\"a and b are equal\")\n",
        "            else:\n",
        "              print(\"a is greater than b\")\n",
        "\n",
        "              In this example a is greater than b, so the first condition is not true, also the elif condition is not true, so we go to the else condition and print to screen that \"a is greater than b\".\n",
        "\n",
        "                You can also have an else without the elif:\n",
        "\n",
        "\n",
        "13. What is the difference between for and while loops\n",
        "            Python programming loops are instructions to repeat something multiple times until a specific condition is met. In Python, we can run either a single or several statements over and over through a loop command.\n",
        "            Python supports various loops to satisfy different looping requirements.\n",
        "\n",
        "            A for loop in Python repeats executing a code block from a sequence till certain number of times. Whereas a while loop in Python repeats execution of a code block till the condition is true which is not certain.\n",
        "\n",
        "14. Describe a scenario where a while loop is more suitable than a for loop\n",
        "            A while loop in Python runs as long as a specified condition is True. It’s useful when you don’t know how many times the loop should run in advance but you want it to repeat until a condition is met.\n",
        "\n",
        "            With while loops, the loop will keep running as long as the condition evaluates to True. Once the condition is False, the loop will stop.\n",
        "\n",
        "            While loops are perfect for situations where the number of iterations is not fixed, and you need the loop to keep running based on a dynamic condition.\n"
      ]
    },
    {
      "cell_type": "code",
      "source": [
        "# 1. Write a Python program to print  \"Hello, World!\"\"\n",
        "\n",
        "print( \"'Hello, World!'\")"
      ],
      "metadata": {
        "colab": {
          "base_uri": "https://localhost:8080/"
        },
        "id": "swDQT_NQTacf",
        "outputId": "c279de8c-9172-4f19-bf1c-f4629f1cce3e"
      },
      "execution_count": null,
      "outputs": [
        {
          "output_type": "stream",
          "name": "stdout",
          "text": [
            "'Hello, World!'\n"
          ]
        }
      ]
    },
    {
      "cell_type": "code",
      "source": [
        "# 2 Write a Python program that displays your name and age\n",
        "\n",
        "name = input('Please enter your name')\n",
        "age =  int(input('Please enter your age'))\n",
        "print(f\"name is a {name} and age is {age} \")"
      ],
      "metadata": {
        "colab": {
          "base_uri": "https://localhost:8080/"
        },
        "id": "njQny8MNVrv6",
        "outputId": "e837036c-993c-4505-d989-63994fcbb225"
      },
      "execution_count": null,
      "outputs": [
        {
          "output_type": "stream",
          "name": "stdout",
          "text": [
            "Please enter your nameAbhishek\n",
            "Please enter your age40\n",
            "name is a Abhishek and age is 40 \n"
          ]
        }
      ]
    },
    {
      "cell_type": "code",
      "source": [
        "# 3. Write code to print all the pre-defined keywords in Python using the keyword library\n",
        "help ('keywords')"
      ],
      "metadata": {
        "colab": {
          "base_uri": "https://localhost:8080/"
        },
        "id": "RNleWZkzXLJG",
        "outputId": "4e52811c-037c-41d1-8347-4d463103a22c"
      },
      "execution_count": null,
      "outputs": [
        {
          "output_type": "stream",
          "name": "stdout",
          "text": [
            "\n",
            "Here is a list of the Python keywords.  Enter any keyword to get more help.\n",
            "\n",
            "False               class               from                or\n",
            "None                continue            global              pass\n",
            "True                def                 if                  raise\n",
            "and                 del                 import              return\n",
            "as                  elif                in                  try\n",
            "assert              else                is                  while\n",
            "async               except              lambda              with\n",
            "await               finally             nonlocal            yield\n",
            "break               for                 not                 \n",
            "\n"
          ]
        }
      ]
    },
    {
      "cell_type": "code",
      "source": [
        "# 3. Write code to print all the pre-defined keywords in Python using the keyword library\n",
        "import keyword\n",
        "print(keyword.kwlist)"
      ],
      "metadata": {
        "colab": {
          "base_uri": "https://localhost:8080/"
        },
        "id": "2dm9zk9HYqji",
        "outputId": "9a39826c-dbdd-4f11-e691-392ea0f4b051"
      },
      "execution_count": null,
      "outputs": [
        {
          "output_type": "stream",
          "name": "stdout",
          "text": [
            "['False', 'None', 'True', 'and', 'as', 'assert', 'async', 'await', 'break', 'class', 'continue', 'def', 'del', 'elif', 'else', 'except', 'finally', 'for', 'from', 'global', 'if', 'import', 'in', 'is', 'lambda', 'nonlocal', 'not', 'or', 'pass', 'raise', 'return', 'try', 'while', 'with', 'yield']\n"
          ]
        }
      ]
    },
    {
      "cell_type": "code",
      "source": [
        "# 4.Write a program that checks if a given word is a Python keyword.\n",
        "\n",
        "s = input(\"enter any string :- \")\n",
        "if (keyword.iskeyword(s)):\n",
        "    print ( s + \" is a python keyword\")\n",
        "else :\n",
        "    print ( s + \" is not a python keyword\")"
      ],
      "metadata": {
        "colab": {
          "base_uri": "https://localhost:8080/"
        },
        "id": "S_HSta44Y5qf",
        "outputId": "751a6980-3b9f-46e6-cb31-9d1f6c2908c2"
      },
      "execution_count": null,
      "outputs": [
        {
          "output_type": "stream",
          "name": "stdout",
          "text": [
            "enter any string :- None\n",
            "None is a python keyword\n"
          ]
        }
      ]
    },
    {
      "cell_type": "code",
      "source": [
        "#5  Create a list and tuple in Python, and demonstrate how attempting to change an element works differently for each.\n",
        "\n",
        "#create list\n",
        "\n",
        "list1 =[1,1.1,\"python\",True,'abhi']\n",
        "print(list1)\n",
        "#add element in list\n",
        "list1.append(10)\n",
        "print(list1)\n"
      ],
      "metadata": {
        "colab": {
          "base_uri": "https://localhost:8080/"
        },
        "id": "JlvDivLJZ1BG",
        "outputId": "ed2df4ca-7084-462d-ece1-1005b0488057"
      },
      "execution_count": null,
      "outputs": [
        {
          "output_type": "stream",
          "name": "stdout",
          "text": [
            "[1, 1.1, 'python', True, 'abhi']\n",
            "[1, 1.1, 'python', True, 'abhi', 10]\n"
          ]
        }
      ]
    },
    {
      "cell_type": "code",
      "source": [
        "#create tupple\n",
        "tup1 = (1,2.4,\"c\",(3,4))\n",
        "print(tup1)\n",
        "\n",
        "#add element in list\n",
        "tup1.append(10)\n",
        "print(tup1)"
      ],
      "metadata": {
        "colab": {
          "base_uri": "https://localhost:8080/",
          "height": 211
        },
        "id": "KiSxuIHAdsw2",
        "outputId": "b2176fa5-e3f0-4c90-9f57-d55475041325"
      },
      "execution_count": null,
      "outputs": [
        {
          "output_type": "stream",
          "name": "stdout",
          "text": [
            "(1, 2.4, 'c', (3, 4))\n"
          ]
        },
        {
          "output_type": "error",
          "ename": "AttributeError",
          "evalue": "'tuple' object has no attribute 'append'",
          "traceback": [
            "\u001b[0;31m---------------------------------------------------------------------------\u001b[0m",
            "\u001b[0;31mAttributeError\u001b[0m                            Traceback (most recent call last)",
            "\u001b[0;32m<ipython-input-17-23527f5b8749>\u001b[0m in \u001b[0;36m<cell line: 0>\u001b[0;34m()\u001b[0m\n\u001b[1;32m      4\u001b[0m \u001b[0;34m\u001b[0m\u001b[0m\n\u001b[1;32m      5\u001b[0m \u001b[0;31m#add element in list\u001b[0m\u001b[0;34m\u001b[0m\u001b[0;34m\u001b[0m\u001b[0m\n\u001b[0;32m----> 6\u001b[0;31m \u001b[0mtup1\u001b[0m\u001b[0;34m.\u001b[0m\u001b[0mappend\u001b[0m\u001b[0;34m(\u001b[0m\u001b[0;36m10\u001b[0m\u001b[0;34m)\u001b[0m\u001b[0;34m\u001b[0m\u001b[0;34m\u001b[0m\u001b[0m\n\u001b[0m\u001b[1;32m      7\u001b[0m \u001b[0mprint\u001b[0m\u001b[0;34m(\u001b[0m\u001b[0mtup1\u001b[0m\u001b[0;34m)\u001b[0m\u001b[0;34m\u001b[0m\u001b[0;34m\u001b[0m\u001b[0m\n",
            "\u001b[0;31mAttributeError\u001b[0m: 'tuple' object has no attribute 'append'"
          ]
        }
      ]
    },
    {
      "cell_type": "code",
      "source": [
        "# 7. Write a program that performs basic arithmetic operations on two user-input numbers\n",
        "\n",
        "num1 = int(input('Please enter 1st number'))\n",
        "num2 = int(input('Please enter 2nd number'))\n",
        "toatl =   num1 + num2\n",
        "print(f\"toatl is  {toatl}\"  )"
      ],
      "metadata": {
        "colab": {
          "base_uri": "https://localhost:8080/"
        },
        "id": "3dN3bRU7eW3c",
        "outputId": "99424985-3da0-4fda-9bc5-3776dc5cc9f7"
      },
      "execution_count": null,
      "outputs": [
        {
          "output_type": "stream",
          "name": "stdout",
          "text": [
            "Please enter 1st number10\n",
            "Please enter 2nd number25\n",
            "toatl is  35\n"
          ]
        }
      ]
    },
    {
      "cell_type": "code",
      "source": [
        "# 8. Write a program to demonstrate the use of logical operator\n",
        "\n",
        "x = 5\n",
        "y = 10\n",
        "if x > 0 and y > 0:   #the condition `x > 0` and `y > 0` are both true, so the statement “Both x and y are positive.” will be printed.\n",
        "  print(\"Both x and y are positive.\")\n",
        "\n",
        "\n",
        "# The `or` operator returns `True` if at least one of the conditions it is evaluating is true. For example:\n",
        "\n",
        "x = 5\n",
        "y = -10\n",
        "if x > 0 or y > 0:\n",
        "  print(\"At least one of x or y is positive.\")#  In this code block, the condition `x > 0` is true even though `y > 0` is false. Therefore, the statement “At least one of x or y is positive.” will be printed.\n",
        "\n",
        "# Finally, the `not` operator negates a boolean expression. That is, it returns `True` if its operand is false and vice versa. For example:\n",
        "\n",
        "x = True\n",
        "if not x:\n",
        "  print(\"x is false.\")\n",
        "else:\n",
        "  print(\"x is true.\")#      In the this code block, since `x` is initially set to `True`, the condition in the `if` statement evaluates to false (`not True == False`). Therefore, the statement “x is true.” will be printed.\n",
        "\n"
      ],
      "metadata": {
        "colab": {
          "base_uri": "https://localhost:8080/"
        },
        "id": "fI6eXBoLgnHV",
        "outputId": "36cc8958-c860-4337-8943-47c6ab1b9952"
      },
      "execution_count": null,
      "outputs": [
        {
          "output_type": "stream",
          "name": "stdout",
          "text": [
            "Both x and y are positive.\n",
            "At least one of x or y is positive.\n",
            "x is true.\n"
          ]
        }
      ]
    },
    {
      "cell_type": "code",
      "source": [
        "# 9  Write a Python program to convert user input from string to integer, float, and boolean types.\n",
        "\n",
        "num1 = input('Please enter a number')\n",
        "type (num1) #no entered as string\n",
        "\n"
      ],
      "metadata": {
        "colab": {
          "base_uri": "https://localhost:8080/"
        },
        "id": "qViWwBrIiy71",
        "outputId": "2cf9f863-58ae-4ebf-a384-d50f82ec1ea5"
      },
      "execution_count": null,
      "outputs": [
        {
          "name": "stdout",
          "output_type": "stream",
          "text": [
            "Please enter a number5\n"
          ]
        },
        {
          "output_type": "execute_result",
          "data": {
            "text/plain": [
              "str"
            ]
          },
          "metadata": {},
          "execution_count": 34
        }
      ]
    },
    {
      "cell_type": "code",
      "source": [
        "num1 = input('Please enter a number')\n",
        "#covert the input into float\n",
        "print(float(num1))  # no coverted to float"
      ],
      "metadata": {
        "colab": {
          "base_uri": "https://localhost:8080/"
        },
        "id": "N73en0Vjo1C-",
        "outputId": "4f4bce76-cc34-40f1-9f51-35ca61b1402c"
      },
      "execution_count": null,
      "outputs": [
        {
          "output_type": "stream",
          "name": "stdout",
          "text": [
            "Please enter a number44\n",
            "44.0\n"
          ]
        }
      ]
    },
    {
      "cell_type": "code",
      "source": [
        "num1 = input('Please enter a number')\n",
        "#covert the input into float\n",
        "print(bool(num1))  # no coverted to boolean"
      ],
      "metadata": {
        "colab": {
          "base_uri": "https://localhost:8080/"
        },
        "id": "WLfiQEbVpKQL",
        "outputId": "8c33a42f-8840-4935-d29b-d4bef78ffb8a"
      },
      "execution_count": null,
      "outputs": [
        {
          "output_type": "stream",
          "name": "stdout",
          "text": [
            "Please enter a number6\n",
            "True\n"
          ]
        }
      ]
    },
    {
      "cell_type": "code",
      "source": [
        "# 11. Write a program that checks if a number is positive, negative, or zero\n",
        "\n",
        "num = int(input(\"Please enter a number\"))\n",
        "if num < 0:\n",
        "  print(f\"{num} is negative number \")\n",
        "elif   num > 0:\n",
        "  print(f\"{num} is positive number \" )\n",
        "else:\n",
        "  print (\"number is 0\")"
      ],
      "metadata": {
        "id": "wVlCsh4gp_01",
        "colab": {
          "base_uri": "https://localhost:8080/"
        },
        "outputId": "e256b328-7f01-4cf6-b0c5-2db68393393f"
      },
      "execution_count": 11,
      "outputs": [
        {
          "output_type": "stream",
          "name": "stdout",
          "text": [
            "Please enter a number5\n",
            "5 is positive numcer \n"
          ]
        }
      ]
    },
    {
      "cell_type": "code",
      "source": [
        "#12  Write a for loop to print numbers from 1 to 10\n",
        "\n",
        "for i in range(1,11):\n",
        "  print (i)"
      ],
      "metadata": {
        "colab": {
          "base_uri": "https://localhost:8080/"
        },
        "id": "8PpP0P10IOkI",
        "outputId": "3f8291f0-3b52-428a-d4ea-51b5d4061296"
      },
      "execution_count": 15,
      "outputs": [
        {
          "output_type": "stream",
          "name": "stdout",
          "text": [
            "1\n",
            "2\n",
            "3\n",
            "4\n",
            "5\n",
            "6\n",
            "7\n",
            "8\n",
            "9\n",
            "10\n"
          ]
        }
      ]
    },
    {
      "cell_type": "code",
      "source": [
        " #13 Write a Python program to find the sum of all even numbers between 1 and 50\n",
        "sum = 0\n",
        "for i in range(1,51):\n",
        "  if i%2 == 0 :\n",
        "    sum = sum + i\n",
        "print (sum)\n"
      ],
      "metadata": {
        "colab": {
          "base_uri": "https://localhost:8080/"
        },
        "id": "5aHeAoZwJ55O",
        "outputId": "21e22348-377c-4713-cdbe-1c10c49901c6"
      },
      "execution_count": 19,
      "outputs": [
        {
          "output_type": "stream",
          "name": "stdout",
          "text": [
            "650\n"
          ]
        }
      ]
    },
    {
      "cell_type": "code",
      "source": [
        "# 14 Write a program to reverse a string using a while loop\n",
        "\n",
        "name= input(\"Enter the name: \")\n",
        "i = len(name) - 1\n",
        "\n",
        "while i >= 0:\n",
        "    print(name[i], end = '')\n",
        "    i = i - 1"
      ],
      "metadata": {
        "colab": {
          "base_uri": "https://localhost:8080/"
        },
        "id": "Js1NXDY9K9De",
        "outputId": "53b8afbd-6a2a-49d7-b6e9-d2515fa05d23"
      },
      "execution_count": 29,
      "outputs": [
        {
          "output_type": "stream",
          "name": "stdout",
          "text": [
            "Enter the name: Hello World\n",
            "dlroW olleH"
          ]
        }
      ]
    },
    {
      "cell_type": "code",
      "source": [
        "#15 Write a Python program to calculate the factorial of a number provided by the user using a while loop.\n",
        "\n",
        "\n",
        "num = int(input(\"Please enter a number\"))\n",
        "if num < 0:\n",
        "  print(\" please enter positive number \")\n",
        "elif   num > 0:\n",
        "  for i in range(1,num) :\n",
        "    num = num*i\n",
        "print(num)\n"
      ],
      "metadata": {
        "colab": {
          "base_uri": "https://localhost:8080/"
        },
        "id": "Y0ghNvmIOrip",
        "outputId": "7af0bb03-c4d2-44f3-ee7b-0c17c3792832"
      },
      "execution_count": 38,
      "outputs": [
        {
          "output_type": "stream",
          "name": "stdout",
          "text": [
            "Please enter a number5\n",
            "120\n"
          ]
        }
      ]
    }
  ]
}