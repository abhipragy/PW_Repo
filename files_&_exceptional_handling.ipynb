{
  "nbformat": 4,
  "nbformat_minor": 0,
  "metadata": {
    "colab": {
      "provenance": []
    },
    "kernelspec": {
      "name": "python3",
      "display_name": "Python 3"
    },
    "language_info": {
      "name": "python"
    }
  },
  "cells": [
    {
      "cell_type": "markdown",
      "source": [
        "1. What is the difference between interpreted and compiled languages\n",
        "\n",
        "    Pgramming languages lies in how they translate source code into machine-executable instructions. Compiled languages translate the entire program into machine code before execution, while interpreted languages translate the code line by line during execution.\n",
        "\n",
        "    Compiled Languages:\n",
        "    Translation: The entire program's source code is translated into machine code (or a similar intermediate language) before execution.\n",
        "    Execution: The translated machine code is then executed by the computer's processor.\n",
        "    \n",
        "    Process: Compilation involves a distinct step of translating the entire program before running it.\n",
        "    Examples: C, C++, Java, Fortran.\n",
        "    Interpreted Languages:\n",
        "    Translation:\n",
        "    The code is translated and executed line by line, meaning each instruction is translated and run as the interpreter reads it.\n",
        "    Execution:\n",
        "    The program is executed directly from the source code without a separate compilation step.\n",
        "    Process:\n",
        "    An interpreter is a program that reads and executes the source code directly.\n",
        "    Examples:\n",
        "    Python, JavaScript, Ruby, PHP, and Per\n"
      ],
      "metadata": {
        "id": "JZS5ojRyj2ux"
      }
    },
    {
      "cell_type": "markdown",
      "source": [
        "2. What is exception handling in Python.\n",
        "\n",
        "    Exception handling allows to respond to the error, instead of crashing the running program. It enables you to catch and manage errors, making your code more robust and user-friendl\n"
      ],
      "metadata": {
        "id": "kVHIMmxikRa-"
      }
    },
    {
      "cell_type": "markdown",
      "source": [
        "3. What is the purpose of the finally block in exception handling\n",
        "\n",
        "    The purpose of the finally block in exception handling is to ensure that certain code, such as cleanup operations or resource releases, executes regardless of whether an exception is thrown or caught in the try block. It guarantees that critical tasks, like closing files or releasing connections, will be performed, even if an exception occurs and the program flow is interrupted.\n"
      ],
      "metadata": {
        "id": "-4md85hCkZoi"
      }
    },
    {
      "cell_type": "markdown",
      "source": [
        " 4 What is logging in Python\n",
        "\n",
        "    Logging in Python involves recording events that occur during the execution of a program. This practice is crucial for debugging, monitoring, and understanding the behavior of applications. The Python logging module provides a flexible and powerful framework for generating and managing log messages. It allows developers to track errors, warnings, and other significant events, aiding in identifying and resolving issues."
      ],
      "metadata": {
        "id": "m3_9a5qSkp9G"
      }
    },
    {
      "cell_type": "markdown",
      "source": [
        "5  What is the significance of the __del__ method in Python\n",
        "\n",
        "    The __del__ method in Python, often referred to as a destructor, is called when an object is about to be destroyed, typically during garbage collection. It provides an opportunity to perform cleanup actions, such as releasing external resources or finalizing operations associated with the object.\n",
        "    When an object's reference count drops to zero, meaning it's no longer accessible or in use, the garbage collector reclaims the memory it occupies. Before this happens, the __del__ method, if defined, is invoked. This allows the object to gracefully handle tasks like closing files, network connections, or releasing locks.\n",
        "    It's important to note that the __del__ method is not guaranteed to be called in all situations. Factors like circular references or interpreter shutdown can prevent its execution. Therefore, relying solely on __del__ for critical resource management is discouraged. Instead, techniques like context managers (with statement) and explicit cleanup methods are recommended for ensuring reliable resource handlin\n",
        "\n",
        "6 What is the difference between import and from ... import in Python\n",
        "\n",
        "    The import statement and the from ... import statement in Python serve different purposes in how they bring modules and their contents into your code.\n",
        "    import module_name:\n",
        "    This statement imports the entire module. To access items (functions, classes, variables) within the module, you need to use the module name as a prefix, followed by a dot and the item's name (e.g., module_name.item_name). This approach keeps the namespace clean and avoids potential naming conflicts, especially when working with multiple modules.\n",
        "    from module_name import item_name:\n",
        "    This statement imports specific items directly into the current namespace. You can then use these items without the module name prefix (e.g., item_name). This can make the code more concise, but it can also lead to naming conflicts if multiple modules define items with the same name. It's also possible to import all names from a module using from module_name import *, but this is generally discouraged due to the risk of namespace pollution and reduced code readability."
      ],
      "metadata": {
        "id": "Av5nLbSRlKcM"
      }
    },
    {
      "cell_type": "markdown",
      "source": [
        "7. How can you handle multiple exceptions in Python\n",
        "\n",
        "    In Python, multiple exceptions can be handled using the try and except blocks in a few ways:\n",
        "    Using a tuple of exceptions: Multiple exception types can be specified within a single except block by enclosing them in parentheses, forming a tuple. If any of the listed exceptions are raised within the try block, the corresponding except block will be executed.\n"
      ],
      "metadata": {
        "id": "q_pc7mwJnQu2"
      }
    },
    {
      "cell_type": "code",
      "source": [
        "    try:\n",
        "        # Code that might raise either ZeroDivisionError or IndexError\n",
        "        result = 10 / 0  # Raises ZeroDivisionError\n",
        "        # Or\n",
        "        my_list = [1, 2, 3]\n",
        "        print(my_list[5])  # Raises IndexError\n",
        "    except ZeroDivisionError:\n",
        "        print(\"Cannot divide by zero.\")\n",
        "    except IndexError:\n",
        "        print(\"Index out of range.\")"
      ],
      "metadata": {
        "colab": {
          "base_uri": "https://localhost:8080/"
        },
        "id": "QjURhVfvnebq",
        "outputId": "8f6ec629-8bbd-42a1-a1e2-1357d0141d87"
      },
      "execution_count": 2,
      "outputs": [
        {
          "output_type": "stream",
          "name": "stdout",
          "text": [
            "Cannot divide by zero.\n"
          ]
        }
      ]
    },
    {
      "cell_type": "markdown",
      "source": [
        "8. What is the purpose of the with statement when handling files in Python\n",
        "\n",
        "      The with statement in Python simplifies file handling by ensuring that files are properly opened and closed, even if errors occur. It provides a clean and readable way to manage resources, preventing resource leaks and making code more robust. When used with the open() function, the with statement automatically handles the file's closing through the __exit__() method, eliminating the need for explicit close() calls. This mechanism is known as a context manager.\n",
        "      Python\n",
        "\n",
        "      with open('my_file.txt', 'r') as file:\n",
        "          data = file.read()\n",
        "          # File is automatically closed after this block\n",
        "      In the above example, the file my_file.txt is opened in read mode ('r'). After the code block within the with statement is executed, the file is automatically closed, regardless of whether any exceptions were raised. This ensures that the file resource is properly released, preventing potential issues such as data corruption or resource exhaustion.\n",
        "\n"
      ],
      "metadata": {
        "id": "dY3gji-lnnFV"
      }
    },
    {
      "cell_type": "markdown",
      "source": [
        "9. What is the difference between multithreading and multiprocessing.\n",
        "\n",
        "  Multithreading and multiprocessing are both techniques to run multiple tasks concurrently, but they differ in how they achieve this. Multithreading creates multiple threads within a single process, allowing for concurrent execution within that process, while multiprocessing creates multiple processes, each with its own resources, enabling parallel execution across multiple processors.\n",
        "  Here's a more detailed breakdown:\n",
        "  Multithreading:\n",
        "  Creates multiple threads within a single process.\n",
        "  Threads within a process share the same memory space and resources.\n",
        "  Can be more efficient for tasks that involve a lot of inter-process communication because of the shared memory.\n",
        "  May be limited by the \"Global Interpreter Lock\" (GIL) in certain languages, preventing true parallelism.\n",
        "  Multiprocessing:\n",
        "  Creates multiple processes, each with its own memory space and resources.\n",
        "  Processes can run independently and in parallel on different processors.\n",
        "  More memory-intensive due to the creation of separate processes.\n",
        "  Better suited for CPU-bound tasks that can be divided into independent subtasks.\n"
      ],
      "metadata": {
        "id": "5AEza6YLn4sO"
      }
    },
    {
      "cell_type": "markdown",
      "source": [
        "10. What are the advantages of using logging in a program\n",
        "\n",
        "    Logging offers significant advantages in software development and application management. It provides real-time visibility into application behavior, helps with debugging, troubleshooting, and performance monitoring, and enhances security and compliance efforts.\n",
        "    Here's a more detailed look at the advantages:\n",
        "    1. Debugging and Troubleshooting:\n",
        "    Logging captures errors, warnings, and other events, making it easier to pinpoint issues and understand the sequence of events leading to a problem.\n",
        "    Logs provide valuable context, including timestamps, source code location, and variable values, which can be crucial for diagnosing problems in production.\n",
        "    Stack traces captured in logs help developers understand the call stack when an error occurs, aiding in pinpointing the source of the issue.\n",
        "    2. Performance Monitoring:\n",
        "    Logging can be used to track performance metrics like response times, resource utilization, and database query performance.\n",
        "    Logs help identify performance bottlenecks and areas for optimization.\n",
        "    By analyzing log data, developers can identify patterns and trends in performance, allowing for proactive improvements.\n",
        "    3. Security Auditing:\n",
        "    Logs can be used to track user actions, system events, and security-related incidents, providing a record of activities for auditing purposes.\n",
        "    Logs help detect security breaches and unauthorized access attempts.\n",
        "    By analyzing logs, security teams can identify patterns of suspicious activity and implement appropriate security measures.\n",
        "    4. Compliance and Regulatory Requirements:\n",
        "    Many industries have specific requirements for maintaining logs and auditing system activity.\n",
        "    Logging helps ensure compliance with regulations and standards related to data security, privacy, and financial reporting.\n",
        "    Logs provide a record of system activity that can be used to demonstrate compliance with regulatory requirements.\n",
        "    5. Application Behavior Understanding:\n",
        "    Logging provides insights into how the application is used, including user behavior, common tasks, and potential areas for improvement.\n",
        "    Logs can help developers understand the needs of users and design the application to better meet those needs.\n",
        "    By analyzing log data, developers can identify patterns in user behavior and optimize the application for better user experience\n"
      ],
      "metadata": {
        "id": "kvEKOC6boaCq"
      }
    },
    {
      "cell_type": "markdown",
      "source": [
        "11. What is memory management in Python\n",
        "  \n",
        "    Memory management in Python involves the allocation and deallocation of memory resources for objects. Python utilizes a private heap to store objects and data structures. The Python memory manager handles memory allocation through reference counting and garbage collection. Reference counting keeps track of the number of references to an object, deallocating memory when the count drops to zero. Garbage collection reclaims memory occupied by objects no longer in use, including those involved in circular references. This automated process simplifies development by relieving programmers from manual memory management, enhancing efficiency and reducing memory leak"
      ],
      "metadata": {
        "id": "YiVoPXl7ol1_"
      }
    },
    {
      "cell_type": "markdown",
      "source": [
        "12. What are the basic steps involved in exception handling in Python\n",
        "\n",
        "Python Exception Handling handles errors that occur during the execution of a program. Exception handling allows to respond to the error, instead of crashing the running program. It enables you to catch and manage errors, making your code more robust and user-friendly. Let's look at an example:\n",
        "\n",
        "Handling a Simple Exception in Python\n",
        "Exception handling helps in preventing crashes due to errors. Here’s a basic example demonstrating how to catch an exception and handle it gracefully:"
      ],
      "metadata": {
        "id": "hte1LPvYpD1v"
      }
    },
    {
      "cell_type": "code",
      "source": [
        "# Simple Exception Handling Example\n",
        "n = 10\n",
        "try:\n",
        "    res = n / 0  # This will raise a ZeroDivisionError\n",
        "\n",
        "except ZeroDivisionError:\n",
        "    print(\"Can't be divided by zero!\")"
      ],
      "metadata": {
        "colab": {
          "base_uri": "https://localhost:8080/"
        },
        "id": "pubRZChrqC8w",
        "outputId": "95ce97c5-8893-4d7e-f254-2698fe2f6318"
      },
      "execution_count": 3,
      "outputs": [
        {
          "output_type": "stream",
          "name": "stdout",
          "text": [
            "Can't be divided by zero!\n"
          ]
        }
      ]
    },
    {
      "cell_type": "markdown",
      "source": [
        "13. Why is memory management important in Python.\n",
        "\n",
        "    Memory management is important in Python because it directly impacts the efficiency, performance, and stability of programs. Python employs automatic memory management, which handles memory allocation and deallocation. Effective memory management prevents memory leaks, where unused memory is not released, and reduces the risk of program crashes due to memory exhaustion. It also optimizes memory usage, leading to faster execution times and improved overall system performance."
      ],
      "metadata": {
        "id": "LF6R-dlTqH3_"
      }
    },
    {
      "cell_type": "markdown",
      "source": [
        "14. What is the role of try and except in exception handling\n",
        "    In exception handling, try and except blocks work together to gracefully handle errors or exceptions that may occur during code execution. The try block contains the code that might potentially raise an exception, and the except block contains the code that will be executed if an exception is raised within the try block. This allows the program to continue running instead of crashing when an error occurs.\n",
        "    Here's a breakdown:\n",
        "    try block:\n",
        "    This block contains the code where you expect an exception to potentially be raised. If no exception occurs, the code in the try block is executed normally.\n",
        "    except block:\n",
        "    This block is only executed if an exception is raised within the try block. It provides a mechanism to handle the exception, allowing the program to continue running instead of crashing. You can specify the type of exception you want to handle in the except block, allowing you to catch and handle different types of errors in your code.\n",
        "    In essence, the try block \"attempts\" to execute a block of code, while the except block \"catches\" any exceptions that might arise during that attempt, enabling your program to handle errors gracefully"
      ],
      "metadata": {
        "id": "1er1qSxUqT7J"
      }
    },
    {
      "cell_type": "markdown",
      "source": [
        "15. How does Python's garbage collection system work\n",
        "\n",
        "    Python uses a hybrid approach to garbage collection: reference counting and generational garbage collection. Reference counting efficiently handles most cases where an object's reference count reaches zero, indicating no more active references. However, reference cycles, where objects refer to each other, can prevent reference counts from dropping to zero, necessitating the generational garbage collecto\n",
        "\n",
        "    1. Reference Counting:\n",
        "    Python tracks each object's reference count, incrementing it when a variable or data structure refers to it and decrementing it when the reference is removed.\n",
        "    When an object's reference count reaches zero, it's eligible for deallocation, freeing up memory.\n",
        "    2. Generational Garbage Collection (Cyclic Garbage Collector):\n",
        "    This mechanism handles reference cycles, where two objects refer to each other, causing reference counts to remain non-zero.\n",
        "    It identifies and breaks these cycles, allowing Python to reclaim memory occupied by unreachable objects.\n",
        "    Python classifies objects into three generations (young, middle, old) based on how long they've survived collection cycles.\n",
        "    The garbage collector prioritizes collecting younger generations as they are more likely to contain objects no longer in use.\n",
        "    3. Key Concepts:\n",
        "    Reference: A link between a variable or data structure and an object in memory.\n",
        "    Reference Cycle: A situation where objects refer to each other, preventing the reference count of any of them from dropping to zero.\n",
        "    Mark-and-Sweep Algorithm: An algorithm used by the generational garbage collector to identify reachable objects and reclaim memory from unreachable ones.\n",
        "    In essence, Python's garbage collection works by:\n",
        "    1. Tracking references:\n",
        "    Keeping track of how many variables/data structures are referring to each object.\n",
        "    2. Deallocating when necessary:\n",
        "    Removing objects with a reference count of zero.\n",
        "    3. Handling cycles:\n",
        "    Using the generational garbage collector to break reference cycles and reclaim memory from unreachable objects.\n",
        "    4. Prioritizing younger generations:\n",
        "    Collecting objects from younger generations more frequently as they are more likely to be garbage"
      ],
      "metadata": {
        "id": "GyCm78jLqehQ"
      }
    },
    {
      "cell_type": "markdown",
      "source": [
        "16.  What is the purpose of the else block in exception handling\n",
        "\n",
        "\n",
        "    The else block in exception handling, often used in try...except...else structures, executes only when no exceptions are raised within the try block. It provides a way to execute code that's intended to run when the try block executes successfully, effectively separating normal execution from exception handling.\n",
        "\n",
        "    Elaboration:\n",
        "    Purpose: The else block allows you to execute specific code when the try block's operations are successful and no errors occur.\n",
        "    Syntax: In many languages, the else block follows the try and except blocks.\n",
        "    Example (Python):\n"
      ],
      "metadata": {
        "id": "G5fr_OSAqtSK"
      }
    },
    {
      "cell_type": "code",
      "source": [
        "    try:\n",
        "        number = 10 / 2\n",
        "        print(number)\n",
        "    except ZeroDivisionError:\n",
        "        print(\"Cannot divide by zero\")\n",
        "    else:\n",
        "        print(\"Division successful\")\n",
        "    finally:\n",
        "        print(\"This always executes\")"
      ],
      "metadata": {
        "colab": {
          "base_uri": "https://localhost:8080/"
        },
        "id": "KlxtDk-ErDH7",
        "outputId": "5a7550e8-9a65-43e2-b3e5-a75e76a4802a"
      },
      "execution_count": null,
      "outputs": [
        {
          "output_type": "stream",
          "name": "stdout",
          "text": [
            "5.0\n",
            "Division successful\n",
            "This always executes\n"
          ]
        }
      ]
    },
    {
      "cell_type": "markdown",
      "source": [
        "      in above  example, the else block's code (\"Division successful\") will only be executed if the division in the try block succeeds without raising a ZeroDivisionError.\n",
        "      Benefits:\n",
        "      Code Clarity: It clearly separates the code that runs on successful execution from error handling.\n",
        "      Reduced Complexity: It avoids repeating code that should only run on success within both the try and except blocks, making the code more concise.\n",
        "      Improved Readability: It makes it easier to understand the flow of execution when no exceptions are raised."
      ],
      "metadata": {
        "id": "FyZVm2mMrL2Y"
      }
    },
    {
      "cell_type": "markdown",
      "source": [
        "17.  What are the common logging levels in Python\n",
        "\n",
        "    Python's logging module offers a range of logging levels to categorize events by severity. These levels, in ascending order of severity, are:\n",
        "    DEBUG (10):\n",
        "    Detailed information, typically used for diagnosing problems during development.\n",
        "    INFO (20):\n",
        "    Confirmation that things are working as expected, marking important events in the application's flow.\n",
        "    WARNING (30):\n",
        "    Indication that something unexpected happened, or might happen in the future, but the application can still function.\n",
        "    ERROR (40):\n",
        "    Signifies a more serious problem, where a specific function has failed, but the application as a whole can continue to run.\n",
        "    CRITICAL (50):\n",
        "    Denotes a critical error, potentially leading to the termination of the application.\n",
        "    When configuring the logging level, messages at that level and above will be logged. For instance, setting the level to INFO will capture INFO, WARNING, ERROR, and CRITICAL messages, but not DEBUG messages\n"
      ],
      "metadata": {
        "id": "uBbhUrc-rVnx"
      }
    },
    {
      "cell_type": "markdown",
      "source": [
        "18. What is the difference between os.fork() and multiprocessing in Python\n",
        "\n",
        "    os.fork() and multiprocessing both facilitate the creation of processes in Python, but they operate differently and serve distinct purposes.\n",
        "    os.fork() creates a new process by duplicating the calling process. The child process is an exact copy of the parent, inheriting its memory space and resources. It's a low-level system call, primarily available on Unix-like systems. After forking, both parent and child processes continue execution from the point of the fork() cal\n"
      ],
      "metadata": {
        "id": "CfAiw2pmrkT-"
      }
    },
    {
      "cell_type": "code",
      "source": [
        "import os\n",
        "\n",
        "pid = os.fork()\n",
        "\n",
        "if pid == 0:\n",
        "    # Child process\n",
        "    print(\"Child process:\", os.getpid())\n",
        "else:\n",
        "    # Parent process\n",
        "    print(\"Parent process:\", os.getpid(), \"Child PID:\", pid)"
      ],
      "metadata": {
        "colab": {
          "base_uri": "https://localhost:8080/"
        },
        "id": "3zMsoke0rv8X",
        "outputId": "aebd0289-eee7-4a52-f50d-8cf70ff82638"
      },
      "execution_count": null,
      "outputs": [
        {
          "output_type": "stream",
          "name": "stdout",
          "text": [
            "Parent process: 4979 Child PID: 14139\n",
            "Child process: 14139\n"
          ]
        }
      ]
    },
    {
      "cell_type": "markdown",
      "source": [
        "      multiprocessing is a higher-level module that provides a more robust and portable way to manage processes. It offers features like process pools, queues, and locks, making it easier to write concurrent programs. multiprocessing can use different start methods (\"fork\", \"spawn\", or \"forkserver\") to create new processes, offering flexibility across platforms."
      ],
      "metadata": {
        "id": "eOt8PdZtryjA"
      }
    },
    {
      "cell_type": "code",
      "source": [
        "import multiprocessing\n",
        "\n",
        "def worker(num):\n",
        "    print(\"Worker process:\", multiprocessing.current_process().pid, \"Number:\", num)\n",
        "\n",
        "if __name__ == '__main__':\n",
        "    processes = []\n",
        "    for i in range(5):\n",
        "        p = multiprocessing.Process(target=worker, args=(i,))\n",
        "        processes.append(p)\n",
        "        p.start()\n",
        "\n",
        "    for p in processes:\n",
        "        p.join()"
      ],
      "metadata": {
        "id": "bzgHzB5sr1iA",
        "colab": {
          "base_uri": "https://localhost:8080/"
        },
        "outputId": "e71d75a5-d5bd-4b83-b8f9-3d7ed34c2d43"
      },
      "execution_count": 4,
      "outputs": [
        {
          "output_type": "stream",
          "name": "stdout",
          "text": [
            "Worker process: 29020Worker process: Number: Worker process:29023 Worker process:  Number:0  129026Worker process:\n",
            "\n",
            "29033  Number:29042 2 \n",
            " Number:Number:  34\n",
            "\n"
          ]
        }
      ]
    },
    {
      "cell_type": "markdown",
      "source": [
        "      Key differences:\n",
        "      Portability:\n",
        "      os.fork() is Unix-specific, while multiprocessing is cross-platform.\n",
        "      Functionality:\n",
        "      multiprocessing provides advanced features for inter-process communication and synchronization, which are not available with os.fork().\n",
        "      Complexity:\n",
        "      os.fork() is simpler to use for basic process creation, but multiprocessing is better suited for complex parallel applications.\n",
        "      Memory Management:\n",
        "      os.fork() duplicates the entire memory space, which can be inefficient. multiprocessing with the \"spawn\" or \"forkserver\" start methods creates new processes from scratch, avoiding this issue.\n",
        "      In essence, os.fork() is a low-level tool for basic process creation, while multiprocessing is a comprehensive module for building parallel applications. The choice between them depends on the specific requirements of the task and the target platform"
      ],
      "metadata": {
        "id": "IGm5PSe7r8h3"
      }
    },
    {
      "cell_type": "markdown",
      "source": [
        "19. What is the importance of closing a file in Python\n",
        "\n",
        "    In Python, a file object (often denoted as fp) is a representation of an open file. When working with files, it is essential to close the file properly to release system resources and ensure data integrity. Closing a file is crucial to avoid potential issues like data corruption and resource leaks\n",
        "\n"
      ],
      "metadata": {
        "id": "uRgdAjy5r_J2"
      }
    },
    {
      "cell_type": "markdown",
      "source": [],
      "metadata": {
        "id": "JXVcVXr7rPqT"
      }
    },
    {
      "cell_type": "markdown",
      "source": [
        "20. What is the difference between file.read() and file.readline() in Python\n",
        "\n",
        "\n",
        "      The methods file.read() and file.readline() serve different purposes when reading data from a file in Python. The key differences lie in how much data they read and what they return.\n",
        "      \n",
        "      file.read(): This method reads the entire file content as a single string. If a size argument is provided (e.g., file.read(size)), it reads up to that many characters. Without the size argument, it reads the entire file, which can be memory-intensive for large files"
      ],
      "metadata": {
        "id": "WoTf9m47sROh"
      }
    },
    {
      "cell_type": "code",
      "source": [
        "    with open(\"my_file.txt\", \"r\") as file:\n",
        "        content = file.read()\n",
        "        print(content) # Prints the entire content of the file"
      ],
      "metadata": {
        "id": "hf743VMesbyY",
        "colab": {
          "base_uri": "https://localhost:8080/",
          "height": 176
        },
        "outputId": "6ac0c944-5599-4d17-9cfb-abae656671c9"
      },
      "execution_count": 6,
      "outputs": [
        {
          "output_type": "error",
          "ename": "FileNotFoundError",
          "evalue": "[Errno 2] No such file or directory: 'my_file.txt'",
          "traceback": [
            "\u001b[0;31m---------------------------------------------------------------------------\u001b[0m",
            "\u001b[0;31mFileNotFoundError\u001b[0m                         Traceback (most recent call last)",
            "\u001b[0;32m<ipython-input-6-50dcb24c9c17>\u001b[0m in \u001b[0;36m<cell line: 0>\u001b[0;34m()\u001b[0m\n\u001b[0;32m----> 1\u001b[0;31m \u001b[0;32mwith\u001b[0m \u001b[0mopen\u001b[0m\u001b[0;34m(\u001b[0m\u001b[0;34m\"my_file.txt\"\u001b[0m\u001b[0;34m,\u001b[0m \u001b[0;34m\"r\"\u001b[0m\u001b[0;34m)\u001b[0m \u001b[0;32mas\u001b[0m \u001b[0mfile\u001b[0m\u001b[0;34m:\u001b[0m\u001b[0;34m\u001b[0m\u001b[0;34m\u001b[0m\u001b[0m\n\u001b[0m\u001b[1;32m      2\u001b[0m     \u001b[0mcontent\u001b[0m \u001b[0;34m=\u001b[0m \u001b[0mfile\u001b[0m\u001b[0;34m.\u001b[0m\u001b[0mread\u001b[0m\u001b[0;34m(\u001b[0m\u001b[0;34m)\u001b[0m\u001b[0;34m\u001b[0m\u001b[0;34m\u001b[0m\u001b[0m\n\u001b[1;32m      3\u001b[0m     \u001b[0mprint\u001b[0m\u001b[0;34m(\u001b[0m\u001b[0mcontent\u001b[0m\u001b[0;34m)\u001b[0m \u001b[0;31m# Prints the entire content of the file\u001b[0m\u001b[0;34m\u001b[0m\u001b[0;34m\u001b[0m\u001b[0m\n",
            "\u001b[0;31mFileNotFoundError\u001b[0m: [Errno 2] No such file or directory: 'my_file.txt'"
          ]
        }
      ]
    },
    {
      "cell_type": "markdown",
      "source": [
        "    file.readline(): This method reads a single line from the file, including the newline character (\\n) at the end. Each subsequent call to readline() advances the file pointer to the next line. If there are no more lines to read, it returns an empty string."
      ],
      "metadata": {
        "id": "6nJ2J5DksdQv"
      }
    },
    {
      "cell_type": "code",
      "source": [
        "    with open(\"my_file.txt\", \"r\") as file:\n",
        "        line1 = file.readline()\n",
        "        print(line1) # Prints the first line\n",
        "\n",
        "        line2 = file.readline()\n",
        "        print(line2) # Prints the second line"
      ],
      "metadata": {
        "id": "bReNKTdYsmLu",
        "colab": {
          "base_uri": "https://localhost:8080/",
          "height": 211
        },
        "outputId": "5e5309b3-48dc-4e39-b998-da4afc10e9d4"
      },
      "execution_count": 7,
      "outputs": [
        {
          "output_type": "error",
          "ename": "FileNotFoundError",
          "evalue": "[Errno 2] No such file or directory: 'my_file.txt'",
          "traceback": [
            "\u001b[0;31m---------------------------------------------------------------------------\u001b[0m",
            "\u001b[0;31mFileNotFoundError\u001b[0m                         Traceback (most recent call last)",
            "\u001b[0;32m<ipython-input-7-e631a7f7b334>\u001b[0m in \u001b[0;36m<cell line: 0>\u001b[0;34m()\u001b[0m\n\u001b[0;32m----> 1\u001b[0;31m \u001b[0;32mwith\u001b[0m \u001b[0mopen\u001b[0m\u001b[0;34m(\u001b[0m\u001b[0;34m\"my_file.txt\"\u001b[0m\u001b[0;34m,\u001b[0m \u001b[0;34m\"r\"\u001b[0m\u001b[0;34m)\u001b[0m \u001b[0;32mas\u001b[0m \u001b[0mfile\u001b[0m\u001b[0;34m:\u001b[0m\u001b[0;34m\u001b[0m\u001b[0;34m\u001b[0m\u001b[0m\n\u001b[0m\u001b[1;32m      2\u001b[0m     \u001b[0mline1\u001b[0m \u001b[0;34m=\u001b[0m \u001b[0mfile\u001b[0m\u001b[0;34m.\u001b[0m\u001b[0mreadline\u001b[0m\u001b[0;34m(\u001b[0m\u001b[0;34m)\u001b[0m\u001b[0;34m\u001b[0m\u001b[0;34m\u001b[0m\u001b[0m\n\u001b[1;32m      3\u001b[0m     \u001b[0mprint\u001b[0m\u001b[0;34m(\u001b[0m\u001b[0mline1\u001b[0m\u001b[0;34m)\u001b[0m \u001b[0;31m# Prints the first line\u001b[0m\u001b[0;34m\u001b[0m\u001b[0;34m\u001b[0m\u001b[0m\n\u001b[1;32m      4\u001b[0m \u001b[0;34m\u001b[0m\u001b[0m\n\u001b[1;32m      5\u001b[0m     \u001b[0mline2\u001b[0m \u001b[0;34m=\u001b[0m \u001b[0mfile\u001b[0m\u001b[0;34m.\u001b[0m\u001b[0mreadline\u001b[0m\u001b[0;34m(\u001b[0m\u001b[0;34m)\u001b[0m\u001b[0;34m\u001b[0m\u001b[0;34m\u001b[0m\u001b[0m\n",
            "\u001b[0;31mFileNotFoundError\u001b[0m: [Errno 2] No such file or directory: 'my_file.txt'"
          ]
        }
      ]
    },
    {
      "cell_type": "markdown",
      "source": [
        "    In summary, file.read() is suitable for reading the entire file content at once, while file.readline() is useful for processing a file line by line, especially when dealing with large files where loading the entire content into memory is not feasible."
      ],
      "metadata": {
        "id": "ayAqXB9Xso-2"
      }
    },
    {
      "cell_type": "markdown",
      "source": [
        "21. What is the logging module in Python used for\n",
        "\n",
        "\n",
        "      The logging module in Python is used for recording events and debugging issues during application execution. It provides a flexible system for logging messages, including errors, warnings, and informational messages, to various output destinations like files or the console.\n",
        "      Here's a more detailed explanation:\n",
        "      Event Tracking:\n",
        "      Logging allows developers to track what happens while a program is running, including errors, warnings, and other notable events.\n",
        "      Debugging:\n",
        "      It helps developers identify the root cause of issues by providing a detailed record of the application's execution.\n",
        "      Monitoring:\n",
        "      Logging can be used to monitor the health and performance of an application over time.\n",
        "      Flexibility:\n",
        "      The logging module offers a wide range of options for configuring log messages, including log levels, formatters, and handlers.\n",
        "      Output Destinations:\n",
        "      Log messages can be directed to various output destinations, such as files, the console, or even other applications."
      ],
      "metadata": {
        "id": "QSpaAj7lstwM"
      }
    },
    {
      "cell_type": "markdown",
      "source": [
        " 22.  What is the os module in Python used for in file handling.\n",
        "\n",
        "      Python has a built-in OS  module with methods for interacting with the operating system, like creating files and directories, management of files and directories, input, output, environment variables, process management, etc\n"
      ],
      "metadata": {
        "id": "EYl96Fsks1YW"
      }
    },
    {
      "cell_type": "markdown",
      "source": [
        "23.  What are the challenges associated with memory management in Python\n",
        "\n",
        "      The basic problem in managing memory is knowing when to keep the data it contains, and when to throw it away so that the memory can be reused. This sounds easy, but is, in fact, such a hard problem that it is an entire field of study in its own right.\n"
      ],
      "metadata": {
        "id": "PWiWesw2tEja"
      }
    },
    {
      "cell_type": "markdown",
      "source": [
        "24 . How do you raise an exception manually in Python\n",
        "\n",
        "    To raise an exception manually in Python, the raise keyword is used, followed by the exception class or instance that is being raised. Optionally, a message describing the error can be included.\n"
      ],
      "metadata": {
        "id": "rDSYTf2wtjXg"
      }
    },
    {
      "cell_type": "code",
      "source": [
        "raise Exception(\"This is a generic exception.\")\n",
        "\n",
        "raise ValueError(\"Invalid input provided.\")\n",
        "\n",
        "x = -1\n",
        "if x < 0:\n",
        "  raise Exception(\"Numbers below zero are not allowed\")"
      ],
      "metadata": {
        "id": "vmc0nSR1tsBK",
        "colab": {
          "base_uri": "https://localhost:8080/",
          "height": 211
        },
        "outputId": "f2b24d7e-c346-4acd-e0f9-8c11b53972a3"
      },
      "execution_count": 8,
      "outputs": [
        {
          "output_type": "error",
          "ename": "Exception",
          "evalue": "This is a generic exception.",
          "traceback": [
            "\u001b[0;31m---------------------------------------------------------------------------\u001b[0m",
            "\u001b[0;31mException\u001b[0m                                 Traceback (most recent call last)",
            "\u001b[0;32m<ipython-input-8-72377b7b1d5f>\u001b[0m in \u001b[0;36m<cell line: 0>\u001b[0;34m()\u001b[0m\n\u001b[0;32m----> 1\u001b[0;31m \u001b[0;32mraise\u001b[0m \u001b[0mException\u001b[0m\u001b[0;34m(\u001b[0m\u001b[0;34m\"This is a generic exception.\"\u001b[0m\u001b[0;34m)\u001b[0m\u001b[0;34m\u001b[0m\u001b[0;34m\u001b[0m\u001b[0m\n\u001b[0m\u001b[1;32m      2\u001b[0m \u001b[0;34m\u001b[0m\u001b[0m\n\u001b[1;32m      3\u001b[0m \u001b[0;32mraise\u001b[0m \u001b[0mValueError\u001b[0m\u001b[0;34m(\u001b[0m\u001b[0;34m\"Invalid input provided.\"\u001b[0m\u001b[0;34m)\u001b[0m\u001b[0;34m\u001b[0m\u001b[0;34m\u001b[0m\u001b[0m\n\u001b[1;32m      4\u001b[0m \u001b[0;34m\u001b[0m\u001b[0m\n\u001b[1;32m      5\u001b[0m \u001b[0mx\u001b[0m \u001b[0;34m=\u001b[0m \u001b[0;34m-\u001b[0m\u001b[0;36m1\u001b[0m\u001b[0;34m\u001b[0m\u001b[0;34m\u001b[0m\u001b[0m\n",
            "\u001b[0;31mException\u001b[0m: This is a generic exception."
          ]
        }
      ]
    },
    {
      "cell_type": "markdown",
      "source": [
        "  It is considered best practice to raise specific exception types that accurately reflect the nature of the error. This allows for more precise error handling and debugging."
      ],
      "metadata": {
        "id": "pcXNZ2bUtuln"
      }
    },
    {
      "cell_type": "code",
      "source": [
        "def process_data(data):\n",
        "    if not isinstance(data, list):\n",
        "        raise TypeError(\"Data must be a list.\")\n",
        "    if not all(isinstance(item, int) for item in data):\n",
        "        raise ValueError(\"All items in data must be integers.\")\n",
        "    # Process the data\n",
        "    return sum(data)"
      ],
      "metadata": {
        "id": "XTLqKHsmtyGk"
      },
      "execution_count": 10,
      "outputs": []
    },
    {
      "cell_type": "markdown",
      "source": [
        "When raising an exception, it's important to provide a clear and informative error message to help with debugging."
      ],
      "metadata": {
        "id": "-GqcvQbrt1Pk"
      }
    },
    {
      "cell_type": "code",
      "source": [
        "raise ValueError(\"The value must be between 0 and 100, but got {}\".format(value))\n"
      ],
      "metadata": {
        "id": "oh8yHX5lt2jU",
        "colab": {
          "base_uri": "https://localhost:8080/",
          "height": 141
        },
        "outputId": "ef06da3b-15af-4981-fe6f-a8d2549d51e4"
      },
      "execution_count": 11,
      "outputs": [
        {
          "output_type": "error",
          "ename": "NameError",
          "evalue": "name 'value' is not defined",
          "traceback": [
            "\u001b[0;31m---------------------------------------------------------------------------\u001b[0m",
            "\u001b[0;31mNameError\u001b[0m                                 Traceback (most recent call last)",
            "\u001b[0;32m<ipython-input-11-8376fecd1d30>\u001b[0m in \u001b[0;36m<cell line: 0>\u001b[0;34m()\u001b[0m\n\u001b[0;32m----> 1\u001b[0;31m \u001b[0;32mraise\u001b[0m \u001b[0mValueError\u001b[0m\u001b[0;34m(\u001b[0m\u001b[0;34m\"The value must be between 0 and 100, but got {}\"\u001b[0m\u001b[0;34m.\u001b[0m\u001b[0mformat\u001b[0m\u001b[0;34m(\u001b[0m\u001b[0mvalue\u001b[0m\u001b[0;34m)\u001b[0m\u001b[0;34m)\u001b[0m\u001b[0;34m\u001b[0m\u001b[0;34m\u001b[0m\u001b[0m\n\u001b[0m",
            "\u001b[0;31mNameError\u001b[0m: name 'value' is not defined"
          ]
        }
      ]
    },
    {
      "cell_type": "markdown",
      "source": [
        "25 Why is it important to use multithreading in certain applications?\n",
        "\n",
        "    Multithreading is important in applications that benefit from concurrent execution of tasks, improved responsiveness, and efficient resource utilization. By breaking down a program into smaller, independent threads, applications can perform multiple operations simultaneously, leading to faster execution, smoother user interfaces, and better utilization of CPU cores.\n",
        "    Here's a more detailed explanation:\n",
        "    1. Enhanced Performance:\n",
        "    Parallel Execution:\n",
        "    Multithreading allows different parts of a program to run concurrently, especially on multi-core processors. This can significantly reduce the overall execution time, especially for tasks that can be divided into smaller, independent operations.\n",
        "    CPU Utilization:\n",
        "    By allowing multiple threads to run, multithreading can keep the CPU busy, even when one thread is waiting for I/O or other resources. This improves overall CPU utilization and can lead to faster application performance.\n",
        "    2. Improved Responsiveness:\n",
        "    User Interface:\n",
        "    Multithreading allows the user interface to remain responsive even while the application is performing long-running tasks in the background. This prevents the UI from freezing and provides a better user experience.\n",
        "    Concurrency:\n",
        "    Multithreading enables an application to handle multiple user requests or events concurrently, making it more responsive and efficient.\n",
        "    3. Efficient Resource Utilization:\n",
        "    Context Switching:\n",
        "    Switching between threads is generally faster than switching between separate processes. This is because threads within the same process share the same memory space and resources, reducing the overhead associated with context switching.\n",
        "    Resource Sharing:\n",
        "    Threads within the same process can easily share data and resources, simplifying communication and coordination between different parts of the application.\n",
        "    Scalability:\n",
        "    Multithreading allows applications to scale more easily by adding more threads to handle increased workloads.\n",
        "    4. Other Benefits:\n",
        "    Simpler Program Structure:\n",
        "    In some cases, multithreading can simplify the structure of a program by allowing different parts of the application to handle specific tasks in a more natural way.\n",
        "    Network Applications:\n",
        "    Multithreading is crucial for applications like web servers, which need to handle multiple client requests simultaneously.\n",
        "    Scientific Computing:\n",
        "    Multithreading can be used to parallelize computations, significantly speeding up complex simulations and calculations.\n",
        "    In summary, multithreading is a valuable tool for improving application performance, responsiveness, and resource utilization, especially in applications that involve complex computations, user interface interaction, and handling multiple concurrent requests."
      ],
      "metadata": {
        "id": "mO6vIRU-uAJ8"
      }
    },
    {
      "cell_type": "markdown",
      "source": [
        "**Practical Questions**"
      ],
      "metadata": {
        "id": "H7nMCDD9uYkw"
      }
    },
    {
      "cell_type": "code",
      "source": [
        "#1. How can you open a file for writing in Python and write a string to it\n",
        "# Open a file for writing (creates the file if it doesn't exist, overwrites if it does)\n",
        "with open(\"example.txt\", \"w\") as file:\n",
        "    file.write(\"Hello, this is a sample string!\")"
      ],
      "metadata": {
        "id": "gaVuM3wqued6"
      },
      "execution_count": 12,
      "outputs": []
    },
    {
      "cell_type": "code",
      "source": [
        "#2. Write a Python program to read the contents of a file and print each line\n",
        "# Open the file for reading\n",
        "with open(\"example.txt\", \"r\") as file:\n",
        "    # Read and print each line\n",
        "    for line in file:\n",
        "        print(line.strip())  # .strip() removes any trailing newline characters"
      ],
      "metadata": {
        "id": "SIGu_J_Ku45w",
        "colab": {
          "base_uri": "https://localhost:8080/"
        },
        "outputId": "1e531b93-e121-4ce4-fd69-3cd06dccb06e"
      },
      "execution_count": 13,
      "outputs": [
        {
          "output_type": "stream",
          "name": "stdout",
          "text": [
            "Hello, this is a sample string!\n"
          ]
        }
      ]
    },
    {
      "cell_type": "code",
      "source": [
        "#3 How would you handle a case where the file doesn't exist while trying to open it for reading\n",
        "\n",
        "\n",
        "filename = \"example.txt\"\n",
        "\n",
        "try:\n",
        "    with open(filename, \"r\") as file:\n",
        "        for line in file:\n",
        "            print(line.strip())\n",
        "except FileNotFoundError:\n",
        "    print(f\"Error: The file '{filename}' was not found.\")"
      ],
      "metadata": {
        "id": "Ma7L3cS4vV7l",
        "colab": {
          "base_uri": "https://localhost:8080/"
        },
        "outputId": "21102489-66ef-44b7-c100-bad8685b0ce4"
      },
      "execution_count": 14,
      "outputs": [
        {
          "output_type": "stream",
          "name": "stdout",
          "text": [
            "Hello, this is a sample string!\n"
          ]
        }
      ]
    },
    {
      "cell_type": "code",
      "source": [
        "#4. Write a Python script that reads from one file and writes its content to another fileF\n",
        "# Define source and destination file names\n",
        "source_file = \"source.txt\"\n",
        "destination_file = \"destination.txt\"\n",
        "\n",
        "try:\n",
        "    # Open the source file for reading\n",
        "    with open(source_file, \"r\") as src:\n",
        "        # Open the destination file for writing\n",
        "        with open(destination_file, \"w\") as dst:\n",
        "            # Read from source and write to destination\n",
        "            for line in src:\n",
        "                dst.write(line)\n",
        "    print(f\"Contents copied from '{source_file}' to '{destination_file}'.\")\n",
        "except FileNotFoundError:\n",
        "    print(f\"Error: The file '{source_file}' was not found.\")\n",
        "except IOError as e:\n",
        "    print(f\"I/O error occurred: {e}\")"
      ],
      "metadata": {
        "id": "nXto_hbKvkgZ",
        "colab": {
          "base_uri": "https://localhost:8080/"
        },
        "outputId": "d30869e7-5abc-4b9c-c7ee-77ddc88b7324"
      },
      "execution_count": 17,
      "outputs": [
        {
          "output_type": "stream",
          "name": "stdout",
          "text": [
            "Error: The file 'source.txt' was not found.\n"
          ]
        }
      ]
    },
    {
      "cell_type": "code",
      "source": [
        "# 5. How would you catch and handle division by zero error in Python\n",
        "\n",
        "try:\n",
        "    numerator = 10\n",
        "    denominator = 0\n",
        "    result = numerator / denominator\n",
        "    print(\"Result:\", result)\n",
        "except ZeroDivisionError:\n",
        "    print(\"Error: Cannot divide by zero.\")"
      ],
      "metadata": {
        "id": "GjKjHccmv8W8",
        "colab": {
          "base_uri": "https://localhost:8080/"
        },
        "outputId": "13750941-0a44-455a-cd62-3faf34de2e35"
      },
      "execution_count": 18,
      "outputs": [
        {
          "output_type": "stream",
          "name": "stdout",
          "text": [
            "Error: Cannot divide by zero.\n"
          ]
        }
      ]
    },
    {
      "cell_type": "markdown",
      "source": [
        "#6"
      ],
      "metadata": {
        "id": "-GHLXAbqzgLm"
      }
    },
    {
      "cell_type": "code",
      "source": [
        "#6 Write a Python program that logs an error message to a log file when a division by zero exception occurs\n",
        "\n",
        "import logging\n",
        "\n",
        "# Configure logging to write to a file\n",
        "logging.basicConfig(\n",
        "    filename='error_log.txt',\n",
        "    level=logging.ERROR,\n",
        "    format='%(asctime)s - %(levelname)s - %(message)s'\n",
        ")\n",
        "\n",
        "try:\n",
        "    numerator = 10\n",
        "    denominator = 0\n",
        "    result = numerator / denominator\n",
        "except ZeroDivisionError as e:\n",
        "    logging.error(\"Division by zero error occurred: %s\", e)\n",
        "    print(\"An error occurred. Check the log file for details.\")\n"
      ],
      "metadata": {
        "id": "Q3ocpK1w0pDW",
        "colab": {
          "base_uri": "https://localhost:8080/"
        },
        "outputId": "fc13f9cc-f442-4544-bd7a-7a546ac2b7f2"
      },
      "execution_count": 19,
      "outputs": [
        {
          "output_type": "stream",
          "name": "stderr",
          "text": [
            "ERROR:root:Division by zero error occurred: division by zero\n"
          ]
        },
        {
          "output_type": "stream",
          "name": "stdout",
          "text": [
            "An error occurred. Check the log file for details.\n"
          ]
        }
      ]
    },
    {
      "cell_type": "code",
      "source": [
        "# 7. How do you log information at different levels (INFO, ERROR, WARNING) in Python using the logging module\n",
        "\n",
        "\"\"\" n Python, the logging module provides several built-in logging levels to help categorize log messages by severity:\n",
        "\n",
        "DEBUG\n",
        "\n",
        "INFO\n",
        "\n",
        "WARNING\n",
        "\n",
        "ERROR\n",
        "\n",
        "CRITICAL\n",
        "\n",
        "Here's how to use them:\"\"\"\n",
        "\n",
        "import logging\n",
        "\n",
        "# Configure logging\n",
        "logging.basicConfig(\n",
        "    filename='app.log',        # Log file name\n",
        "    level=logging.DEBUG,       # Minimum level to capture\n",
        "    format='%(asctime)s - %(levelname)s - %(message)s'\n",
        ")\n",
        "\n",
        "# Log messages at various levels\n",
        "logging.debug(\"This is a DEBUG message (useful for diagnosing problems).\")\n",
        "logging.info(\"This is an INFO message (general information).\")\n",
        "logging.warning(\"This is a WARNING message (something unexpected or deprecated).\")\n",
        "logging.error(\"This is an ERROR message (something failed).\")\n",
        "logging.critical(\"This is a CRITICAL message (serious failure).\")\n"
      ],
      "metadata": {
        "id": "Wr7AQmnH03Bb",
        "colab": {
          "base_uri": "https://localhost:8080/"
        },
        "outputId": "83af9d6f-049d-4306-df00-15ca17951cf3"
      },
      "execution_count": 21,
      "outputs": [
        {
          "output_type": "stream",
          "name": "stderr",
          "text": [
            "WARNING:root:This is a WARNING message (something unexpected or deprecated).\n",
            "ERROR:root:This is an ERROR message (something failed).\n",
            "CRITICAL:root:This is a CRITICAL message (serious failure).\n"
          ]
        }
      ]
    },
    {
      "cell_type": "code",
      "source": [
        "#8.  Write a program to handle a file opening error using exception handling\n",
        "\n",
        "filename = \"nonexistent_file.txt\"\n",
        "\n",
        "try:\n",
        "    with open(filename, \"r\") as file:\n",
        "        content = file.read()\n",
        "        print(content)\n",
        "except FileNotFoundError:\n",
        "    print(f\"Error: The file '{filename}' does not exist.\")\n",
        "except IOError as e:\n",
        "    print(f\"An I/O error occurred: {e}\")"
      ],
      "metadata": {
        "id": "fRjS1kV-1Ze8",
        "colab": {
          "base_uri": "https://localhost:8080/"
        },
        "outputId": "c90a076c-df4d-4a81-9a71-abb9d24dd696"
      },
      "execution_count": 22,
      "outputs": [
        {
          "output_type": "stream",
          "name": "stdout",
          "text": [
            "Error: The file 'nonexistent_file.txt' does not exist.\n"
          ]
        }
      ]
    },
    {
      "cell_type": "code",
      "source": [
        "#9.  How can you read a file line by line and store its content in a list in Python\n",
        "\n",
        "\n",
        "try:\n",
        "    with open(filename, \"r\") as file:\n",
        "        lines = [line.strip() for line in file]  # .strip() removes newline characters\n",
        "    print(\"File content as list:\")\n",
        "    print(lines)\n",
        "except FileNotFoundError:\n",
        "    print(f\"Error: The file '{filename}' was not found.\")"
      ],
      "metadata": {
        "id": "IVW5fH-a1mpf",
        "colab": {
          "base_uri": "https://localhost:8080/"
        },
        "outputId": "77df36fd-a7a1-47d7-8287-cfe3cd8db225"
      },
      "execution_count": 23,
      "outputs": [
        {
          "output_type": "stream",
          "name": "stdout",
          "text": [
            "Error: The file 'nonexistent_file.txt' was not found.\n"
          ]
        }
      ]
    },
    {
      "cell_type": "code",
      "source": [
        "# 10.  How can you append data to an existing file in Python\n",
        "\n",
        "filename = \"example.txt\"\n",
        "\n",
        "try:\n",
        "    with open(filename, \"a\") as file:\n",
        "        file.write(\"This line will be appended to the file.\\n\")\n",
        "    print(\"Data appended successfully.\")\n",
        "except IOError as e:\n",
        "    print(f\"An error occurred while appending to the file: {e}\")"
      ],
      "metadata": {
        "id": "BwVfQw9G126o",
        "colab": {
          "base_uri": "https://localhost:8080/"
        },
        "outputId": "d26cb471-4d9d-4e52-cd60-24402db3f61e"
      },
      "execution_count": 24,
      "outputs": [
        {
          "output_type": "stream",
          "name": "stdout",
          "text": [
            "Data appended successfully.\n"
          ]
        }
      ]
    },
    {
      "cell_type": "code",
      "source": [
        "#11  Write a Python program that uses a try-except block to handle an error when attempting to access adictionary key that doesn't exist\n",
        "\n",
        "my_dict = {\n",
        "    \"name\": \"Alice\",\n",
        "    \"age\": 30\n",
        "}\n",
        "\n",
        "key_to_access = \"email\"\n",
        "\n",
        "try:\n",
        "    value = my_dict[key_to_access]\n",
        "    print(f\"The value for '{key_to_access}' is: {value}\")\n",
        "except KeyError:\n",
        "    print(f\"Error: The key '{key_to_access}' does not exist in the dictionary.\")"
      ],
      "metadata": {
        "id": "GmYpdcfW2HQw",
        "colab": {
          "base_uri": "https://localhost:8080/"
        },
        "outputId": "e5692bac-6b42-4d09-849b-d928a5475b37"
      },
      "execution_count": 25,
      "outputs": [
        {
          "output_type": "stream",
          "name": "stdout",
          "text": [
            "Error: The key 'email' does not exist in the dictionary.\n"
          ]
        }
      ]
    },
    {
      "cell_type": "code",
      "source": [
        "#12   Write a program that demonstrates using multiple except blocks to handle different types of exceptionsF\n",
        "\n",
        "\n",
        "try:\n",
        "    num1 = int(input(\"Enter a number: \"))\n",
        "    num2 = int(input(\"Enter another number: \"))\n",
        "    result = num1 / num2\n",
        "    print(f\"Result: {result}\")\n",
        "\n",
        "    my_list = [1, 2, 3]\n",
        "    print(\"Fourth item in the list:\", my_list[3])\n",
        "\n",
        "except ValueError:\n",
        "    print(\"Error: Invalid input. Please enter integers only.\")\n",
        "\n",
        "except ZeroDivisionError:\n",
        "    print(\"Error: Division by zero is not allowed.\")\n",
        "\n",
        "except IndexError:\n",
        "    print(\"Error: List index out of range.\")\n",
        "\n",
        "except Exception as e:\n",
        "    print(f\"An unexpected error occurred: {e}\")"
      ],
      "metadata": {
        "id": "Lt2dkZPH3M5R",
        "colab": {
          "base_uri": "https://localhost:8080/"
        },
        "outputId": "a9470489-f63c-4f0d-e45a-7c94b2089b91"
      },
      "execution_count": 26,
      "outputs": [
        {
          "output_type": "stream",
          "name": "stdout",
          "text": [
            "Enter a number: 5\n",
            "Enter another number: 5\n",
            "Result: 1.0\n",
            "Error: List index out of range.\n"
          ]
        }
      ]
    },
    {
      "cell_type": "code",
      "source": [
        "#13.  How would you check if a file exists before attempting to read it in Python\n",
        "\n",
        "import os\n",
        "\n",
        "filename = \"example.txt\"\n",
        "\n",
        "if os.path.exists(filename):\n",
        "    with open(filename, \"r\") as file:\n",
        "        content = file.read()\n",
        "        print(content)\n",
        "else:\n",
        "    print(f\"The file '{filename}' does not exist.\")"
      ],
      "metadata": {
        "colab": {
          "base_uri": "https://localhost:8080/"
        },
        "id": "W0DlRcReDhJU",
        "outputId": "f74a367c-3351-4c25-c76d-dfbcf480b908"
      },
      "execution_count": 27,
      "outputs": [
        {
          "output_type": "stream",
          "name": "stdout",
          "text": [
            "Hello, this is a sample string!This line will be appended to the file.\n",
            "\n"
          ]
        }
      ]
    },
    {
      "cell_type": "code",
      "source": [
        "#14 Write a program that uses the logging module to log both informational and error messages\n",
        "\n",
        "import logging\n",
        "\n",
        "# Configure logging\n",
        "logging.basicConfig(\n",
        "    filename='app.log',\n",
        "    level=logging.DEBUG,  # Capture all levels DEBUG and above\n",
        "    format='%(asctime)s - %(levelname)s - %(message)s'\n",
        ")\n",
        "\n",
        "def divide(a, b):\n",
        "    try:\n",
        "        logging.info(f\"Attempting to divide {a} by {b}\")\n",
        "        result = a / b\n",
        "        logging.info(f\"Division successful: {a} / {b} = {result}\")\n",
        "        return result\n",
        "    except ZeroDivisionError as e:\n",
        "        logging.error(\"Division by zero error: %s\", e)\n",
        "        return None\n",
        "    except Exception as e:\n",
        "        logging.error(\"An unexpected error occurred: %s\", e)\n",
        "        return None\n",
        "\n",
        "# Example usage\n",
        "divide(10, 2)   # Logs INFO\n",
        "divide(5, 0)    # Logs ERROR\n",
        "\n"
      ],
      "metadata": {
        "colab": {
          "base_uri": "https://localhost:8080/"
        },
        "id": "Ioufu7f-Dx4A",
        "outputId": "cad4eebe-d89a-4fd3-8f0b-cbf8052a3f00"
      },
      "execution_count": 28,
      "outputs": [
        {
          "output_type": "stream",
          "name": "stderr",
          "text": [
            "ERROR:root:Division by zero error: division by zero\n"
          ]
        }
      ]
    },
    {
      "cell_type": "code",
      "source": [
        "#15 Write a Python program that prints the content of a file and handles the case when the file is empty\n",
        "\n",
        "def print_file_content(filename):\n",
        "    try:\n",
        "        with open(filename, 'r') as file:\n",
        "            content = file.read()\n",
        "            if content.strip() == \"\":\n",
        "                print(f\"The file '{filename}' is empty.\")\n",
        "            else:\n",
        "                print(\"File content:\")\n",
        "                print(content)\n",
        "    except FileNotFoundError:\n",
        "        print(f\"Error: The file '{filename}' was not found.\")\n",
        "    except IOError as e:\n",
        "        print(f\"An I/O error occurred: {e}\")\n",
        "\n",
        "# Example usage\n",
        "print_file_content(\"example.txt\")"
      ],
      "metadata": {
        "colab": {
          "base_uri": "https://localhost:8080/"
        },
        "id": "GRpe0_uNEvlf",
        "outputId": "f4b0424a-ecea-44c1-c341-eb59684b363a"
      },
      "execution_count": 30,
      "outputs": [
        {
          "output_type": "stream",
          "name": "stdout",
          "text": [
            "File content:\n",
            "Hello, this is a sample string!This line will be appended to the file.\n",
            "\n"
          ]
        }
      ]
    },
    {
      "cell_type": "code",
      "source": [
        "# 16 Demonstrate how to use memory profiling to check the memory usage of a small program\n",
        "\n",
        "from memory_profiler import profile\n",
        "\n",
        "@profile\n",
        "def create_large_list():\n",
        "    a = [i for i in range(1000000)]\n",
        "    return a\n",
        "\n",
        "if __name__ == \"__main__\":\n",
        "    create_large_list()"
      ],
      "metadata": {
        "id": "4ag30gkAF3a6"
      },
      "execution_count": null,
      "outputs": []
    },
    {
      "cell_type": "code",
      "source": [
        "#17 Write a Python program to create and write a list of numbers to a file, one number per lineF\n",
        "\n",
        "# List of numbers to write to the file\n",
        "numbers = [10, 20, 30, 40, 50]\n",
        "\n",
        "# File name\n",
        "filename = \"numbers.txt\"\n",
        "\n",
        "try:\n",
        "    with open(filename, \"w\") as file:\n",
        "        for number in numbers:\n",
        "            file.write(f\"{number}\\n\")  # Write each number followed by a newline\n",
        "    print(f\"Numbers successfully written to '{filename}'.\")\n",
        "except IOError as e:\n",
        "    print(f\"An error occurred while writing to the file: {e}\")"
      ],
      "metadata": {
        "colab": {
          "base_uri": "https://localhost:8080/"
        },
        "id": "TRLG4A0lF4ni",
        "outputId": "3bde8ef6-3d64-4a8e-fb88-89e2b523d5a7"
      },
      "execution_count": 32,
      "outputs": [
        {
          "output_type": "stream",
          "name": "stdout",
          "text": [
            "Numbers successfully written to 'numbers.txt'.\n"
          ]
        }
      ]
    },
    {
      "cell_type": "code",
      "source": [
        "# 18 How would you implement a basic logging setup that logs to a file with rotation after 1MB\n",
        "\n",
        "import logging\n",
        "from logging.handlers import RotatingFileHandler\n",
        "\n",
        "# Configure the logger\n",
        "logger = logging.getLogger(\"my_logger\")\n",
        "logger.setLevel(logging.DEBUG)  # Log all levels: DEBUG and above\n",
        "\n",
        "# Create a rotating file handler\n",
        "log_handler = RotatingFileHandler(\n",
        "    \"app.log\",           # Log file name\n",
        "    maxBytes=1 * 1024 * 1024,  # Rotate after 1 MB\n",
        "    backupCount=3              # Keep 3 old log files (e.g., app.log.1, app.log.2, ...)\n",
        ")\n",
        "\n",
        "# Create a log message formatter\n",
        "formatter = logging.Formatter('%(asctime)s - %(levelname)s - %(message)s')\n",
        "log_handler.setFormatter(formatter)\n",
        "\n",
        "# Add handler to the logger\n",
        "logger.addHandler(log_handler)\n",
        "\n",
        "# Example usage\n",
        "for i in range(10000):\n",
        "    logger.info(f\"This is log message #{i}\")\n",
        "\n"
      ],
      "metadata": {
        "id": "qCiUPK03G2Lv"
      },
      "execution_count": null,
      "outputs": []
    },
    {
      "cell_type": "code",
      "source": [
        "#19  Write a program that handles both IndexError and KeyError using a try-except block\n",
        "\n",
        "def handle_errors():\n",
        "    my_list = [10, 20, 30]\n",
        "    my_dict = {\"name\": \"Alice\", \"age\": 25}\n",
        "\n",
        "    try:\n",
        "        # Attempt to access an out-of-range index\n",
        "        print(\"List item:\", my_list[5])\n",
        "\n",
        "        # Attempt to access a non-existent dictionary key\n",
        "        print(\"Email:\", my_dict[\"email\"])\n",
        "\n",
        "    except IndexError:\n",
        "        print(\"Error: Tried to access a list index that doesn't exist.\")\n",
        "\n",
        "    except KeyError:\n",
        "        print(\"Error: Tried to access a dictionary key that doesn't exist.\")\n",
        "\n",
        "# Run the function\n",
        "handle_errors()"
      ],
      "metadata": {
        "id": "sGSZECj0HLOL"
      },
      "execution_count": null,
      "outputs": []
    },
    {
      "cell_type": "code",
      "source": [
        "# 20  How would you open a file and read its contents using a context manager in Python\n",
        "\n",
        "filename = \"example.txt\"\n",
        "\n",
        "try:\n",
        "    with open(filename, \"r\") as file:\n",
        "        content = file.read()\n",
        "        print(\"File contents:\")\n",
        "        print(content)\n",
        "except FileNotFoundError:\n",
        "    print(f\"Error: The file '{filename}' does not exist.\")\n",
        "except IOError as e:\n",
        "    print(f\"An I/O error occurred: {e}\")\n",
        ""
      ],
      "metadata": {
        "colab": {
          "base_uri": "https://localhost:8080/"
        },
        "id": "Q9TD3F7AHY9c",
        "outputId": "ee538f3b-9777-4b2b-ac3f-526754c41682"
      },
      "execution_count": 33,
      "outputs": [
        {
          "output_type": "stream",
          "name": "stdout",
          "text": [
            "File contents:\n",
            "Hello, this is a sample string!This line will be appended to the file.\n",
            "\n"
          ]
        }
      ]
    },
    {
      "cell_type": "code",
      "source": [
        "# 21 Write a Python program that reads a file and prints the number of occurrences of a specific word\n",
        "\n",
        "import re\n",
        "\n",
        "def count_word_occurrences(filename, target_word):\n",
        "    try:\n",
        "        with open(filename, 'r') as file:\n",
        "            content = file.read().lower()  # Convert to lowercase for case-insensitive search\n",
        "            # Use regex to find all whole-word matches\n",
        "            words = re.findall(r'\\b' + re.escape(target_word.lower()) + r'\\b', content)\n",
        "            count = len(words)\n",
        "            print(f\"The word '{target_word}' occurs {count} times in '{filename}'.\")\n",
        "    except FileNotFoundError:\n",
        "        print(f\"Error: The file '{filename}' was not found.\")\n",
        "    except IOError as e:\n",
        "        print(f\"An I/O error occurred: {e}\")\n",
        "\n",
        "# Example usage\n",
        "filename = \"example.txt\"\n",
        "word_to_search = \"python\"\n",
        "count_word_occurrences(filename, word_to_search)"
      ],
      "metadata": {
        "colab": {
          "base_uri": "https://localhost:8080/"
        },
        "id": "svCfKBfgHnCC",
        "outputId": "26dbacec-d4de-400d-f2dc-536eb966cc84"
      },
      "execution_count": 34,
      "outputs": [
        {
          "output_type": "stream",
          "name": "stdout",
          "text": [
            "The word 'python' occurs 0 times in 'example.txt'.\n"
          ]
        }
      ]
    },
    {
      "cell_type": "code",
      "source": [
        "# 22 How can you check if a file is empty before attempting to read its contents\n",
        "\n",
        "from pathlib import Path\n",
        "\n",
        "file_path = Path(\"example.txt\")\n",
        "\n",
        "if file_path.exists() and file_path.stat().st_size > 0:\n",
        "    with file_path.open('r') as file:\n",
        "        content = file.read()\n",
        "        print(content)\n",
        "else:\n",
        "    print(f\"The file '{file_path}' is empty or does not exist.\")"
      ],
      "metadata": {
        "colab": {
          "base_uri": "https://localhost:8080/"
        },
        "id": "GATjFEkPHz9U",
        "outputId": "1ee467fb-8499-4071-f8ac-470f12fdb76c"
      },
      "execution_count": 35,
      "outputs": [
        {
          "output_type": "stream",
          "name": "stdout",
          "text": [
            "Hello, this is a sample string!This line will be appended to the file.\n",
            "\n"
          ]
        }
      ]
    },
    {
      "cell_type": "code",
      "source": [
        "#23  Write a Python program that writes to a log file when an error occurs during file handling.\n",
        "\n",
        "import logging\n",
        "\n",
        "# Configure logging to write errors to a file\n",
        "logging.basicConfig(\n",
        "    filename='file_errors.log',\n",
        "    level=logging.ERROR,\n",
        "    format='%(asctime)s - %(levelname)s - %(message)s'\n",
        ")\n",
        "\n",
        "def read_file(filename):\n",
        "    try:\n",
        "        with open(filename, 'r') as file:\n",
        "            return file.read()\n",
        "    except Exception as e:\n",
        "        logging.error(f\"Error while handling file '{filename}': {e}\")\n",
        "        print(f\"An error occurred while reading '{filename}'. Check 'file_errors.log' for details.\")\n",
        "\n",
        "# Example usage\n",
        "content = read_file(\"nonexistent_file.txt\")"
      ],
      "metadata": {
        "id": "8_1yZSZeH-gU"
      },
      "execution_count": null,
      "outputs": []
    }
  ]
}