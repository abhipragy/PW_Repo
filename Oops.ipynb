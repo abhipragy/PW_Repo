{
  "nbformat": 4,
  "nbformat_minor": 0,
  "metadata": {
    "colab": {
      "provenance": []
    },
    "kernelspec": {
      "name": "python3",
      "display_name": "Python 3"
    },
    "language_info": {
      "name": "python"
    }
  },
  "cells": [
    {
      "cell_type": "markdown",
      "source": [
        "Python OOPs Questions"
      ],
      "metadata": {
        "id": "ui4QFBlzTo2O"
      }
    },
    {
      "cell_type": "markdown",
      "source": [
        "1. What is Object-Oriented Programming (OOP)+\n",
        "\n",
        "    Object-oriented programming (OOP) is a computer programming model that organizes software design around data, or objects, rather than functions and logic. An object can be defined as a data field that has unique attributes and behavior.\n",
        "\n",
        "    OOP focuses on the objects that developers want to manipulate rather than the logic required to manipulate them. This approach to programming is well suited for software that is large, complex and actively updated or maintained. This includes programs for manufacturing and design, as well as mobile applications. For example, OOP can be used for manufacturing system simulation software."
      ],
      "metadata": {
        "id": "EkYC_RXFTq3c"
      }
    },
    {
      "cell_type": "markdown",
      "source": [],
      "metadata": {
        "id": "xH9n_ZsSUdV9"
      }
    },
    {
      "cell_type": "markdown",
      "source": [
        "2. What is a class in OOP+\n",
        "\n",
        "    The building block of Object-Oriented programming  is a Class. It is a user-defined data type that act as a blueprint representing a group of objects which shares some common properties and behaviours. These properties are stored as data members and behaviour as member functions.\n",
        "\n",
        "    For example, consider the class of Animals. An Animal class could have common properties like name, age, and species as data members, and behaviors like eat, sleep, and makeSound as member functions. Each individual animal object (such as a dog, cat, or elephant) can be created from this blueprint, and each will have its own unique values for the properties (like the name and age), but all will share the same behaviours defined by the class (like eating, sleeping, and making sounds).\n",
        "\n",
        "    A class is defined using the keyword class\n"
      ],
      "metadata": {
        "id": "fE2ToA5DXwex"
      }
    },
    {
      "cell_type": "markdown",
      "source": [
        "    3.What is an object in OOP+\n",
        "\n",
        "    In Python's object-oriented programming (OOP), an object is a self-contained entity that bundles data (attributes) and methods (actions) that operate on that data. It is an instance of a class, which acts as a blueprint for creating objects.\n",
        "    Objects enable the representation of real-world entities and concepts within a program. For example, a \"car\" object might have attributes like color, make, and model, and methods like start(), accelerate(), and brake()."
      ],
      "metadata": {
        "id": "iwJKF_ZfYVAm"
      }
    },
    {
      "cell_type": "markdown",
      "source": [
        " 4.What is the difference between abstraction and encapsulation\n",
        "  \n",
        "    Abstraction and encapsulation are fundamental concepts in object-oriented programming (OOP), both aimed at managing complexity but differing in their approach.\n",
        "\n",
        "    Abstraction\n",
        "    Abstraction focuses on presenting only essential information to the user, hiding complex implementation details. It allows users to interact with objects at a high level without needing to know how things work internally.\n",
        "    Its used for hiding complexity by showing only essential information only\n",
        "\n",
        "    Encapsulation\n",
        "    Encapsulation involves bundling data (attributes) and methods that operate on that data within a single unit (a class). It also controls access to the data, preventing external interference and misuse.\n",
        "    It is Protecting data by bundling it with methods and controlling access\n"
      ],
      "metadata": {
        "id": "A-pXv0F0Ykpm"
      }
    },
    {
      "cell_type": "markdown",
      "source": [
        "5 What are dunder methods in Python\n",
        "\n",
        "    Dunder methods, also known as magic methods, are special methods in Python that begin and end with double underscores (e.g., __init__, __str__, __add__). They allow classes to define how they interact with built-in functions and operators. These methods enable operator overloading, customization of object behavior, and seamless integration with the Python language.\n",
        "    For instance, __init__ is used for object initialization, __str__ defines the string representation of an object, and __add__ enables the use of the + operator for custom classes. Dunder methods facilitate the creation of more expressive and intuitive code by allowing objects to behave like built-in types.\n"
      ],
      "metadata": {
        "id": "9IhMO8GKc5hk"
      }
    },
    {
      "cell_type": "code",
      "source": [
        "class Vector:\n",
        "    def __init__(self, x, y):\n",
        "        self.x = x\n",
        "        self.y = y\n",
        "\n",
        "    def __add__(self, other):\n",
        "        return Vector(self.x + other.x, self.y + other.y)\n",
        "\n",
        "    def __str__(self):\n",
        "        return f\"({self.x}, {self.y})\"\n",
        "\n",
        "v1 = Vector(1, 2)\n",
        "v2 = Vector(3, 4)\n",
        "v3 = v1 + v2\n",
        "print(v3) # Output: (4, 6)\n",
        "\n",
        "a1 = Vector('a','c')\n",
        "a2 = Vector('b','d')\n",
        "\n",
        "a3 = a1 + a2\n",
        "print(a3) # Output: ((ab, cd)"
      ],
      "metadata": {
        "colab": {
          "base_uri": "https://localhost:8080/"
        },
        "id": "AT5QKqNsdKjA",
        "outputId": "a0cdf2b9-eb86-44f1-fde9-cbb45f137919"
      },
      "execution_count": null,
      "outputs": [
        {
          "output_type": "stream",
          "name": "stdout",
          "text": [
            "(4, 6)\n",
            "(ab, cd)\n"
          ]
        }
      ]
    },
    {
      "cell_type": "markdown",
      "source": [
        "6. Explain the concept of inheritance in OOP.\n",
        "\n",
        "  Inheritance in Python is a mechanism where a new class (child class or derived class) acquires attributes and methods from an existing class (parent class or base class). This promotes code reuse and establishes a relationship between classes.\n",
        "\n",
        "  There are different types of inheritance:\n",
        "\n",
        "  Single inheritance: A class inherits from only one parent class.\n",
        "\n",
        "  Multiple inheritance: A class inherits from multiple parent classes.\n",
        "\n",
        "  Multilevel inheritance: A class inherits from another class, which in turn inherits from another class.\n",
        "  \n",
        "  Hierarchical inheritance: Multiple classes inherit from a single parent class.\n",
        "  Inheritance facilitates code organization and reduces redundancy. It's a core concept in object-oriented programming, enabling the creation of class hierarchies and the reuse of functionality.\n"
      ],
      "metadata": {
        "id": "yzczbKGdd51r"
      }
    },
    {
      "cell_type": "markdown",
      "source": [
        "  7. What is polymorphism in OOP.\n",
        "\n",
        "      Polymorphism is a foundational concept in programming that allows entities like functions, methods or operators to behave differently based on the type of data they are handling. Derived from Greek, the term literally means “many forms”.\n",
        "\n",
        "      Python’s dynamic typing and duck typing make it inherently polymorphic. Functions, operators and even built-in objects like loops exhibit polymorphic behavior.\n",
        "\n"
      ],
      "metadata": {
        "id": "3k5FLBGvePoJ"
      }
    },
    {
      "cell_type": "code",
      "source": [
        "print(len(\"Hello\"))  # String length\n",
        "print(len([1, 2, 3]))  # List length\n",
        "\n",
        "print(max(1, 3, 2))  # Maximum of integers\n",
        "print(max(\"a\", \"z\", \"m\"))  # Maximum in strings"
      ],
      "metadata": {
        "colab": {
          "base_uri": "https://localhost:8080/"
        },
        "id": "mZ8FJ-SpeiMZ",
        "outputId": "abdd8bd4-9af0-4d8d-e6ae-68d952e90d45"
      },
      "execution_count": null,
      "outputs": [
        {
          "output_type": "stream",
          "name": "stdout",
          "text": [
            "5\n",
            "3\n",
            "3\n",
            "z\n"
          ]
        }
      ]
    },
    {
      "cell_type": "markdown",
      "source": [
        "8.How is encapsulation achieved in Python\n",
        "\n",
        "  Encapsulation in Python is achieved by restricting access to attributes and methods, preventing accidental modification of data. While Python doesn't have explicit access modifiers like public, private, and protected found in other languages, it uses naming conventions to achieve encapsulation.\n",
        "\n",
        "  Public Members:\n",
        "  By default, all attributes and methods are public, accessible from anywhere.\n",
        "  Protected Members:\n",
        "  A single underscore prefix (e.g., _attribute) indicates a protected member, suggesting it should only be accessed within the class and its subclasses. However, it's still accessible from outside, but it's a convention to avoid doing so.\n",
        "  Private Members:\n",
        "  A double underscore prefix (e.g., __attribute) makes an attribute \"name mangled,\" making it harder to access directly from outside the class. Python changes the name to _ClassName__attribute, but it's still technically accessible.\n"
      ],
      "metadata": {
        "id": "SsbUHlHYekKw"
      }
    },
    {
      "cell_type": "code",
      "source": [
        "class BankAccount:\n",
        "    def __init__(self, account_number, balance):\n",
        "        self._account_number = account_number  # Protected attribute\n",
        "        self.__balance = balance              # Private attribute\n",
        "\n",
        "    def get_balance(self):                    # Public method\n",
        "        return self.__balance\n",
        "\n",
        "    def deposit(self, amount):                # Public method\n",
        "        if amount > 0:\n",
        "            self.__balance += amount\n",
        "        else:\n",
        "            print(\"Invalid deposit amount\")\n",
        "\n",
        "    def _display_account_number(self):        # Protected method\n",
        "      print(f\"Account Number: {self._account_number}\")\n",
        "\n",
        "account = BankAccount(\"1234567890\", 1000)\n",
        "print(account.get_balance())  # Accessing private attribute through a public method\n",
        "# print(account.__balance) # This would raise an AttributeError\n",
        "print(account._account_number) # Accessing protected attribute\n",
        "account._display_account_number() # Accessing protected method"
      ],
      "metadata": {
        "colab": {
          "base_uri": "https://localhost:8080/"
        },
        "id": "E77tP5wuezHt",
        "outputId": "cad448da-8d2a-48b4-cfc3-8831b07944c4"
      },
      "execution_count": null,
      "outputs": [
        {
          "output_type": "stream",
          "name": "stdout",
          "text": [
            "1000\n",
            "1234567890\n",
            "Account Number: 1234567890\n"
          ]
        }
      ]
    },
    {
      "cell_type": "markdown",
      "source": [],
      "metadata": {
        "id": "6rKIwgHHe6k-"
      }
    },
    {
      "cell_type": "markdown",
      "source": [
        "9 What is a constructor in Python\n",
        "\n",
        "  A constructor in Python is a special method, __init__, within a class that initializes the attributes of an object when the object is created. It is automatically called when a new instance of the class is instantiated. The primary purpose of a constructor is to set up the initial state of an object by assigning values to its attributes or performing other setup actions.\n"
      ],
      "metadata": {
        "id": "pCv2BYGLfElm"
      }
    },
    {
      "cell_type": "code",
      "source": [
        "class Dog:\n",
        "    def __init__(self, name, breed):\n",
        "        self.name = name\n",
        "        self.breed = breed\n",
        "\n",
        "    def bark(self):\n",
        "        print(\"Woof!\")\n",
        "\n",
        "my_dog = Dog(\"Buddy\", \"Golden Retriever\")\n",
        "print(my_dog.name)  # Output: Buddy\n",
        "print(my_dog.breed) # Output: Golden Retriever\n",
        "my_dog.bark()      # Output: Woof!\n"
      ],
      "metadata": {
        "colab": {
          "base_uri": "https://localhost:8080/"
        },
        "id": "VDE8jetHfP3w",
        "outputId": "f4b2c2ad-6c15-409c-e041-a37d486c96d0"
      },
      "execution_count": null,
      "outputs": [
        {
          "output_type": "stream",
          "name": "stdout",
          "text": [
            "Buddy\n",
            "Golden Retriever\n",
            "Woof!\n"
          ]
        }
      ]
    },
    {
      "cell_type": "markdown",
      "source": [
        "10.   What are class and static methods in Python+\n",
        "      Class methods and static methods are special types of methods in Python classes that differ in how they are called and what arguments they receive.\n",
        "      \n",
        "      Class Methods\n",
        "      Class methods are bound to the class and not the instance of the class. They receive the class itself as the first argument, conventionally named cls. This allows them to access and modify class-level attributes. Class methods are defined using the @classmethod decorator."
      ],
      "metadata": {
        "id": "bsaZtIHSfWdU"
      }
    },
    {
      "cell_type": "code",
      "source": [
        "class MyClass:\n",
        "    class_variable = \"Class Variable\"\n",
        "\n",
        "    @classmethod\n",
        "    def class_method(cls):\n",
        "        print(f\"Accessed from class: {cls.__name__}\")\n",
        "        print(f\"Class variable: {cls.class_variable}\")\n",
        "\n",
        "MyClass.class_method()\n",
        "# Expected output:\n",
        "# Accessed from class: MyClass\n",
        "# Class variable: Class Variable"
      ],
      "metadata": {
        "colab": {
          "base_uri": "https://localhost:8080/"
        },
        "id": "_vX399idfldp",
        "outputId": "e04a2e68-eb60-4535-97de-3211f9259637"
      },
      "execution_count": null,
      "outputs": [
        {
          "output_type": "stream",
          "name": "stdout",
          "text": [
            "Accessed from class: MyClass\n",
            "Class variable: Class Variable\n"
          ]
        }
      ]
    },
    {
      "cell_type": "markdown",
      "source": [
        "11.  What is method overloading in Python\n",
        "\n",
        "      Method overloading is a feature of object-oriented programming where a class can have multiple methods with the same name but different parameters. To overload method, we must change the number of parameters or the type of parameters, or both.\n",
        "\n",
        "      Method Overloading in Python\n",
        "      Unlike other programming languages like Java, C++, and C#, Python does not support the feature of method overloading by default. However, there are alternative ways to achieve it.\n",
        "\n",
        "      Example\n",
        "      If you define a method multiple times as shown in the below code, the last definition will override the previous ones. Therefore, this way of achieving method overloading in Python generates error.\n",
        "\n"
      ],
      "metadata": {
        "id": "8O0XOg0fbXFc"
      }
    },
    {
      "cell_type": "code",
      "source": [
        "class example:\n",
        "   def add(self, a, b):\n",
        "      x = a+b\n",
        "      return x\n",
        "   def add(self, a, b, c):\n",
        "      x = a+b+c\n",
        "      return x\n",
        "\n",
        "obj = example()\n",
        "\n",
        "print (obj.add(10,20,30))\n",
        "print (obj.add(10,20))\n",
        "#The first call to add() method with three arguments is successful. However, calling add() method with two arguments as defined in the class fails."
      ],
      "metadata": {
        "colab": {
          "base_uri": "https://localhost:8080/"
        },
        "id": "nUzfNL3IbwFm",
        "outputId": "15bf577e-cba3-4477-eb99-beb01037961b"
      },
      "execution_count": 4,
      "outputs": [
        {
          "output_type": "stream",
          "name": "stdout",
          "text": [
            "60\n"
          ]
        }
      ]
    },
    {
      "cell_type": "markdown",
      "source": [
        "12  What is method overriding in OOP\n",
        "\n",
        "    In Object-Oriented Programming (OOP), method overriding allows a subclass to provide a specific implementation of a method that is already defined in its parent class (superclass). This enables the subclass to modify or extend the method's behavior, achieving polymorphism and ensuring the correct method is called based on the object's type. Essentially, the subclass \"replaces\" the parent class's method with its own version, while maintaining the same method signature (name, parameters).\n",
        "    Here's a more detailed explanation:\n",
        "    Inheritance:\n",
        "    Method overriding is a concept closely related to inheritance, where a subclass inherits properties and methods from its superclass.\n",
        "    Same Method Signature:\n",
        "    The overriding method in the subclass must have the same name, return type, and parameter list (signature) as the method it overrides in the superclass.\n",
        "    Runtime Polymorphism:\n",
        "    Method overriding enables runtime polymorphism, also known as dynamic method dispatch, where the specific method to be executed is determined at runtime based on the object's type.\n",
        "    Unique Behavior:\n",
        "    Subclasses can use method overriding to provide unique implementations of inherited methods, tailoring the behavior to their specific needs.\n",
        "    Example:\n",
        "    Imagine an Animal class with a speak() method. A Dog class, inheriting from Animal, can override the speak() method to provide a different implementation, perhaps printing \"Woof!\" instead of the generic \"Animal makes a sound.\".\n",
        "    In essence, method overriding allows for a flexible and powerful way to define and customize the behavior of subclasses, making OOP more robust and adaptable.\n"
      ],
      "metadata": {
        "id": "5bFi8JKic8fB"
      }
    },
    {
      "cell_type": "markdown",
      "source": [
        "13.  What is a property decorator in Python\n",
        "    In Python, a property decorator is a built-in feature that allows methods to be accessed like attributes. It provides a way to encapsulate the logic for getting, setting, and deleting an attribute within a class, while still allowing access to it using simple attribute syntax. This mechanism is useful for data validation, computation, or managing access control without explicitly calling getter and setter methods.\n",
        "\n"
      ],
      "metadata": {
        "id": "w-TauigtdIDO"
      }
    },
    {
      "cell_type": "code",
      "source": [
        "\n",
        "# @property decorator\n",
        "\n",
        "# Defining class\n",
        "class Portal:\n",
        "\n",
        "    # Defining __init__ method\n",
        "    def __init__(self):\n",
        "        self.__name =''\n",
        "\n",
        "    # Using @property decorator\n",
        "    @property\n",
        "\n",
        "    # Getter method\n",
        "    def name(self):\n",
        "        return self.__name\n",
        "\n",
        "    # Setter method\n",
        "    @name.setter\n",
        "    def name(self, val):\n",
        "        self.__name = val\n",
        "\n",
        "    # Deleter method\n",
        "    @name.deleter\n",
        "    def name(self):\n",
        "       del self.__name\n",
        "\n",
        "# Creating object\n",
        "p = Portal();\n",
        "\n",
        "# Setting name\n",
        "p.name = 'Abhishek'\n",
        "\n",
        "# Prints name\n",
        "print (p.name)\n",
        "\n",
        "\n",
        "\n",
        "# As name is deleted above this\n",
        "# will throw an error\n",
        "print (p.name)\n",
        "\n",
        "# Deletes name\n",
        "del p.name"
      ],
      "metadata": {
        "colab": {
          "base_uri": "https://localhost:8080/"
        },
        "id": "2VU4cHR5djc3",
        "outputId": "97f65616-e0b2-4f22-feb0-75fd73481eb9"
      },
      "execution_count": 8,
      "outputs": [
        {
          "output_type": "stream",
          "name": "stdout",
          "text": [
            "Abhishek\n",
            "Abhishek\n"
          ]
        }
      ]
    },
    {
      "cell_type": "markdown",
      "source": [
        "14.Why is polymorphism important in OOP\n",
        "\n",
        "    Polymorphism is crucial in Object-Oriented Programming (OOP) because it enables objects of different classes to be treated as objects of a common type, promoting code reusability, flexibility, and maintainability. It allows for a single interface to be used for different operations, while each class can implement it in its own specific way.\n",
        "    \n",
        "    Here's a more detailed explanation:\n",
        "    1. Code Reusability and Extensibility:\n",
        "    Polymorphism allows you to write generic code that works with objects of different types, reducing redundancy and promoting code reuse.\n",
        "    You can add new subclasses without needing to modify existing code, making the system more extensible.\n",
        "    2. Flexibility and Maintainability:\n",
        "    Polymorphism enables dynamic method dispatch, where the method to be executed is determined at runtime, providing flexibility in method execution and object interaction.\n",
        "    It allows for cleaner and more maintainable code by reducing coupling between different functionalities.\n",
        "    3. Enhanced Code Organization:\n",
        "    Polymorphism allows you to focus on a parent class or interface, rather than managing numerous special cases, leading to a more organized codebase.\n",
        "    It simplifies debugging by providing a clear understanding of how different objects interact with each other.\n",
        "    4. Foundation of True Object-Orientedness:\n",
        "    Languages that lack polymorphism are considered object-based rather than fully object-oriented.\n",
        "    Polymorphism is a fundamental aspect of the OOP paradigm.\n",
        "    5. Example:\n",
        "    Imagine a Shape class with subclasses like Rectangle and Circle. A draw() method in the Shape class could be overridden in each subclass to implement different drawing logic. A single draw() call on an instance of any subclass (Rectangle or Circle) would execute the appropriate implementation, demonstrating polymorphism in action.\n"
      ],
      "metadata": {
        "id": "oCDsFKJqeG1Q"
      }
    },
    {
      "cell_type": "markdown",
      "source": [
        "15. What is an abstract class in Python.\n",
        "\n",
        "    An abstract class in Python is a class that cannot be instantiated directly and serves as a blueprint for other classes. It defines a common interface for a group of related classes, ensuring that subclasses implement specific methods. Abstract classes are created using the abc module and can contain abstract methods, which are declared but lack implementation. Subclasses are required to provide concrete implementations for these abstract methods.\n"
      ],
      "metadata": {
        "id": "mM2XtxYreWLa"
      }
    },
    {
      "cell_type": "code",
      "source": [
        "from abc import ABC, abstractmethod\n",
        "\n",
        "class Shape(ABC):\n",
        "    @abstractmethod\n",
        "    def area(self):\n",
        "        pass\n",
        "\n",
        "class Circle(Shape):\n",
        "    def __init__(self, radius):\n",
        "        self.radius = radius\n",
        "\n",
        "    def area(self):\n",
        "        return 3.14 * self.radius ** 2\n",
        "\n",
        "class Square(Shape):\n",
        "    def __init__(self, side_length):\n",
        "        self.side_length = side_length\n",
        "\n",
        "    def area(self):\n",
        "        return self.side_length ** 2"
      ],
      "metadata": {
        "id": "ysqb8JuRee59"
      },
      "execution_count": null,
      "outputs": []
    },
    {
      "cell_type": "markdown",
      "source": [
        "      In this example, Shape is an abstract class with an abstract method area(). Circle and Square are concrete subclasses that inherit from Shape and provide their own implementations of the area() method. Attempting to instantiate Shape directly would result in a TypeError"
      ],
      "metadata": {
        "id": "I_MS6DpUemxF"
      }
    },
    {
      "cell_type": "markdown",
      "source": [
        "16. What are the advantages of OOP\n",
        "\n",
        "    Object-Oriented Programming (OOP) offers several advantages, primarily enhancing code organization, reusability, and maintainability. Key benefits include modularity, code reuse through inheritance, flexibility with polymorphism, and simplified problem-solving. These advantages make OOP particularly useful for developing large, complex software systems.\n",
        "    Here's a more detailed look at the advantages of OOP:\n",
        "    Modularity:\n",
        "    OOP promotes a modular approach by breaking down complex systems into smaller, manageable units called objects. Each object encapsulates its own data and behavior, making the code more organized and easier to understand.\n",
        "    Code Reusability:\n",
        "    OOP enables code reuse through inheritance, where new classes (child classes) can inherit properties and behaviors from existing classes (parent classes). This reduces redundancy and saves development time.\n",
        "    Flexibility and Extensibility:\n",
        "    Polymorphism, another core concept in OOP, allows objects of different classes to be treated uniformly through a common interface, making the code flexible and adaptable to changing requirements.\n",
        "    Simplified Problem Solving:\n",
        "    OOP's modular structure and object-oriented approach make it easier to tackle complex problems by breaking them down into smaller, more manageable pieces.\n",
        "    Improved Code Organization and Maintainability:\n",
        "    Encapsulation, data hiding, and abstraction in OOP contribute to better code organization, making it easier to maintain, debug, and modify.\n",
        "    Enhanced Security:\n",
        "    OOP's principles of encapsulation and data hiding can improve code security by limiting access to certain data and functionality.\n",
        "    Increased Productivity:\n",
        "    OOP's features, such as code reusability and modularity, can significantly increase developer productivity by reducing the need for repetitive coding and simplifying the development process.\n"
      ],
      "metadata": {
        "id": "mfrJKhypepQH"
      }
    },
    {
      "cell_type": "markdown",
      "source": [
        "17. What is the difference between a class variable and an instance variable\n",
        "\n",
        "    The primary difference between class variables and instance variables in Python lies in their scope and how they are accessed and shared among instances of a class.\n",
        "\n",
        "    Class variables:\n",
        "    These are defined within a class but outside any method. They are shared among all instances of the class. If one instance modifies a class variable, the change will be reflected in all other instances. They are accessed using the class name or an instance of the class.\n",
        "    \n",
        "    Instance variables:\n",
        "    These are defined within methods, typically the __init__ method, and are specific to each instance of the class. Each instance has its own copy of instance variables, and changes made to them in one instance do not affect other instances. They are accessed using the self keyword within the class methods or through the instance name outside the class.\n"
      ],
      "metadata": {
        "id": "NfbiaJ3yjtHQ"
      }
    },
    {
      "cell_type": "markdown",
      "source": [
        "18. What is multiple inheritance in Python\n",
        "\n",
        "    Multiple inheritance in Python is a feature where a class can inherit attributes and methods from multiple parent classes. This allows a class to incorporate functionalities from different sources, promoting code reuse and flexibility. When a class inherits from multiple parents, it gains access to all the attributes and methods of those parent classes.\n"
      ],
      "metadata": {
        "id": "ySA4jFCWkGtC"
      }
    },
    {
      "cell_type": "code",
      "source": [
        "class Parent1:\n",
        "    def method1(self):\n",
        "        print(\"Method from Parent1\")\n",
        "\n",
        "class Parent2:\n",
        "    def method2(self):\n",
        "        print(\"Method from Parent2\")\n",
        "\n",
        "class Child(Parent1, Parent2):\n",
        "    def method3(self):\n",
        "        print(\"Method from Child\")\n",
        "\n",
        "# Creating an object of the Child class\n",
        "child_object = Child()\n",
        "\n",
        "# Calling methods from both parent classes and the child class\n",
        "child_object.method1()  # Output: Method from Parent1\n",
        "child_object.method2()  # Output: Method from Parent2\n",
        "child_object.method3()  # Output: Method from Child"
      ],
      "metadata": {
        "colab": {
          "base_uri": "https://localhost:8080/"
        },
        "id": "A5VLMtQKkT61",
        "outputId": "59501844-e089-4842-fe54-a4bdf6720851"
      },
      "execution_count": 9,
      "outputs": [
        {
          "output_type": "stream",
          "name": "stdout",
          "text": [
            "Method from Parent1\n",
            "Method from Parent2\n",
            "Method from Child\n"
          ]
        }
      ]
    },
    {
      "cell_type": "markdown",
      "source": [
        "      In this example, the Child class inherits from both Parent1 and Parent2. As a result, child_object can access methods from both parent classes as well as its own method.\n",
        "      However, multiple inheritance can introduce complexities, especially when parent classes have methods with the same name (the \"diamond problem\"). Python resolves this using Method Resolution Order (MRO), which defines the order in which methods are inherited and called."
      ],
      "metadata": {
        "id": "omSHaYkUkbHV"
      }
    },
    {
      "cell_type": "markdown",
      "source": [
        "19. Explain the purpose of ‘’__str__’ and ‘__repr__’ ‘ methods in Python\n",
        "\n",
        "    In Python, the __str__ and __repr__ methods are special methods used to define how objects are represented as strings. They are invoked by built-in functions str() and repr() respectively, and play a crucial role in providing human-readable and developer-friendly string representations of objects.\n",
        "\n",
        "    __str__(self): This method returns a human-readable, or informal, string representation of an object. It is called when using the str() function or the print() function on an object. The primary goal of __str__ is to provide a string that is easily understandable by end-users. If __str__ is not defined for a class, Python falls back to using __repr__.\n",
        "    \n",
        "    __repr__(self): This method returns a more information-rich, or formal, string representation of an object. It is called when using the repr() function or when an object is displayed in the interactive interpreter. The goal of __repr__ is to provide a string that is unambiguous and, ideally, can be used to recreate the object. It is primarily intended for developers for debugging and logging purposes.\n",
        "    It is recommended to implement both __str__ and __repr__ in your classes to provide clear and useful string representations for different contexts.\n"
      ],
      "metadata": {
        "id": "yQdqpVoikdYj"
      }
    },
    {
      "cell_type": "markdown",
      "source": [
        "20. What is the significance of the ‘super()’ function in Python\n",
        "\n",
        "      The super() function in Python is used to call methods from a parent class in a subclass. It provides a way to access and utilize inherited functionality, promoting code reuse and maintainability. The super() function is particularly useful in scenarios involving inheritance, especially multiple inheritance, where it helps resolve method resolution order (MRO) and ensures proper initialization of parent classes.\n"
      ],
      "metadata": {
        "id": "Y_3fVfXjnS1H"
      }
    },
    {
      "cell_type": "markdown",
      "source": [
        "21.  What is the significance of the __del__ method in Python\n",
        "\n",
        "    The __del__ method, also known as a destructor, is a special method in Python classes that is called when an instance of the class is about to be destroyed. It provides an opportunity to perform cleanup actions, such as releasing resources or finalizing operations, before the object is deallocated from memory.\n"
      ],
      "metadata": {
        "id": "0A1FpP-QnnFl"
      }
    },
    {
      "cell_type": "code",
      "source": [
        "class MyClass:\n",
        "    def __init__(self, name):\n",
        "        self.name = name\n",
        "        print(f\"Object {self.name} created\")\n",
        "\n",
        "    def __del__(self):\n",
        "        print(f\"Object {self.name} destroyed\")\n",
        "\n",
        "# Creating instances of MyClass\n",
        "obj1 = MyClass(\"Object 1\")\n",
        "obj2 = MyClass(\"Object 2\")\n",
        "\n",
        "# Deleting obj1\n",
        "del obj1\n",
        "\n",
        "# When the script ends"
      ],
      "metadata": {
        "colab": {
          "base_uri": "https://localhost:8080/"
        },
        "id": "HB72FXD9nzbx",
        "outputId": "cf73c7cc-5449-45a3-a537-01f7eda46086"
      },
      "execution_count": 10,
      "outputs": [
        {
          "output_type": "stream",
          "name": "stdout",
          "text": [
            "Object Object 1 created\n",
            "Object Object 2 created\n",
            "Object Object 1 destroyed\n"
          ]
        }
      ]
    },
    {
      "cell_type": "markdown",
      "source": [
        "22   What is the difference between @staticmethod and @classmethod in Python\n",
        "\n",
        "      The @classmethod decorator is a built-in function decorator that is an expression that gets evaluated after your function is defined. The result of that evaluation shadows your function definition. A class method receives the class as an implicit first argument, just like an instance method receives the instance\n",
        "\n",
        "      class C(object):\n",
        "        @classmethod\n",
        "        def fun(cls, arg1, arg2, ...):\n",
        "          ....\n",
        "        fun: function that needs to be converted into a class method\n",
        "        returns: a class method for function.\n",
        "        \n",
        "        A class method is a method that is bound to the class and not the object of the class.\n",
        "        \n",
        "        They have the access to the state of the class as it takes a class parameter that points to the class and not the object instance.\n",
        "        It can modify a class state that would apply across all the instances of the class. For example, it can modify a class variable that will be applicable to all the instances.\n",
        "\n",
        "      A static method does not receive an implicit first argument. A static method is also a method that is bound to the class and not the object of the class. This method can’t access or modify the class state. It is present in a class because it makes sense for the method to be present in class.  \n",
        "\n",
        "      The difference between the Class method and the static method is:\n",
        "\n",
        "      A class method takes cls as the first parameter while a static method needs no specific parameters.\n",
        "      A class method can access or modify the class state while a static method can’t access or modify it.\n",
        "      In general, static methods know nothing about the class state. They are utility-type methods that take some parameters and work upon those parameters. On the other hand class methods must have class as a parameter.\n",
        "      We use @classmethod decorator in python to create a class method and we use @staticmethod decorator to create a static method in python."
      ],
      "metadata": {
        "id": "LKxECA0Mn24e"
      }
    },
    {
      "cell_type": "markdown",
      "source": [
        "24. How does polymorphism work in Python with inheritance.\n",
        "\n",
        "    Polymorphism in Python, in the context of inheritance, allows objects of different classes to be treated as objects of a common type (usually a base class). This is achieved through method overriding, where a subclass provides a specific implementation for a method that is already defined in its superclass. When a method is called on an object, Python determines the appropriate method to execute based on the object's actual type at runtime.\n",
        "    \n",
        "    For example, consider a base class Animal with a method speak(). Subclasses like Dog and Cat can override the speak() method to provide their own specific implementations (\"Woof!\" and \"Meow!\", respectively). Polymorphism allows a function to accept either a Dog or a Cat object and call the speak() method without needing to know the object's specific type. The correct speak() method will be executed based on the actual object type\n",
        "\n"
      ],
      "metadata": {
        "id": "_y8YhhMZpAfZ"
      }
    },
    {
      "cell_type": "code",
      "source": [
        "class Animal:\n",
        "    def speak(self):\n",
        "        return \"Generic animal sound\"\n",
        "\n",
        "class Dog(Animal):\n",
        "    def speak(self):\n",
        "        return \"Woof!\"\n",
        "\n",
        "class Cat(Animal):\n",
        "    def speak(self):\n",
        "        return \"Meow!\"\n",
        "\n",
        "def animal_sound(animal):\n",
        "    return animal.speak()\n",
        "\n",
        "dog = Dog()\n",
        "cat = Cat()\n",
        "\n",
        "print(animal_sound(dog)) # Output: Woof!\n",
        "print(animal_sound(cat)) # Output: Meow!"
      ],
      "metadata": {
        "colab": {
          "base_uri": "https://localhost:8080/"
        },
        "id": "xpywBXy2pU1f",
        "outputId": "ee97eea3-c058-4c39-d389-b6ead032ad95"
      },
      "execution_count": 11,
      "outputs": [
        {
          "output_type": "stream",
          "name": "stdout",
          "text": [
            "Woof!\n",
            "Meow!\n"
          ]
        }
      ]
    },
    {
      "cell_type": "markdown",
      "source": [
        "24.  What is method chaining in Python OOP\n",
        "\n",
        "      Method chaining in Python is a programming technique used in object-oriented programming that allows multiple methods to be called sequentially on the same object in a single statement. This is achieved by having each method in the chain return the object itself (or a modified version of it), allowing subsequent methods to be called on the result.\n",
        "      To implement method chaining, each method in the class that is intended to be chainable should return self. self refers to the instance of the object, so returning self allows the next method in the chain to be called on the same object."
      ],
      "metadata": {
        "id": "VIKWdcOFpcwK"
      }
    },
    {
      "cell_type": "code",
      "source": [
        "class Calculator:\n",
        "    def __init__(self, value=0):\n",
        "        self.value = value\n",
        "\n",
        "    def add(self, num):\n",
        "        self.value += num\n",
        "        return self\n",
        "\n",
        "    def subtract(self, num):\n",
        "        self.value -= num\n",
        "        return self\n",
        "\n",
        "    def multiply(self, num):\n",
        "        self.value *= num\n",
        "        return self\n",
        "\n",
        "    def get_value(self):\n",
        "        return self.value\n",
        "\n",
        "# Example of method chaining\n",
        "calc = Calculator(10)\n",
        "result = calc.add(5).subtract(3).multiply(2).get_value()\n",
        "print(result)  # Output: 24"
      ],
      "metadata": {
        "colab": {
          "base_uri": "https://localhost:8080/"
        },
        "id": "XsVFpXIRpvcb",
        "outputId": "dfde29fe-d08d-47da-a92c-418a590f1576"
      },
      "execution_count": 12,
      "outputs": [
        {
          "output_type": "stream",
          "name": "stdout",
          "text": [
            "24\n"
          ]
        }
      ]
    },
    {
      "cell_type": "markdown",
      "source": [
        "25 What is the purpose of the __call__ method in Python?\n",
        "  \n",
        "\n",
        "   The __call__ method in Python enables instances of a class to be called like regular functions. When a class defines the __call__ method, its instances become callable objects. This means that you can apply the function call syntax () to an instance of the class, and the code within the __call__ method will be executed."
      ],
      "metadata": {
        "id": "hednjmiUp1_H"
      }
    },
    {
      "cell_type": "markdown",
      "source": [
        "class Example:\n",
        "    def __init__(self, name):\n",
        "        self.name = name\n",
        "    \n",
        "    def __call__(self, greeting):\n",
        "        return f\"{greeting}, {self.name}!\"\n",
        "\n",
        "obj = Example(\"Alice\")\n",
        "message = obj(\"Hello\")\n",
        "print(message)\n",
        "# Expected output: Hello, Alice!"
      ],
      "metadata": {
        "id": "9DqgvSinqAWb"
      }
    },
    {
      "cell_type": "code",
      "source": [
        "#Practical Questions"
      ],
      "metadata": {
        "id": "GDXj3z9JqE3Z"
      },
      "execution_count": null,
      "outputs": []
    },
    {
      "cell_type": "code",
      "source": [
        "#1. Create a parent class Animal with a method speak() that prints a generic message. Create a child class Dog that overrides the speak() method to print \"Bark!\".\n",
        "\n",
        "class Animal:\n",
        "    def speak(self):\n",
        "        print(\"Generic animal sound\")\n",
        "\n",
        "class Dog(Animal):\n",
        "    def speak(self):\n",
        "        print(\"Bark!\")\n",
        "\n",
        "# Example usage\n",
        "dog = Dog()\n",
        "dog.speak() # Output: Bark!"
      ],
      "metadata": {
        "colab": {
          "base_uri": "https://localhost:8080/"
        },
        "id": "j1KxqzDCqW9O",
        "outputId": "dce9f6c8-c916-4cbe-fd6b-a6bac9073cad"
      },
      "execution_count": 14,
      "outputs": [
        {
          "output_type": "stream",
          "name": "stdout",
          "text": [
            "Bark!\n"
          ]
        }
      ]
    },
    {
      "cell_type": "code",
      "source": [
        "#2. Write a program to create an abstract class Shape with a method area(). Derive classes Circle and Rectangle from it and implement the area() method in both.\n",
        "\n",
        "from abc import ABC, abstractmethod\n",
        "\n",
        "class Shape(ABC):\n",
        "    @abstractmethod\n",
        "    def area(self):\n",
        "        pass\n",
        "\n",
        "class Circle(Shape):\n",
        "    def __init__(self, radius):\n",
        "        self.radius = radius\n",
        "\n",
        "    def area(self):\n",
        "        return 3.14 * self.radius**2\n",
        "\n",
        "class Rectangle(Shape):\n",
        "    def __init__(self, length, width):\n",
        "        self.length = length\n",
        "        self.width = width\n",
        "\n",
        "    def area(self):\n",
        "        return self.length * self.width\n",
        "\n",
        "# Example usage:\n",
        "circle = Circle(5)\n",
        "rectangle = Rectangle(4, 6)\n",
        "\n",
        "print(f\"Area of Circle: {circle.area()}\")\n",
        "print(f\"Area of Rectangle: {rectangle.area()}\")"
      ],
      "metadata": {
        "colab": {
          "base_uri": "https://localhost:8080/"
        },
        "id": "9_O5qZJqrAfl",
        "outputId": "2c00672e-5a77-49cb-c2ce-8296d92df000"
      },
      "execution_count": 15,
      "outputs": [
        {
          "output_type": "stream",
          "name": "stdout",
          "text": [
            "Area of Circle: 78.5\n",
            "Area of Rectangle: 24\n"
          ]
        }
      ]
    },
    {
      "cell_type": "code",
      "source": [
        "#3. Implement a multi-level inheritance scenario where a class Vehicle has an attribute type. Derive a class Car and further derive a class ElectricCar that adds a battery attribute.\n",
        "\n",
        "class Vehicle:\n",
        "    def __init__(self, type):\n",
        "        self.type = type\n",
        "\n",
        "class Car(Vehicle):\n",
        "    def __init__(self, type, num_doors):\n",
        "        super().__init__(type)\n",
        "        self.num_doors = num_doors\n",
        "\n",
        "class ElectricCar(Car):\n",
        "    def __init__(self, type, num_doors, battery_capacity):\n",
        "        super().__init__(type, num_doors)\n",
        "        self.battery_capacity = battery_capacity\n",
        "\n",
        "#Example usage\n",
        "vehicle = Vehicle(\"generic\")\n",
        "car = Car(\"sedan\", 4)\n",
        "electric_car = ElectricCar(\"hatchback\", 4, \"60 kWh\")\n",
        "\n",
        "print(f\"Vehicle type: {vehicle.type}\")\n",
        "print(f\"Car type: {car.type}, Number of doors: {car.num_doors}\")\n",
        "print(f\"Electric car type: {electric_car.type}, Number of doors: {electric_car.num_doors}, Battery capacity: {electric_car.battery_capacity}\")"
      ],
      "metadata": {
        "colab": {
          "base_uri": "https://localhost:8080/"
        },
        "id": "p8UybtUQFXO6",
        "outputId": "12a970c2-587a-4fad-e99a-5765a618d7ad"
      },
      "execution_count": 18,
      "outputs": [
        {
          "output_type": "stream",
          "name": "stdout",
          "text": [
            "Vehicle type: generic\n",
            "Car type: sedan, Number of doors: 4\n",
            "Electric car type: hatchback, Number of doors: 4, Battery capacity: 60 kWh\n"
          ]
        }
      ]
    },
    {
      "cell_type": "markdown",
      "source": [],
      "metadata": {
        "id": "wKwnGmUgq3px"
      }
    },
    {
      "cell_type": "code",
      "source": [
        "#4. Demonstrate polymorphism by creating a base class Bird with a method fly(). Create two derived classes Sparrow and Penguin that override the fly() method.\n",
        "\n",
        "class Bird:\n",
        "    def fly(self):\n",
        "        print(\"Birds can generally fly.\")\n",
        "\n",
        "class Sparrow(Bird):\n",
        "    def fly(self):\n",
        "        print(\"Sparrows fly in the sky.\")\n",
        "\n",
        "class Penguin(Bird):\n",
        "    def fly(self):\n",
        "        print(\"Penguins cannot fly.\")\n",
        "\n",
        "# Example usage:\n",
        "sparrow = Sparrow()\n",
        "penguin = Penguin()\n",
        "\n",
        "sparrow.fly()  # Output: Sparrows fly in the sky.\n",
        "penguin.fly()  # Output: Penguins cannot fly."
      ],
      "metadata": {
        "colab": {
          "base_uri": "https://localhost:8080/"
        },
        "id": "5NZCnjWJJDjp",
        "outputId": "fab43b59-614e-43ff-d55a-cbdc7eb9e83b"
      },
      "execution_count": 19,
      "outputs": [
        {
          "output_type": "stream",
          "name": "stdout",
          "text": [
            "Sparrows fly in the sky.\n",
            "Penguins cannot fly.\n"
          ]
        }
      ]
    },
    {
      "cell_type": "code",
      "source": [
        "#5 Write a program to demonstrate encapsulation by creating a class BankAccount with private attributes balance and methods to deposit, withdraw, and check balance.\n",
        "\n",
        "class BankAccount:\n",
        "    def __init__(self, initial_balance=0):\n",
        "        self.__balance = initial_balance  # Private attribute\n",
        "\n",
        "    def deposit(self, amount):\n",
        "        if amount > 0:\n",
        "            self.__balance += amount\n",
        "            return f\"Deposited {amount}. New balance: {self.__balance}\"\n",
        "        else:\n",
        "            return \"Invalid deposit amount.\"\n",
        "\n",
        "    def withdraw(self, amount):\n",
        "        if 0 < amount <= self.__balance:\n",
        "            self.__balance -= amount\n",
        "            return f\"Withdrew {amount}. New balance: {self.__balance}\"\n",
        "        elif amount > self.__balance:\n",
        "            return \"Insufficient funds.\"\n",
        "        else:\n",
        "            return \"Invalid withdrawal amount.\"\n",
        "\n",
        "    def get_balance(self):\n",
        "        return f\"Current balance: {self.__balance}\"\n",
        "\n",
        "# Example usage:\n",
        "account = BankAccount(1000)\n",
        "print(account.get_balance())\n",
        "print(account.deposit(500))\n",
        "print(account.withdraw(200))\n",
        "print(account.withdraw(1500))\n",
        "print(account.get_balance())"
      ],
      "metadata": {
        "colab": {
          "base_uri": "https://localhost:8080/"
        },
        "id": "Mk1o4PwhJhaX",
        "outputId": "f19c5ef5-b60a-4630-b55a-d0947abf1708"
      },
      "execution_count": 22,
      "outputs": [
        {
          "output_type": "stream",
          "name": "stdout",
          "text": [
            "Current balance: 1000\n",
            "Deposited 500. New balance: 1500\n",
            "Withdrew 200. New balance: 1300\n",
            "Insufficient funds.\n",
            "Current balance: 1300\n"
          ]
        }
      ]
    },
    {
      "cell_type": "code",
      "source": [
        "#6.  Demonstrate runtime polymorphism using a method play() in a base class Instrument. Derive classes Guitar and Piano that implement their own version of play().\n",
        "\n",
        "# Base class\n",
        "class Instrument:\n",
        "    def play(self):\n",
        "        print(\"Instrument is playing\")\n",
        "\n",
        "# Derived class: Guitar\n",
        "class Guitar(Instrument):\n",
        "    def play(self):\n",
        "        print(\"Guitar is strumming\")\n",
        "\n",
        "# Derived class: Piano\n",
        "class Piano(Instrument):\n",
        "    def play(self):\n",
        "        print(\"Piano is playing\")\n",
        "\n",
        "# Main function to test runtime polymorphism\n",
        "def main():\n",
        "    instruments = [Guitar(), Piano(), Instrument()]\n",
        "\n",
        "    for instrument in instruments:\n",
        "        instrument.play()\n",
        "\n",
        "if __name__ == \"__main__\":\n",
        "    main()"
      ],
      "metadata": {
        "colab": {
          "base_uri": "https://localhost:8080/"
        },
        "id": "SgAl0I9_KZGJ",
        "outputId": "eb3f0bd2-c341-4661-efcc-f9a7398affb7"
      },
      "execution_count": 23,
      "outputs": [
        {
          "output_type": "stream",
          "name": "stdout",
          "text": [
            "Guitar is strumming\n",
            "Piano is playing\n",
            "Instrument is playing\n"
          ]
        }
      ]
    },
    {
      "cell_type": "code",
      "source": [
        "#7. Create a class MathOperations with a class method add_numbers() to add two numbers and a static method subtract_numbers() to subtract two numbers.\n",
        "class MathOperations:\n",
        "    @classmethod\n",
        "    def add_numbers(cls, a, b):\n",
        "        return a + b\n",
        "\n",
        "    @staticmethod\n",
        "    def subtract_numbers(a, b):\n",
        "        return a - b\n",
        "\n",
        "# Example usage:\n",
        "print(MathOperations.add_numbers(10, 5))      # Output: 15\n",
        "print(MathOperations.subtract_numbers(10, 5)) # Output: 5\n"
      ],
      "metadata": {
        "colab": {
          "base_uri": "https://localhost:8080/"
        },
        "id": "IWpmpUKgLQKL",
        "outputId": "dce4f3a3-3205-4c46-a24e-20df00746d35"
      },
      "execution_count": 24,
      "outputs": [
        {
          "output_type": "stream",
          "name": "stdout",
          "text": [
            "15\n",
            "5\n"
          ]
        }
      ]
    },
    {
      "cell_type": "code",
      "source": [
        "#8  Implement a class Person with a class method to count the total number of persons created\n",
        "class Person:\n",
        "    # Class variable to count the number of instances\n",
        "    _count = 0\n",
        "\n",
        "    def __init__(self, name):\n",
        "        self.name = name\n",
        "        # Increment the count each time a new instance is created\n",
        "        Person._count += 1\n",
        "\n",
        "    @classmethod\n",
        "    def get_count(cls):\n",
        "        # Class method to return the current count\n",
        "        return cls._count\n",
        "\n",
        "# Example usage\n",
        "p1 = Person(\"Abhi\")\n",
        "p2 = Person(\"Bijay\")\n",
        "p3 = Person(\"Chini\")\n",
        "\n",
        "print(\"Total persons created:\", Person.get_count())  # Output: 3"
      ],
      "metadata": {
        "colab": {
          "base_uri": "https://localhost:8080/"
        },
        "id": "b9_MEsqUL5uY",
        "outputId": "986f4c9c-4e53-4e14-b8ed-276ac12e4820"
      },
      "execution_count": 28,
      "outputs": [
        {
          "output_type": "stream",
          "name": "stdout",
          "text": [
            "Total persons created: 3\n"
          ]
        }
      ]
    },
    {
      "cell_type": "code",
      "source": [
        "#9   Write a class Fraction with attributes numerator and denominator. Override the str method to display the fraction as \"numerator/denominator\".\n",
        "\n",
        "class Fraction:\n",
        "    def __init__(self, numerator, denominator):\n",
        "        self.numerator = numerator\n",
        "        self.denominator = denominator\n",
        "\n",
        "    def __str__(self):\n",
        "          return f\"{self.numerator}/{self.denominator}\"\n",
        "\n",
        "f = Fraction(3, 8)\n",
        "print(f)"
      ],
      "metadata": {
        "colab": {
          "base_uri": "https://localhost:8080/"
        },
        "id": "EkRBEQ2lMbKL",
        "outputId": "0d9627d9-03ed-4465-820e-29cabe8319f5"
      },
      "execution_count": 30,
      "outputs": [
        {
          "output_type": "stream",
          "name": "stdout",
          "text": [
            "3/8\n"
          ]
        }
      ]
    },
    {
      "cell_type": "code",
      "source": [
        " #10. Demonstrate operator overloading by creating a class Vector and overriding the add method to add two vectors\n",
        "\n",
        " class Vector:\n",
        "    def __init__(self, *components):\n",
        "        self.components = components\n",
        "\n",
        "    def __add__(self, other):\n",
        "        if isinstance(other, Vector):\n",
        "            if len(self.components) != len(other.components):\n",
        "                raise ValueError(\"Vectors must be of the same dimension\")\n",
        "            summed = tuple(a + b for a, b in zip(self.components, other.components))\n",
        "            return Vector(*summed)\n",
        "        return NotImplemented\n",
        "\n",
        "    def __radd__(self, other):\n",
        "        return self.__add__(other)\n",
        "\n",
        "    def __str__(self):\n",
        "        return f\"Vector{self.components}\"\n",
        "\n",
        "    def __repr__(self):\n",
        "        return self.__str__()\n",
        "\n",
        "\n",
        "v1 = Vector(1, 2, 3)\n",
        "v2 = Vector(4, 5, 6)\n",
        "v3 = Vector(7, 8, 9)\n",
        "\n",
        "print(v1 + v2)        # Output: Vector(5, 7, 9)\n",
        "print(v1 + v2 + v3)   # Output: Vector(12, 15, 18)"
      ],
      "metadata": {
        "colab": {
          "base_uri": "https://localhost:8080/"
        },
        "id": "6wGx8smoSw6j",
        "outputId": "3a93f129-bc1c-4106-ae33-15aed0c79d28"
      },
      "execution_count": 33,
      "outputs": [
        {
          "output_type": "stream",
          "name": "stdout",
          "text": [
            "Vector(5, 7, 9)\n",
            "Vector(12, 15, 18)\n"
          ]
        }
      ]
    },
    {
      "cell_type": "code",
      "source": [
        "#11 Create a class Person with attributes name and age. Add a method greet() that prints \"Hello, my name is {name} and I am {age} years old.\"\n",
        "\n",
        "class Person:\n",
        "    def __init__(self, name, age):\n",
        "        self.name = name\n",
        "        self.age = age\n",
        "\n",
        "    def greet(self):\n",
        "        print(f\"Hello, my name is {self.name} and I am {self.age} years old.\")\n",
        "\n",
        "\n",
        "person1 = Person(\"Alia\", 30)\n",
        "person1.greet()"
      ],
      "metadata": {
        "colab": {
          "base_uri": "https://localhost:8080/"
        },
        "id": "A3Elr0bvT2mx",
        "outputId": "bef8b039-bab1-46e2-bf33-24acba8c561a"
      },
      "execution_count": 37,
      "outputs": [
        {
          "output_type": "stream",
          "name": "stdout",
          "text": [
            "Hello, my name is Alia and I am 30 years old.\n"
          ]
        }
      ]
    },
    {
      "cell_type": "code",
      "source": [
        "#12 Implement a class Student with attributes name and grades. Create a method average_grade() to compute the average of the grades.\n",
        "\n",
        "class Student:\n",
        "    def __init__(self, name, grades):\n",
        "        self.name = name\n",
        "        self.grades = grades  # List of numerical grades\n",
        "\n",
        "    def average_grade():\n",
        "        if not self.grades:\n",
        "            return 0  # Avoid division by zero\n",
        "        return sum(self.grades) / len(self.grades)\n",
        "\n",
        "# Example usage:\n",
        "student1 = Student(\"Ananya\", [85, 90, 78])\n",
        "print(f\"{student1.name}'s average grade is: {student1.average_grade()}\")"
      ],
      "metadata": {
        "colab": {
          "base_uri": "https://localhost:8080/"
        },
        "id": "ghJTfmlAUOyK",
        "outputId": "4472bc21-3d23-434f-f94d-bbd9801b7cb3"
      },
      "execution_count": 39,
      "outputs": [
        {
          "output_type": "stream",
          "name": "stdout",
          "text": [
            "Ananya's average grade is: 84.33333333333333\n"
          ]
        }
      ]
    },
    {
      "cell_type": "code",
      "source": [
        "#13  Create a class Rectangle with methods set_dimensions() to set the dimensions and area() to calculate the area.\n",
        "\n",
        "class Rectangle:\n",
        "    def __init__(self):\n",
        "        self.length = 0\n",
        "        self.width = 0\n",
        "\n",
        "    def set_dimensions(self, length, width):\n",
        "        self.length = length\n",
        "        self.width = width\n",
        "\n",
        "    def area(self):\n",
        "        return self.length * self.width\n",
        "\n",
        "\n",
        "rect = Rectangle()\n",
        "rect.set_dimensions(5, 3)\n",
        "print(\"Area of rectangle:\", rect.area())  # Output: Area of rectangle: 15\n"
      ],
      "metadata": {
        "colab": {
          "base_uri": "https://localhost:8080/"
        },
        "id": "GzPhqzFSVXbG",
        "outputId": "3f53d5d8-53a7-446f-f2a9-9ac9476dd3c0"
      },
      "execution_count": 44,
      "outputs": [
        {
          "output_type": "stream",
          "name": "stdout",
          "text": [
            "Area of rectangle: 15\n"
          ]
        }
      ]
    },
    {
      "cell_type": "code",
      "source": [
        "#14. Create a class Employee with a method calculate_salary() that computes the salary based on hours worked and hourly rate. Create a derived class Manager that adds a bonus to the salary.\n",
        "\n",
        "class Employee:\n",
        "    def __init__(self, name, hours_worked, hourly_rate):\n",
        "        self.name = name\n",
        "        self.hours_worked = hours_worked\n",
        "        self.hourly_rate = hourly_rate\n",
        "\n",
        "    def calculate_salary(self):\n",
        "        return self.hours_worked * self.hourly_rate\n",
        "\n",
        "class Manager(Employee):\n",
        "    def __init__(self, name, hours_worked, hourly_rate, bonus):\n",
        "        super().__init__(name, hours_worked, hourly_rate)\n",
        "        self.bonus = bonus\n",
        "\n",
        "    def calculate_salary(self):\n",
        "        base_salary = super().calculate_salary()\n",
        "        return base_salary + self.bonus\n",
        "\n",
        "# Example usage\n",
        "employee = Employee(\"Rohit \", 160, 50)\n",
        "manager = Manager(\" Sachin\", 160, 70, 5000)\n",
        "\n",
        "print(f\"{employee.name}'s Salary: {employee.calculate_salary()}\")\n",
        "print(f\"{manager.name}'s Salary (including bonus): {manager.calculate_salary()}\")"
      ],
      "metadata": {
        "colab": {
          "base_uri": "https://localhost:8080/"
        },
        "id": "Nq2a7xW4XNp_",
        "outputId": "0282a1eb-c738-4163-c761-2fc83fd97ce7"
      },
      "execution_count": 46,
      "outputs": [
        {
          "output_type": "stream",
          "name": "stdout",
          "text": [
            "Rohit 's Salary: 8000\n",
            " Sachin's Salary (including bonus): 16200\n"
          ]
        }
      ]
    },
    {
      "cell_type": "code",
      "source": [
        "#15. Create a class Product with attributes name, price, and quantity. Implement a method total_price() that calculates the total price of the product.\n",
        "\n",
        "class Product:\n",
        "    def __init__(self, name, price, quantity):\n",
        "        self.name = name\n",
        "        self.price = price\n",
        "        self.quantity = quantity\n",
        "\n",
        "    def total_price(self):\n",
        "\n",
        "        return self.price * self.quantity\n",
        "\n",
        "# Example usage\n",
        "product = Product(\"Laptop\", 1000, 5)\n",
        "print(f\"Total price for {product.name}: {product.total_price()}\")"
      ],
      "metadata": {
        "colab": {
          "base_uri": "https://localhost:8080/"
        },
        "id": "EKkzCfhzYobm",
        "outputId": "b5bb6d05-6e08-4439-a10c-f77c7df05817"
      },
      "execution_count": 48,
      "outputs": [
        {
          "output_type": "stream",
          "name": "stdout",
          "text": [
            "Total price for Laptop: 5000\n"
          ]
        }
      ]
    },
    {
      "cell_type": "code",
      "source": [
        "#16. Create a class Animal with an abstract method sound(). Create two derived classes Cow and Sheep that implement the sound() method.\n",
        "\n",
        "from abc import ABC, abstractmethod\n",
        "\n",
        "class Animal(ABC):\n",
        "    @abstractmethod\n",
        "    def sound(self):\n",
        "        pass\n",
        "\n",
        "class Cow(Animal):\n",
        "    def sound(self):\n",
        "        return \"Moo\"\n",
        "\n",
        "class Sheep(Animal):\n",
        "    def sound(self):\n",
        "        return \"Baa\"\n",
        "\n",
        "# Example usage\n",
        "cow = Cow()\n",
        "sheep = Sheep()\n",
        "\n",
        "print(f\"A cow says: {cow.sound()}\")\n",
        "print(f\"A sheep says: {sheep.sound()}\")\n"
      ],
      "metadata": {
        "colab": {
          "base_uri": "https://localhost:8080/"
        },
        "id": "Nnx_X9K-Y5Wt",
        "outputId": "859b16d8-0228-4366-a3b7-4c60fd61c6e6"
      },
      "execution_count": 49,
      "outputs": [
        {
          "output_type": "stream",
          "name": "stdout",
          "text": [
            "A cow says: Moo\n",
            "A sheep says: Baa\n"
          ]
        }
      ]
    },
    {
      "cell_type": "code",
      "source": [
        "# 17 Create a class Book with attributes title, author, and year_published. Add a method get_book_info() that returns a formatted string with the book's details.\n",
        "\n",
        "class Book:\n",
        "    def __init__(self, title, author, year_published):\n",
        "        self.title = title\n",
        "        self.author = author\n",
        "        self.year_published = year_published\n",
        "\n",
        "    def get_book_info(self):\n",
        "        return f\"'{self.title}' by {self.author}, published in {self.year_published}\"\n",
        "\n",
        "# Example usage\n",
        "book = Book(\"Ram\", \"Amish\", 2020)\n",
        "print(book.get_book_info())"
      ],
      "metadata": {
        "colab": {
          "base_uri": "https://localhost:8080/"
        },
        "id": "MrrQOdjRZQkv",
        "outputId": "9f781d72-b396-4645-e4f4-9ebec54a4793"
      },
      "execution_count": 50,
      "outputs": [
        {
          "output_type": "stream",
          "name": "stdout",
          "text": [
            "'Ram' by Amish, published in 2020\n"
          ]
        }
      ]
    },
    {
      "cell_type": "code",
      "source": [
        "#18 Create a class House with attributes address and price. Create a derived class Mansion that adds an attribute number_of_rooms.\n",
        "\n",
        "class House:\n",
        "    def __init__(self, address, price):\n",
        "        self.address = address\n",
        "        self.price = price\n",
        "\n",
        "    def get_info(self):\n",
        "        return f\"House located at {self.address}, priced at {self.price}\"\n",
        "\n",
        "class Mansion(House):\n",
        "    def __init__(self, address, price, number_of_rooms):\n",
        "        super().__init__(address, price)\n",
        "        self.number_of_rooms = number_of_rooms\n",
        "\n",
        "    def get_info(self):\n",
        "        base_info = super().get_info()\n",
        "        return f\"{base_info}, with {self.number_of_rooms} rooms\"\n",
        "\n",
        "house = House(\"123 Pune\", 250000)\n",
        "mansion = Mansion(\"456 Pimpri\", 1500000, 12)\n",
        "\n",
        "print(house.get_info())      # Output: House located at 123 Elm St, priced at $250000\n",
        "print(mansion.get_info())"
      ],
      "metadata": {
        "colab": {
          "base_uri": "https://localhost:8080/"
        },
        "id": "z90Dqw-xZxEN",
        "outputId": "dab3489d-fd89-4e3a-f5c2-a5ef57928904"
      },
      "execution_count": 52,
      "outputs": [
        {
          "output_type": "stream",
          "name": "stdout",
          "text": [
            "House located at 123 Pune, priced at 250000\n",
            "House located at 456 Pimpri, priced at 1500000, with 12 rooms\n"
          ]
        }
      ]
    }
  ]
}