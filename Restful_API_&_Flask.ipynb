{
  "nbformat": 4,
  "nbformat_minor": 0,
  "metadata": {
    "colab": {
      "provenance": []
    },
    "kernelspec": {
      "name": "python3",
      "display_name": "Python 3"
    },
    "language_info": {
      "name": "python"
    }
  },
  "cells": [
    {
      "cell_type": "markdown",
      "source": [
        "1. What is a RESTful API.\n",
        "\n",
        "    A RESTful API is a type of API that uses the principles of Representational State Transfer (REST) to communicate between different systems over the internet. It's a popular choice for web services and mobile applications, providing a simple, standardized way for clients and servers to interact.\n",
        "    Key Concepts:\n",
        "    REST:\n",
        "    Representational State Transfer is an architectural style that provides guidelines for designing APIs.\n",
        "    Client-Server Architecture:\n",
        "    RESTful APIs operate on a client-server model, where a client (e.g., a web browser) sends requests to a server, which then responds with data or performs actions.\n",
        "    Statelessness:\n",
        "    Each request from a client to a server is independent, meaning the server doesn't maintain session state between requests.\n",
        "    Uniform Interface:\n",
        "    RESTful APIs use a standardized way for clients to interact with resources, typically using HTTP methods like GET, POST, PUT, and DELETE.\n",
        "    Resources:\n",
        "    RESTful APIs deal with resources, which can be anything that can be represented, such as data, images, or documents.\n",
        "    Endpoints:\n",
        "    Endpoints are URLs that represent a specific resource or operation on that resource.\n",
        "    HTTP Methods:\n",
        "    RESTful APIs use standard HTTP methods to perform actions on resources. For example, GET is used to retrieve data, POST is used to create a new resource, PUT is used to update a resource, and DELETE is used to remove a resource.\n",
        "    Benefits:\n",
        "    Simplicity:\n",
        "    RESTful APIs are relatively easy to implement and understand, making them a good choice for both developers and clients.\n",
        "    Scalability:\n",
        "    The client-server architecture and stateless nature of RESTful APIs make them scalable, allowing them to handle a large number of requests.\n",
        "    Flexibility:\n",
        "    RESTful APIs can be adapted to various data formats and communication protocols, making them versatile.\n",
        "    Interoperability:\n",
        "    RESTful APIs can be used with various programming languages and platforms, allowing for easy integration between different systems.\n"
      ],
      "metadata": {
        "id": "xh9Q0TugsTkW"
      }
    },
    {
      "cell_type": "markdown",
      "source": [
        "2. Explain the concept of API specification\n",
        "\n",
        "    An API specification is a detailed, standardized description of how an API (Application Programming Interface) behaves and interacts with other systems. It serves as a contract between the API provider and consumers, outlining the structure, endpoints, request/response formats, authentication methods, and error handling mechanisms. This specification is crucial for both human understanding and machine processing, facilitating seamless integration and communication between diverse software systems\n",
        "\n",
        "     Key Components of an API Specification\n",
        "      Endpoints and Paths: Defines the available API routes (e.g., /users, /orders/{id}) and the HTTP methods (GET, POST, PUT, DELETE) associated with each.\n",
        "\n",
        "      Request and Response Schemas: Specifies the structure of data expected in requests and the format of responses, including data types and required fields.\n",
        "\n",
        "      Parameters: Details the query parameters, path variables, headers, and body content that can be sent with requests.\n",
        "      rapidapi.com\n",
        "\n",
        "      Authentication and Authorization: Outlines the security mechanisms in place, such as API keys, OAuth tokens, or JWTs, and how they should be used.\n",
        "      swagger.io\n",
        "\n",
        "      Error Handling: Describes the possible error codes and messages that the API might return, aiding in effective debugging and error resolution.\n",
        "\n",
        "      Metadata: Includes additional information like versioning, terms of service, contact details, and licensing."
      ],
      "metadata": {
        "id": "Ggc2qThzsuu8"
      }
    },
    {
      "cell_type": "markdown",
      "source": [
        "3.What is Flask, and why is it popular for building APIs\n",
        "\n",
        "    Flask is a lightweight and flexible web framework written in Python. It's classified as a microframework because it provides the essential tools to build web applications and APIs without enforcing a particular project structure or including additional functionalities like database abstraction layers or form validation by default. This minimalist approach allows developers to choose the components they need, making Flask highly adaptable to various project requirements.\n",
        "\n",
        "    Flask's straightforward design enables developers to quickly set up and deploy APIs. Its minimalistic nature ensures that only necessary components are included, reducing complexity and overhead.\n",
        "\n",
        "    Flexibility\n",
        "    Unlike some frameworks that impose strict project structures, Flask allows developers to organize their codebase as they see fit. This flexibility is particularly beneficial for projects that may evolve over time or require custom architectures.\n",
        "\n",
        "    Extensive Ecosystem and Community Support\n",
        "    Flask boasts a vibrant community and a rich ecosystem of extensions. These extensions provide additional functionalities such as database integration (e.g., SQLAlchemy), authentication mechanisms, and more, allowing developers to enhance their applications as needed.\n",
        "\n",
        "    Ease of Testing and Debugging\n",
        "    Flask includes built-in support for unit testing and offers a debugger that provides detailed error messages. This facilitates the development process by making it easier to identify and fix issues.\n",
        "\n",
        "    Ideal for RESTful API Development\n",
        "    Flask is well-suited for creating RESTful APIs. Its simplicity and flexibility make it a popular choice for building APIs and microservices.\n"
      ],
      "metadata": {
        "id": "w6htlU8etOyp"
      }
    },
    {
      "cell_type": "markdown",
      "source": [
        "4. What is routing in Flask.\n",
        "\n",
        "    In Flask, routing is the mechanism that maps URLs to specific functions in your application, known as view functions. When a user accesses a particular URL, Flask invokes the corresponding view function to process the request and generate a response.\n",
        "\n",
        "    Flask utilizes the @app.route() decorator to associate a URL with a Python function. This decorator tells Flask which function to execute when a specific URL is requested"
      ],
      "metadata": {
        "id": "B9F_eZwOwnws"
      }
    },
    {
      "cell_type": "markdown",
      "source": [
        "5.  How do you create a simple Flask application\n",
        "\n",
        "      First, ensure you have Python installed on your system. Then, install Flask using pip\n",
        "      For better project management, it's recommended to use a virtual environment. You can set one up using\n"
      ],
      "metadata": {
        "id": "jsblDCYlzacB"
      }
    },
    {
      "cell_type": "code",
      "source": [
        "pip install Flask"
      ],
      "metadata": {
        "colab": {
          "base_uri": "https://localhost:8080/"
        },
        "id": "Du-M-rVw0ImC",
        "outputId": "d1b2d46f-ca6d-4b7e-ceb1-db6eaa2ea8f3"
      },
      "execution_count": null,
      "outputs": [
        {
          "output_type": "stream",
          "name": "stdout",
          "text": [
            "Requirement already satisfied: Flask in /usr/local/lib/python3.11/dist-packages (3.1.1)\n",
            "Requirement already satisfied: blinker>=1.9.0 in /usr/local/lib/python3.11/dist-packages (from Flask) (1.9.0)\n",
            "Requirement already satisfied: click>=8.1.3 in /usr/local/lib/python3.11/dist-packages (from Flask) (8.2.1)\n",
            "Requirement already satisfied: itsdangerous>=2.2.0 in /usr/local/lib/python3.11/dist-packages (from Flask) (2.2.0)\n",
            "Requirement already satisfied: jinja2>=3.1.2 in /usr/local/lib/python3.11/dist-packages (from Flask) (3.1.6)\n",
            "Requirement already satisfied: markupsafe>=2.1.1 in /usr/local/lib/python3.11/dist-packages (from Flask) (3.0.2)\n",
            "Requirement already satisfied: werkzeug>=3.1.0 in /usr/local/lib/python3.11/dist-packages (from Flask) (3.1.3)\n"
          ]
        }
      ]
    },
    {
      "cell_type": "code",
      "source": [
        "!pip install virtualenv\n",
        "!virtualenv venv"
      ],
      "metadata": {
        "colab": {
          "base_uri": "https://localhost:8080/"
        },
        "id": "GR1hpjXl0LuN",
        "outputId": "66da99fa-1805-45ef-9374-ee1f68beb153"
      },
      "execution_count": null,
      "outputs": [
        {
          "output_type": "stream",
          "name": "stdout",
          "text": [
            "Collecting virtualenv\n",
            "  Downloading virtualenv-20.31.2-py3-none-any.whl.metadata (4.5 kB)\n",
            "Collecting distlib<1,>=0.3.7 (from virtualenv)\n",
            "  Downloading distlib-0.3.9-py2.py3-none-any.whl.metadata (5.2 kB)\n",
            "Requirement already satisfied: filelock<4,>=3.12.2 in /usr/local/lib/python3.11/dist-packages (from virtualenv) (3.18.0)\n",
            "Requirement already satisfied: platformdirs<5,>=3.9.1 in /usr/local/lib/python3.11/dist-packages (from virtualenv) (4.3.8)\n",
            "Downloading virtualenv-20.31.2-py3-none-any.whl (6.1 MB)\n",
            "\u001b[2K   \u001b[90m━━━━━━━━━━━━━━━━━━━━━━━━━━━━━━━━━━━━━━━━\u001b[0m \u001b[32m6.1/6.1 MB\u001b[0m \u001b[31m49.8 MB/s\u001b[0m eta \u001b[36m0:00:00\u001b[0m\n",
            "\u001b[?25hDownloading distlib-0.3.9-py2.py3-none-any.whl (468 kB)\n",
            "\u001b[2K   \u001b[90m━━━━━━━━━━━━━━━━━━━━━━━━━━━━━━━━━━━━━━━━\u001b[0m \u001b[32m469.0/469.0 kB\u001b[0m \u001b[31m26.6 MB/s\u001b[0m eta \u001b[36m0:00:00\u001b[0m\n",
            "\u001b[?25hInstalling collected packages: distlib, virtualenv\n",
            "Successfully installed distlib-0.3.9 virtualenv-20.31.2\n",
            "created virtual environment CPython3.11.12.final.0-64 in 928ms\n",
            "  creator CPython3Posix(dest=/content/venv, clear=False, no_vcs_ignore=False, global=False)\n",
            "  seeder FromAppData(download=False, pip=bundle, setuptools=bundle, via=copy, app_data_dir=/root/.local/share/virtualenv)\n",
            "    added seed packages: pip==25.1.1, setuptools==80.3.1\n",
            "  activators BashActivator,CShellActivator,FishActivator,NushellActivator,PowerShellActivator,PythonActivator\n"
          ]
        }
      ]
    },
    {
      "cell_type": "code",
      "metadata": {
        "colab": {
          "base_uri": "https://localhost:8080/"
        },
        "id": "10956be0",
        "outputId": "84a2b8e9-172b-4e91-f21a-46a5828119f1"
      },
      "source": [
        "from flask import Flask\n",
        "import threading\n",
        "import time\n",
        "import os\n",
        "\n",
        "app = Flask(__name__)\n",
        "\n",
        "@app.route('/')\n",
        "def hello_world():\n",
        "    return 'Hello, World!'\n",
        "\n",
        "def run_flask():\n",
        "    # Use a different port from the default 5000\n",
        "    port = int(os.environ.get('PORT', 8080))\n",
        "    # Host on 0.0.0.0 to make it accessible externally\n",
        "    app.run(host='0.0.0.0', port=port)\n",
        "\n",
        "# Run Flask in a separate thread so the notebook can continue\n",
        "threading.Thread(target=run_flask).start()\n",
        "\n",
        "print(f\"Flask app is running on http://0.0.0.0:{int(os.environ.get('PORT', 8080))}\")\n",
        "print(\"You can access the app using the public URL provided by Colab.\")"
      ],
      "execution_count": null,
      "outputs": [
        {
          "output_type": "stream",
          "name": "stdout",
          "text": [
            "Flask app is running on http://0.0.0.0:8080\n",
            "You can access the app using the public URL provided by Colab.\n",
            " * Serving Flask app '__main__'\n",
            " * Debug mode: off\n"
          ]
        }
      ]
    },
    {
      "cell_type": "markdown",
      "source": [
        "6.  What are HTTP methods used in RESTful APIs\n",
        "\n",
        "\n",
        "      n RESTful API development, HTTP methods—also known as verbs—define the actions that can be performed on resources. These methods correspond to the standard CRUD operations: Create, Read, Update, and Delete. Understanding these methods is crucial for designing intuitive and effective APIs.\n",
        "\n",
        "    Common HTTP Methods in RESTful APIs\n",
        "    GET  :- Retrieve a resource\n",
        "\n",
        "    Purpose: Fetch data from the server without modifying it.\n",
        "\n",
        "    Example: GET /users/123 retrieves the user with ID 123.\n",
        "\n",
        "    Properties: Safe, idempotent, and cacheable.\n",
        "    MDN Web Docs\n",
        "\n",
        "    POST -  Create a new resource\n",
        "\n",
        "    Purpose: Submit data to the server to create a new resource.\n",
        "\n",
        "    Example: POST /users with a JSON body to add a new user.\n",
        "\n",
        "    Properties: Not idempotent; multiple identical requests may create multiple resources.\n",
        "    Medium\n",
        "\n",
        "    PUT  Update or create a resource\n",
        "\n",
        "    Purpose: Replace an existing resource or create it if it doesn't exist.\n",
        "\n",
        "    Example: PUT /users/123 with a full user object to update or create user 123.\n",
        "\n",
        "    Properties: Idempotent; repeated requests yield the same result.\n",
        "\n",
        "\n",
        "\n",
        "    PATCH  :- Partially update a resource\n",
        "\n",
        "    Purpose: Apply partial modifications to a resource.\n",
        "\n",
        "    Example: PATCH /users/123 with { \"email\": \"new@example.com\" } to update only the email.\n",
        "\n",
        "    Properties: Not necessarily idempotent; behavior depends on implementation.\n",
        "\n",
        "    DELETE :-  Remove a resource\n",
        "\n",
        "    Purpose: Delete a specified resource.\n",
        "\n",
        "    Example: DELETE /users/123 removes user 123.\n",
        "\n",
        "    Properties: Idempotent; deleting an already deleted resource has no additional effect."
      ],
      "metadata": {
        "id": "jXxOgXpW2JSU"
      }
    },
    {
      "cell_type": "markdown",
      "source": [
        "7.  What is the purpose of the @app.route() decorator in Flask\n",
        "\n",
        "    In Flask, the @app.route() decorator is fundamental for defining routes in your web application. It associates a specific URL path with a Python function, known as a view function, which is executed when that URL is accessed.\n",
        "    Purpose of @app.route()\n",
        "    The primary purpose of the @app.route() decorator is to map a URL to a corresponding view function. This enables Flask to determine which function should handle a given HTTP request based on the requested URL.\n"
      ],
      "metadata": {
        "id": "rqZ2l5GgCFX5"
      }
    },
    {
      "cell_type": "code",
      "source": [
        "from flask import Flask\n",
        "\n",
        "app = Flask(__name__)\n",
        "\n",
        "@app.route('/')\n",
        "def home():\n",
        "    return 'Welcome to the Home Page!'"
      ],
      "metadata": {
        "id": "nfSeLbguC8IO"
      },
      "execution_count": null,
      "outputs": []
    },
    {
      "cell_type": "markdown",
      "source": [
        "8. What is the difference between GET and POST HTTP methods.\n",
        "\n",
        "    The primary distinction between HTTP GET and POST methods lies in their intended use and how they transmit data between the client and server. Here's a detailed comparison:\n",
        "\n",
        "     GET Method\n",
        "      Purpose: Retrieve data from the server without causing any side effects.\n",
        "\n",
        "      Data Transmission: Appends data to the URL as query parameters (e.g., ?key=value).\n",
        "\n",
        "      Visibility: Data is visible in the URL, making it less secure for sensitive information.\n",
        "\n",
        "      Caching: Responses can be cached by browsers.\n",
        "\n",
        "      Bookmarking: URLs with query parameters can be bookmarked.\n",
        "\n",
        "      Data Length: Limited by URL length restrictions (approximately 2048 characters in many browsers).\n",
        "\n",
        "      Use Cases: Fetching web pages, search queries, or any operation that doesn't modify server data.\n",
        "      \n",
        "      POST Method\n",
        "      Purpose: Send data to the server to create or update resources.\n",
        "\n",
        "      Data Transmission: Encapsulates data within the request body, not visible in the URL.\n",
        "\n",
        "      Visibility: Data is not displayed in the URL, offering better security for sensitive information.\n",
        "\n",
        "      Caching: Responses are not cached by default.\n",
        "\n",
        "      Bookmarking: Requests cannot be bookmarked since data isn't in the URL.\n",
        "\n",
        "      Data Length: No significant restrictions on the amount of data sent.\n",
        "\n",
        "      Use Cases: Form submissions, uploading files, or any operation that modifies server data.\n",
        "      W3Schools\n",
        "      Wikipedia\n"
      ],
      "metadata": {
        "id": "MunoHWubDEtE"
      }
    },
    {
      "cell_type": "markdown",
      "source": [
        "9. How do you handle errors in Flask APIs\n",
        "\n",
        "\n",
        "    Handling errors effectively in Flask APIs is crucial for providing clear feedback to clients and maintaining application stability. Flask offers several mechanisms to manage errors gracefully, ensuring that your API responds with meaningful messages and appropriate HTTP status codes.\n",
        "\n",
        "    1. Using @app.errorhandler for Custom Error Responses\n",
        "        Flask allows you to define custom error handlers using the @app.errorhandler decorator. This enables you to return structured JSON responses instead of default HTML error pages\n",
        "\n",
        ".   2. Creating Custom Exceptions\n",
        "        For application-specific errors, you can define custom exception classes by subclassing werkzeug.exceptions.HTTPException. This approach allows you to encapsulate error details and return appropriate HTTP status codes        \n",
        "    3. Using abort() for Immediate Error Responses\n",
        "        Flask's abort() function allows you to terminate a request early and return an HTTP error code. This is useful for validating input or checking conditions before proceedin\n",
        "\n",
        "     4. Handling Unexpected Errors with a General Exception Handler\n",
        "        To catch unforeseen errors and prevent exposing internal details, define a general exception handler.\n",
        "\n",
        "     5.  Logging Errors for Monitoring and Debugging   \n"
      ],
      "metadata": {
        "id": "cd9bOfQLEky3"
      }
    },
    {
      "cell_type": "markdown",
      "source": [
        "10.   How do you connect Flask to a SQL database\n",
        "\n",
        "\n",
        "    To connect a Flask application to a SQL database, the most common and efficient approach is to use the Flask-SQLAlchemy extension. This extension integrates SQLAlchemy with Flask, allowing you to interact with various SQL databases using Python objects and methods\n",
        "\n",
        "    1. Install Required Packages\n",
        "      First, ensure you have Flask and Flask-SQLAlchemy installed. You can install them using pip:"
      ],
      "metadata": {
        "id": "4QgleLYnFcWB"
      }
    },
    {
      "cell_type": "code",
      "source": [
        "pip install Flask Flask-SQLAlchemy"
      ],
      "metadata": {
        "colab": {
          "base_uri": "https://localhost:8080/"
        },
        "id": "P7cDGVKLF9cP",
        "outputId": "c3354f43-1a7d-4d2a-8aa2-38d5468fe8c0"
      },
      "execution_count": null,
      "outputs": [
        {
          "output_type": "stream",
          "name": "stdout",
          "text": [
            "Requirement already satisfied: Flask in /usr/local/lib/python3.11/dist-packages (3.1.1)\n",
            "Collecting Flask-SQLAlchemy\n",
            "  Downloading flask_sqlalchemy-3.1.1-py3-none-any.whl.metadata (3.4 kB)\n",
            "Requirement already satisfied: blinker>=1.9.0 in /usr/local/lib/python3.11/dist-packages (from Flask) (1.9.0)\n",
            "Requirement already satisfied: click>=8.1.3 in /usr/local/lib/python3.11/dist-packages (from Flask) (8.2.1)\n",
            "Requirement already satisfied: itsdangerous>=2.2.0 in /usr/local/lib/python3.11/dist-packages (from Flask) (2.2.0)\n",
            "Requirement already satisfied: jinja2>=3.1.2 in /usr/local/lib/python3.11/dist-packages (from Flask) (3.1.6)\n",
            "Requirement already satisfied: markupsafe>=2.1.1 in /usr/local/lib/python3.11/dist-packages (from Flask) (3.0.2)\n",
            "Requirement already satisfied: werkzeug>=3.1.0 in /usr/local/lib/python3.11/dist-packages (from Flask) (3.1.3)\n",
            "Requirement already satisfied: sqlalchemy>=2.0.16 in /usr/local/lib/python3.11/dist-packages (from Flask-SQLAlchemy) (2.0.41)\n",
            "Requirement already satisfied: greenlet>=1 in /usr/local/lib/python3.11/dist-packages (from sqlalchemy>=2.0.16->Flask-SQLAlchemy) (3.2.2)\n",
            "Requirement already satisfied: typing-extensions>=4.6.0 in /usr/local/lib/python3.11/dist-packages (from sqlalchemy>=2.0.16->Flask-SQLAlchemy) (4.13.2)\n",
            "Downloading flask_sqlalchemy-3.1.1-py3-none-any.whl (25 kB)\n",
            "Installing collected packages: Flask-SQLAlchemy\n",
            "Successfully installed Flask-SQLAlchemy-3.1.1\n"
          ]
        }
      ]
    },
    {
      "cell_type": "markdown",
      "source": [
        "2. Initialize Flask App and Configure the Database\n",
        "Create a Flask application instance and configure the database URI. For example, to use SQLite"
      ],
      "metadata": {
        "id": "eGnx6snYGMi8"
      }
    },
    {
      "cell_type": "code",
      "source": [
        "from flask import Flask\n",
        "from flask_sqlalchemy import SQLAlchemy\n",
        "\n",
        "app = Flask(__name__)\n",
        "app.config['SQLALCHEMY_DATABASE_URI'] = 'sqlite:///site.db'  # Using SQLite\n",
        "app.config['SQLALCHEMY_TRACK_MODIFICATIONS'] = False  # To suppress a warning\n",
        "\n",
        "db = SQLAlchemy(app)"
      ],
      "metadata": {
        "id": "t3rpaxCNGINy"
      },
      "execution_count": null,
      "outputs": []
    },
    {
      "cell_type": "markdown",
      "source": [
        "Define Database Models\n",
        "Create Python classes that represent your database tables. Each class inherits from db.Model"
      ],
      "metadata": {
        "id": "eB1B3x9EGViU"
      }
    },
    {
      "cell_type": "code",
      "source": [
        "class User(db.Model):\n",
        "    id = db.Column(db.Integer, primary_key=True)\n",
        "    username = db.Column(db.String(150), unique=True, nullable=False)\n",
        "    email = db.Column(db.String(120), unique=True, nullable=False)\n",
        "\n",
        "    def __repr__(self):\n",
        "        return f\"<User {self.username}>\""
      ],
      "metadata": {
        "id": "OvIc3Y8TGYDG"
      },
      "execution_count": null,
      "outputs": []
    },
    {
      "cell_type": "markdown",
      "source": [
        "4. Create the Database and Tables\n",
        "Before running your application, create the database and tables"
      ],
      "metadata": {
        "id": "mXdu3Xh7Gosb"
      }
    },
    {
      "cell_type": "code",
      "source": [
        "with app.app_context():\n",
        "  db.create_all()"
      ],
      "metadata": {
        "id": "p15J0ABzGnhE"
      },
      "execution_count": null,
      "outputs": []
    },
    {
      "cell_type": "markdown",
      "source": [
        " Perform Database Operations\n",
        "You can now perform CRUD (Create, Read, Update, Delete) operations using SQLAlchemy's ses"
      ],
      "metadata": {
        "id": "v8C8WvKIGwXE"
      }
    },
    {
      "cell_type": "code",
      "source": [
        "#create\n",
        "with app.app_context():\n",
        "  new_user = User(username='john_doe', email='john@example.com')\n",
        "  db.session.add(new_user)\n",
        "  db.session.commit()\n",
        "\n",
        "  #Read:\n",
        "\n",
        "  user = User.query.filter_by(username='john_doe').first()\n",
        "\n"
      ],
      "metadata": {
        "id": "q0oSDmKeGmeX"
      },
      "execution_count": null,
      "outputs": []
    },
    {
      "cell_type": "markdown",
      "source": [
        "11. What is the role of Flask-SQLAlchemy\n",
        "\n",
        "      Flask-SQLAlchemy is a Flask extension that integrates SQLAlchemy, a powerful SQL toolkit and Object-Relational Mapper (ORM), into Flask applications. It simplifies database interactions by providing a set of tools and patterns that make it easier to work with databases in Flask\n",
        "\n",
        "      Key Roles of Flask-SQLAlchemy\n",
        "      Simplified Configuration and Setup: Flask-SQLAlchemy streamlines the process of setting up SQLAlchemy with Flask by automatically handling the creation and management of database connections and sessions. This reduces boilerplate code and allows developers to focus on application logic.\n",
        "\n",
        "      Object-Relational Mapping (ORM): It enables developers to define database models as Python classes, allowing for intuitive interaction with database tables using Python objects instead of writing raw SQL queries.\n",
        "\n",
        "      Session Management: The extension manages database sessions automatically, tying them to the Flask application context. This ensures that sessions are properly opened and closed with each request, promoting efficient resource usage.\n",
        "\n",
        "      Integration with Flask Ecosystem: Flask-SQLAlchemy is designed to work seamlessly with other Flask extensions, such as Flask-Migrate for database migrations and Flask-Login for user session management, facilitating the development of robust web applications.\n",
        "\n",
        "      Support for Multiple Databases: It supports various database backends, including SQLite, PostgreSQL, MySQL, and Oracle, providing flexibility in choosing the appropriate database for your application."
      ],
      "metadata": {
        "id": "F6Zall5yHXXU"
      }
    },
    {
      "cell_type": "markdown",
      "source": [
        "12. What are Flask blueprints, and how are they useful\n",
        "\n",
        "    A Blueprint in Flask serves as a blueprint (hence the name) for a set of operations that can be registered on an application. It is not an application itself but rather a collection of routes, view functions, templates, static files, and other elements that can be applied to an application. This modular approach allows for a more organized and maintainable codebase.\n",
        "\n",
        "    According to the Flask documentation:\n",
        "\n",
        "    \"Flask uses a concept of blueprints for making application components and supporting common patterns within an application or across applications.\"\n",
        "    Flask\n",
        "\n",
        "    Benefits of Using Blueprints\n",
        "    Modularity: By encapsulating related functionalities, blueprints promote a modular design, making it easier to manage and scale the application.\n",
        "\n",
        "    Reusability: Blueprints can be reused across different applications, facilitating code reuse and consistency.\n",
        "\n",
        "    Separation of Concerns: They allow developers to separate different parts of the application logically, such as authentication, user management, or API endpoints.\n",
        "\n",
        "    Ease of Testing: With blueprints, individual components can be tested in isolation, improving the testing process.\n",
        "\n",
        "    Collaborative Development: In team environments, blueprints enable multiple developers to work on different components simultaneously without causing conflicts\n"
      ],
      "metadata": {
        "id": "xrx2LJ6r7wX9"
      }
    },
    {
      "cell_type": "markdown",
      "source": [],
      "metadata": {
        "id": "4j4YId6p8fiv"
      }
    },
    {
      "cell_type": "markdown",
      "source": [
        "13.  What is the purpose of Flask's request object.\n",
        "\n",
        "    In Flask, the request object is a crucial component that encapsulates all incoming HTTP request data sent by the client to the server. It allows developers to access and process various elements of the HTTP request within view functions, facilitating dynamic and interactive web applications.\n",
        "\n",
        "    The request object serves as an interface to retrieve data from the client's HTTP request. It provides access to form data, query parameters, headers, cookies, files, and more. This enables the server to understand and respond appropriately to client inputs.\n"
      ],
      "metadata": {
        "id": "Yn28q2uD8o5i"
      }
    },
    {
      "cell_type": "markdown",
      "source": [
        "14. How do you create a RESTful API endpoint using Flask\n",
        "\n",
        "\n",
        "    Creating a RESTful API endpoint using Flask involves setting up routes that respond to specific HTTP methods (such as GET, POST, PUT, DELETE) and return data, typically in JSON format. Here's a step-by-step guide to building a simple RESTful API with Flask:\n",
        "\n",
        "✅ Step 1: Install Flask\n",
        "First, ensure that Flask is installed in your environment. You can install it using pip:\n",
        "\n",
        "bash\n",
        "Copy\n",
        "Edit\n",
        "pip install Flask\n",
        "✅ Step 2: Create a Basic Flask Application\n",
        "Create a Python file (e.g., app.py) and set up a basic Flask application:\n",
        "\n",
        "python\n",
        "Copy\n",
        "Edit\n",
        "from flask import Flask, request, jsonify\n",
        "\n",
        "app = Flask(__name__)\n",
        "✅ Step 3: Define a RESTful API Endpoint\n",
        "Let's create an endpoint that handles both GET and POST requests.\n",
        "\n",
        "python\n",
        "Copy\n",
        "Edit\n",
        "# Sample data\n",
        "users = [\n",
        "    {\"id\": 1, \"name\": \"Alice\"},\n",
        "    {\"id\": 2, \"name\": \"Bob\"}\n",
        "]\n",
        "\n",
        "# GET all users\n",
        "@app.route('/api/users', methods=['GET'])\n",
        "def get_users():\n",
        "    return jsonify(users)\n",
        "\n",
        "# POST a new user\n",
        "@app.route('/api/users', methods=['POST'])\n",
        "def add_user():\n",
        "    new_user = request.get_json()\n",
        "    users.append(new_user)\n",
        "    return jsonify(new_user), 201\n",
        "In this example:\n",
        "\n",
        "GET /api/users: Returns the list of users.\n",
        "Wikipedia\n",
        "+2\n",
        "Real Python\n",
        "+2\n",
        "Reddit\n",
        "+2\n",
        "\n",
        "POST /api/users: Adds a new user to the list."
      ],
      "metadata": {
        "id": "Z79laksC9bLK"
      }
    },
    {
      "cell_type": "markdown",
      "source": [
        "15.  What is the purpose of Flask's jsonify() function\n",
        "\n",
        "    In Flask, the jsonify() function is a convenient utility that simplifies the process of returning JSON responses from your web application. It handles the serialization of Python data structures into JSON format and sets the appropriate HTTP headers, making it ideal for building RESTful APIs\n",
        "\n",
        "    The primary purpose of jsonify() is to:\n",
        "\n",
        "      Serialize Python Data: Convert Python dictionaries, lists, and other serializable objects into JSON format.\n",
        "\n",
        "      Create a Response Object: Return a Flask Response object with the JSON data as its body.\n",
        "\n",
        "      Set Content-Type Header: Automatically set the Content-Type header to application/json, informing clients that the response is in JSON format.\n",
        "      DEV Community\n",
        "      +2\n",
        "      GeeksforGeeks\n",
        "      +2\n",
        "      DEV Community\n",
        "      +2\n",
        "\n",
        "      This function abstracts away the manual steps involved in creating JSON responses, allowing developers to focus on the application logic.\n"
      ],
      "metadata": {
        "id": "AXbdKBco95Vb"
      }
    },
    {
      "cell_type": "markdown",
      "source": [
        "16. Explain Flask’s url_for() function\n",
        "\n",
        "    url_for() is a Flask function that generates a URL to a specific view function dynamically. This function is useful because it avoids hard-coding URLs into templates.\n",
        "    How it Works:\n",
        "    Function Name:\n",
        "    The first argument to url_for() is the name of the view function you want to link to.\n",
        "    Keyword Arguments:\n",
        "    You can pass keyword arguments that correspond to the variable parts of the URL rule.\n",
        "    Dynamic URL Generation:\n",
        "    url_for() constructs the URL based on the function name and provided arguments.\n",
        "    URL Reversal:\n",
        "    This process is known as URL reversing, as it generates the URL based on the view function rather than defining the URL directly.\n",
        "    Benefits of Using url_for():\n",
        "    Descriptive:\n",
        "    It's often more descriptive than hard-coding URLs, making code easier to understand.\n",
        "    Maintainability:\n",
        "    If you change a URL, you only need to update it in the route definition, not in every template where it's used.\n",
        "    Escaping:\n",
        "    It automatically handles the escaping of special characters in the URL.\n",
        "    Absolute Paths:\n",
        "    The generated paths are always absolute, avoiding unexpected behavior with relative paths.\n",
        "    Application Root Handling:\n",
        "    It automatically accounts for the application's location outside the URL root."
      ],
      "metadata": {
        "id": "JNjSdXeR-W-W"
      }
    },
    {
      "cell_type": "markdown",
      "source": [
        "17.  How does Flask handle static files (CSS, JavaScript, etc.)\n",
        "\n",
        "    Flask handles static files like CSS, JavaScript, and images by serving them from a designated directory, typically named \"static,\" located in the root directory of your application. This directory is automatically configured to be accessible via the /static/ URL path.\n",
        "    Here's a breakdown of how it works:\n",
        "    1. The static Directory:\n",
        "    Flask expects static files to be placed within a folder named static at the root of your project.\n",
        "    You can create subfolders inside static (e.g., css, js, img) for better organization.\n",
        "    2. Accessing Static Files in Templates:\n",
        "    Within your HTML templates, you use the url_for() function to generate the correct URLs for your static files.\n"
      ],
      "metadata": {
        "id": "Rx9y0QQIA1Z-"
      }
    },
    {
      "cell_type": "markdown",
      "source": [
        "18. What is an API specification, and how does it help in building a Flask API\n",
        "APIFlask is a lightweight Python web API framework based on Flask and marshmallow-code projects. It's easy to use, highly customizable, ORM/ODM-agnostic, and 100% compatible with the Flask ecosystem.\n",
        "\n",
        "With APIFlask, you will have:\n",
        "\n",
        "More sugars for view function (@app.input(), @app.output(), @app.get(), @app.post() and more)\n",
        "Automatic request validation and deserialization\n",
        "Automatic response formatting and serialization\n",
        "Automatic OpenAPI Specification (OAS, formerly Swagger Specification) document generation\n",
        "Automatic interactive API documentation\n",
        "API authentication support (with Flask-HTTPAuth)\n",
        "Automatic JSON response for HTTP errors\n",
        "\n"
      ],
      "metadata": {
        "id": "mO6icPv3BlJ7"
      }
    },
    {
      "cell_type": "markdown",
      "source": [
        "19. What are HTTP status codes, and why are they important in a Flask API\n",
        "\n",
        "HTTP status codes are three-digit codes sent by a web server to a client (like a browser) to indicate the outcome of an HTTP request. They signal whether the request was successful, redirected, or resulted in an error. These codes are crucial for understanding and troubleshooting issues with web pages and websites.\n",
        "Here's a breakdown of the key categories and examples:\n",
        "1xx Informational:\n",
        "These codes indicate that the request has been received and is being processed.\n",
        "100 Continue: The client should continue with the request after receiving this response.\n",
        "2xx Success:\n",
        "These codes indicate that the request was successfully received, understood, and accepted.\n",
        "200 OK: The request was successful.\n",
        "201 Created: The request has resulted in a new resource being created.\n",
        "3xx Redirection:\n",
        "These codes indicate that further action is needed to complete the request, often involving a redirect to a different URL.\n",
        "301 Moved Permanently: The resource has been permanently moved to a new location.\n",
        "302 Found (Temporary Redirect): The resource has been temporarily moved to a new location.\n",
        "4xx Client Error:\n",
        "These codes indicate that the request contains an error and cannot be fulfilled by the client.\n",
        "400 Bad Request: The server cannot process the request due to an error in the request.\n",
        "401 Unauthorized: The client needs to be authenticated with proper credentials to access the resource.\n",
        "403 Forbidden: The server is refusing to fulfill the request due to security reasons.\n",
        "404 Not Found: The requested resource could not be found on the server.\n",
        "5xx Server Error:\n",
        "These codes indicate that the server failed to fulfill the request due to an internal error.\n",
        "500 Internal Server Error: A generic error indicating that the server encountered an unexpected condition.\n",
        "503 Service Unavailable: The server is currently unavailable.\n",
        "504 Gateway Timeout: The server timed out while waiting for a response from another server.\n",
        "These status codes are used by search engines like Google to determine if a page should be indexed, and by web developers to diagnose and fix issues. For example, a 404 status code can indicate a broken link on a website\n",
        "\n",
        "In Flask, you can set HTTP status codes using the return statement in your route functions\n"
      ],
      "metadata": {
        "id": "wpm1kqRdB4NK"
      }
    },
    {
      "cell_type": "markdown",
      "source": [
        "20.How do you handle POST requests in Flask\n",
        "\n",
        "Flask handles POST requests by allowing you to define routes that accept POST methods and access the data sent in the request. Here's a breakdown of how it works:\n",
        "\n",
        "You use the @app.route() decorator to define a route, specifying the methods parameter to include 'POST'.\n",
        "This ensures that the route only responds to POST requests.\n"
      ],
      "metadata": {
        "id": "Tq7-DTUDCSqI"
      }
    },
    {
      "cell_type": "markdown",
      "source": [
        "21.How would you secure a Flask API\n",
        "\n",
        "Securing a Flask API involves multiple layers of protection. Here's a breakdown of essential practices:\n",
        "1. Authentication and Authorization:\n",
        "Token-Based Authentication:\n",
        "Use JSON Web Tokens (JWT) or OAuth 2.0 for secure authentication. After a user logs in, generate a token and send it back. The user includes this token in subsequent requests, which the API validates.\n",
        "API Keys:\n",
        "For simpler use cases, API keys can be used, sent in headers or as query parameters.\n",
        "Role-Based Access Control (RBAC):\n",
        "Implement RBAC to ensure users only access resources relevant to their roles.\n",
        "Authentication Decorators:\n",
        "Use decorators to enforce authentication and authorization on specific routes.\n",
        "2. Input Validation and Sanitization:\n",
        "Validate User Input: Always validate user inputs to prevent injection attacks (e.g., SQL injection, XSS).\n",
        "Sanitize Data: Cleanse user input to remove any malicious code or characters.\n",
        "3. Secure Data Handling:\n",
        "Password Hashing: Never store passwords in plain text. Use strong hashing algorithms like bcrypt or Argon2.\n",
        "Encryption: Encrypt sensitive data both in transit (HTTPS) and at rest.\n",
        "Secret Management: Store API keys, database credentials, and encryption keys securely, not directly in the code. Use environment variables or dedicated secret management tools.\n",
        "4. HTTP Security Headers:\n",
        "Set Security Headers: Configure headers like X-Content-Type-Options, X-Frame-Options, and Content-Security-Policy to mitigate common attacks.\n",
        "5. Cross-Origin Resource Sharing (CORS):\n",
        "Configure CORS: Implement CORS to control which domains can access your API.\n",
        "6. Error Handling and Logging:\n",
        "Proper Error Handling: Avoid exposing sensitive information in error messages.\n",
        "Logging: Implement robust logging to monitor API activity and detect potential security breaches.\n",
        "7. Other Security Practices:\n",
        "Disable Debug Mode: Always disable debug mode in production environments.\n",
        "Rate Limiting: Implement rate limiting to prevent brute-force attacks.\n",
        "Regular Security Audits: Conduct regular security audits and penetration testing to identify vulnerabilities.\n",
        "Use a Gateway: Consider using an API gateway for managing and securing API access.\n",
        "Keep Libraries Updated: Regularly update Flask and its dependencies to patch security vulnerabilities.\n",
        "Use HTTPS: Always use HTTPS for secure communication."
      ],
      "metadata": {
        "id": "cc07IQ1FCs_s"
      }
    },
    {
      "cell_type": "markdown",
      "source": [
        "22.  What is the significance of the Flask-RESTful extension\n",
        "\n",
        "\n",
        "   \n",
        "    Key Significance:\n",
        "    Simplified API Development:\n",
        "    Flask RESTful abstracts away the complexities of defining and handling API endpoints, making the process more straightforward and efficient.\n",
        "    Resource-Oriented Approach:\n",
        "    The Resource class encourages a well-structured approach to API design, promoting reusability and maintainability.\n",
        "    Best Practice Adherence:\n",
        "    It encourages the use of RESTful principles, resulting in APIs that are easier to scale, maintain, and integrate with other services.\n",
        "    Object-Oriented Programming:\n",
        "    It allows developers to write cleaner, more object-oriented code for API development.\n",
        "    Data Serialization/Deserialization:\n",
        "    It provides built-in mechanisms for serializing and deserializing data, simplifying the process of handling data formats like JSON.\n",
        "    Benefits of Using Flask RESTful:\n",
        "    Faster Development:\n",
        "    The extension streamlines the development process, allowing developers to build REST APIs more quickly.\n",
        "    Improved Code Organization:\n",
        "    It encourages a well-structured approach, making APIs easier to understand, maintain, and extend.\n",
        "    Enhanced Scalability:\n",
        "    By adhering to RESTful principles, APIs built with Flask RESTful are well-suited for scaling to handle larger loads.\n",
        "    Seamless Integration with Flask:\n",
        "    It seamlessly integrates with the Flask framework, allowing developers to leverage the existing Flask ecosystem and tools.\n",
        "    In essence, Flask RESTful acts as a valuable tool for developers looking to build robust, efficient, and maintainable RESTful APIs using the Flask framework."
      ],
      "metadata": {
        "id": "twZRlCM3C219"
      }
    },
    {
      "cell_type": "markdown",
      "source": [
        "23.  What is the role of Flask’s session object?\n",
        "\n",
        "    In Flask, the session object allows developers to store and retrieve user-specific data across multiple HTTP requests. It's a mechanism to maintain state between requests, enabling features like login persistence and personalized experiences. Think of it as a way to \"remember\" information about a user as they navigate your web application.\n",
        "     \n",
        "    Storage:\n",
        "    The session object stores data in a cryptographically signed cookie on the user's browser. This means the user can see the contents of the cookie, but they cannot modify it without knowing the secret key used for signing.\n",
        "    Purpose:\n",
        "    It's primarily used to track user authentication, such as remembering whether a user is logged in. You can also store other user-specific information, like preferences, cart items, or other dynamic data.\n",
        "    Implementation:\n",
        "    The session object is a dictionary-like structure that allows you to set and retrieve data using key-value pairs. You can use it to store any data that you want to persist across requests for a particular user.\n",
        "    Example:\n",
        "    A common use case is storing a user's login status. When a user logs in, you can set a session variable, like is_logged_in = True, and then check this variable in subsequent requests to determine if the user is still logged in.\n",
        "    In essence, the session object provides a way to manage state and track user-specific information in a Flask application, making it a crucial tool for building web applications with dynamic content and persistent user interactions."
      ],
      "metadata": {
        "id": "qYqJq76EDFkL"
      }
    },
    {
      "cell_type": "markdown",
      "source": [
        "**Practical**"
      ],
      "metadata": {
        "id": "4SafIb_xZd-R"
      }
    },
    {
      "cell_type": "code",
      "source": [
        "#1 How do you create a basic Flask application\n",
        "\n",
        "# Import the Flask class from the flask module\n",
        "from flask import Flask\n",
        "\n",
        "\n",
        "app = Flask(__name__)\n",
        "\n",
        "@app.route('/')\n",
        "def hello_world():\n",
        "    \"\"\"\n",
        "    This function is called when the user accesses the root URL.\n",
        "    It returns a simple string, which will be displayed in the browser.\n",
        "    \"\"\"\n",
        "    return 'Hello, World!'\n",
        "if __name__ == '__main__':\n",
        "    app.run(debug=True)"
      ],
      "metadata": {
        "colab": {
          "base_uri": "https://localhost:8080/"
        },
        "id": "2BQAl-JWZg9n",
        "outputId": "bb2ecd1a-d71f-4196-b66d-109fd4ec70f6"
      },
      "execution_count": null,
      "outputs": [
        {
          "metadata": {
            "tags": null
          },
          "name": "stdout",
          "output_type": "stream",
          "text": [
            " * Serving Flask app '__main__'\n",
            " * Debug mode: on\n"
          ]
        },
        {
          "metadata": {
            "tags": null
          },
          "name": "stderr",
          "output_type": "stream",
          "text": [
            "INFO:werkzeug:\u001b[31m\u001b[1mWARNING: This is a development server. Do not use it in a production deployment. Use a production WSGI server instead.\u001b[0m\n",
            " * Running on http://127.0.0.1:5000\n",
            "INFO:werkzeug:\u001b[33mPress CTRL+C to quit\u001b[0m\n",
            "INFO:werkzeug: * Restarting with stat\n"
          ]
        }
      ]
    },
    {
      "cell_type": "code",
      "source": [
        "#2  How do you serve static files like images or CSS in Flask\n",
        "\n",
        "\n",
        "import os\n",
        "from flask import Flask, send_from_directory\n",
        "\n",
        "app = Flask(__name__)\n",
        "\n",
        "STATIC_FOLDER = 'static'  # Define the static folder name\n",
        "\n",
        "@app.route('/static_serve/<path:filename>')\n",
        "def serve_static(filename):\n",
        "    return send_from_directory(STATIC_FOLDER, filename)\n",
        "\n",
        "@app.route('/')\n",
        "def hello_world():\n",
        "    return 'Hello, World!'\n",
        "\n",
        "if __name__ == '__main__':\n",
        "    app.run(debug=True)"
      ],
      "metadata": {
        "id": "fmgx8J5Ba_7j"
      },
      "execution_count": null,
      "outputs": []
    },
    {
      "cell_type": "code",
      "source": [
        "# 3.  How do you define different routes with different HTTP methods in Flask\n",
        "\n",
        "\n",
        "from flask import Flask, request\n",
        "\n",
        "app = Flask(__name__)\n",
        "\n",
        "# Route handling only GET requests\n",
        "@app.route('/', methods=['GET'])\n",
        "def home():\n",
        "    return \"Welcome to the Home Page\"\n",
        "\n",
        "# Route handling both GET and POST requests\n",
        "@app.route('/submit', methods=['GET', 'POST'])\n",
        "def submit():\n",
        "    if request.method == 'POST':\n",
        "        data = request.form.get('data')\n",
        "        return f\"Data received: {data}\"\n",
        "    return '''\n",
        "        <form method=\"post\">\n",
        "            <input type=\"text\" name=\"data\" placeholder=\"Enter data\">\n",
        "            <input type=\"submit\" value=\"Submit\">\n",
        "        </form>\n",
        "    '''\n",
        "\n",
        "# Route handling GET, PUT, and DELETE requests with a dynamic parameter\n",
        "@app.route('/item/<int:item_id>', methods=['GET', 'PUT', 'DELETE'])\n",
        "def item_operations(item_id):\n",
        "    if request.method == 'GET':\n",
        "        return f\"Fetching item with ID: {item_id}\"\n",
        "    elif request.method == 'PUT':\n",
        "        return f\"Updating item with ID: {item_id}\"\n",
        "    elif request.method == 'DELETE':\n",
        "        return f\"Deleting item with ID: {item_id}\""
      ],
      "metadata": {
        "id": "JQreDwWabiV-"
      },
      "execution_count": null,
      "outputs": []
    },
    {
      "cell_type": "code",
      "source": [
        "#4.  How do you render HTML templates in Flask\n",
        "\n",
        "\n",
        "from flask import Flask, render_template\n",
        "\n",
        "app = Flask(__name__)\n",
        "\n",
        "@app.route('/')\n",
        "def index():\n",
        "    user_name = \"Alice\"\n",
        "    item_list = [\"apple\", \"banana\", \"cherry\"]\n",
        "    return render_template('index.html', name=user_name, items=item_list)\n",
        "\n",
        "@app.route('/about')\n",
        "def about():\n",
        "    return render_template('about.html') # No dynamic data passed here\n",
        "\n",
        "if __name__ == '__main__':\n",
        "    app.run(debug=True)"
      ],
      "metadata": {
        "id": "HuFNdr_lb2bs"
      },
      "execution_count": null,
      "outputs": []
    },
    {
      "cell_type": "code",
      "source": [
        "#5.  How can you generate URLs for routes in Flask using url_for\n",
        "\n",
        "from flask import Flask, url_for, redirect\n",
        "\n",
        "app = Flask(__name__)\n",
        "\n",
        "@app.route('/')\n",
        "def index():\n",
        "    return render_template('index.html')\n",
        "\n",
        "@app.route('/user/<username>')\n",
        "def user_profile(username):\n",
        "    return f\"Profile for user: {username}\"\n",
        "\n",
        "@app.route('/posts/<int:post_id>')\n",
        "def post_detail(post_id):\n",
        "    return f\"Details for post: {post_id}\"\n",
        "\n",
        "@app.route('/redirect_to_home')\n",
        "def redirect_home():\n",
        "    return redirect(url_for('index'))\n",
        "\n",
        "if __name__ == '__main__':\n",
        "    app.run(debug=True)"
      ],
      "metadata": {
        "id": "nNaSr73ZcO5K"
      },
      "execution_count": null,
      "outputs": []
    },
    {
      "cell_type": "code",
      "source": [
        "#6  How do you handle forms in Flask\n",
        "from flask import Flask, url_for, redirect\n",
        "\n",
        "app = Flask(__name__)\n",
        "\n",
        "@app.route('/')\n",
        "def index():\n",
        "    return render_template('index.html')\n",
        "\n",
        "@app.route('/user/<username>')\n",
        "def user_profile(username):\n",
        "    return f\"Profile for user: {username}\"\n",
        "\n",
        "@app.route('/posts/<int:post_id>')\n",
        "def post_detail(post_id):\n",
        "    return f\"Details for post: {post_id}\"\n",
        "\n",
        "@app.route('/redirect_to_home')\n",
        "def redirect_home():\n",
        "    return redirect(url_for('index'))\n",
        "\n",
        "if __name__ == '__main__':\n",
        "    app.run(debug=True)"
      ],
      "metadata": {
        "id": "AGZcapNccdqb"
      },
      "execution_count": null,
      "outputs": []
    },
    {
      "cell_type": "code",
      "source": [
        "#7.  How can you validate form data in Flask\n",
        "from flask_wtf import FlaskForm\n",
        "from wtforms import StringField, PasswordField, SubmitField\n",
        "from wtforms.validators import DataRequired, Email, EqualTo\n",
        "\n",
        "class RegistrationForm(FlaskForm):\n",
        "    username = StringField('Username', validators=[DataRequired()])\n",
        "    email = StringField('Email', validators=[DataRequired(), Email()])\n",
        "    password = PasswordField('Password', validators=[DataRequired()])\n",
        "    confirm_password = PasswordField('Confirm Password',\n",
        "                                     validators=[DataRequired(), EqualTo('password')])\n",
        "    submit = SubmitField('Sign Up')\n",
        "\n"
      ],
      "metadata": {
        "id": "ZDsTq2JuczZA"
      },
      "execution_count": null,
      "outputs": []
    },
    {
      "cell_type": "code",
      "source": [
        "from flask import Flask, render_template, flash, redirect, url_for\n",
        "\n",
        "app = Flask(__name__)\n",
        "app.config['SECRET_KEY'] = 'your_secret_key'\n",
        "\n",
        "@app.route('/register', methods=['GET', 'POST'])\n",
        "def register():\n",
        "    form = RegistrationForm()\n",
        "    if form.validate_on_submit():\n",
        "        # Process the validated data\n",
        "        flash(f'Account created for {form.username.data}!', 'success')\n",
        "        return redirect(url_for('home'))\n",
        "    return render_template('register.html', form=form)\n"
      ],
      "metadata": {
        "id": "oHgS1c5MdHIn"
      },
      "execution_count": null,
      "outputs": []
    },
    {
      "cell_type": "code",
      "source": [
        "#8 . How do you manage sessions in Flask\n",
        "\n",
        "from flask import Flask, session, redirect, url_for, request, render_template_string\n",
        "\n",
        "app = Flask(__name__)\n",
        "app.secret_key = 'your_secret_key'  # Replace with a secure key in production\n"
      ],
      "metadata": {
        "id": "iVmAvil8dPGO"
      },
      "execution_count": null,
      "outputs": []
    },
    {
      "cell_type": "code",
      "source": [
        "@app.route('/login', methods=['GET', 'POST'])\n",
        "def login():\n",
        "    if request.method == 'POST':\n",
        "        session['username'] = request.form['username']\n",
        "        return redirect(url_for('index'))\n",
        "    return render_template_string('''\n",
        "        <form method=\"post\">\n",
        "            <input type=\"text\" name=\"username\" placeholder=\"Enter username\">\n",
        "            <input type=\"submit\" value=\"Login\">\n",
        "        </form>\n",
        "    ''')\n"
      ],
      "metadata": {
        "id": "bGCtCf46dW-D"
      },
      "execution_count": null,
      "outputs": []
    },
    {
      "cell_type": "code",
      "source": [
        "@app.route('/')\n",
        "def index():\n",
        "    username = session.get('username')\n",
        "    if username:\n",
        "        return f'Logged in as {username}'\n",
        "    return 'You are not logged in'"
      ],
      "metadata": {
        "id": "buG_kNBkddcg"
      },
      "execution_count": null,
      "outputs": []
    },
    {
      "cell_type": "code",
      "source": [
        "@app.route('/logout')\n",
        "def logout():\n",
        "    session.pop('username', None)\n",
        "    return redirect(url_for('index'))"
      ],
      "metadata": {
        "id": "8I-JgkB7dkjh"
      },
      "execution_count": null,
      "outputs": []
    },
    {
      "cell_type": "code",
      "source": [
        "#9  How do you redirect to a different route in Flask\n",
        "\n",
        "\n",
        "# To redirect a user from one route to another within your Flask application:\n",
        "\n",
        "from flask import Flask, redirect, url_for\n",
        "\n",
        "app = Flask(__name__)\n",
        "\n",
        "@app.route('/')\n",
        "def home():\n",
        "    return redirect(url_for('dashboard'))\n",
        "\n",
        "@app.route('/dashboard')\n",
        "def dashboard():\n",
        "    return 'Welcome to the Dashboard!'"
      ],
      "metadata": {
        "id": "P3fr3PAadnfX"
      },
      "execution_count": null,
      "outputs": []
    },
    {
      "cell_type": "code",
      "source": [
        "#10  How do you handle errors in Flask (e.g., 404)\n",
        "from flask import Flask, render_template\n",
        "\n",
        "app = Flask(__name__)\n",
        "\n",
        "@app.errorhandler(404)\n",
        "def not_found_error(error):\n",
        "    return render_template('404.html'), 404\n",
        "\n",
        "@app.errorhandler(500)\n",
        "def internal_error(error):\n",
        "    return render_template('500.html'), 500\n"
      ],
      "metadata": {
        "id": "g2ttmp3CeYn7"
      },
      "execution_count": null,
      "outputs": []
    },
    {
      "cell_type": "code",
      "source": [
        "from flask import abort\n",
        "\n",
        "@app.route('/user/<username>')\n",
        "def profile(username):\n",
        "    user = get_user(username)\n",
        "    if user is None:\n",
        "        abort(404)\n",
        "    return render_template('profile.html', user=user)"
      ],
      "metadata": {
        "id": "eooQE2g6g9Ev"
      },
      "execution_count": null,
      "outputs": []
    },
    {
      "cell_type": "code",
      "source": [
        "#11  How do you structure a Flask app using Blueprints\n",
        "\n",
        "from flask import Flask, send_from_directory\n",
        "\n",
        "import os\n",
        "from flask import Flask, send_from_directory\n",
        "\n",
        "app = Flask(__name__)\n",
        "\n",
        "STATIC_FOLDER = 'static'  # Define the static folder name\n",
        "\n",
        "@app.route('/static_serve/<path:filename>')\n",
        "def serve_static(filename):\n",
        "    return send_from_directory(STATIC_FOLDER, filename)\n",
        "\n",
        "@app.route('/')\n",
        "def hello_world():\n",
        "    return 'Hello, World!'\n",
        "\n",
        "if __name__ == '__main__':\n",
        "    app.run(debug=True)"
      ],
      "metadata": {
        "id": "3h5iZtmjg-lr"
      },
      "execution_count": null,
      "outputs": []
    },
    {
      "cell_type": "code",
      "source": [
        "#12 How do you define a custom Jinja filter in Flask\n",
        "\n",
        "from flask import Flask, render_template\n",
        "\n",
        "app = Flask(__name__)\n",
        "\n",
        "@app.template_filter('reverse_string')\n",
        "def reverse_string(s):\n",
        "    \"\"\"Reverses a given string.\"\"\"\n",
        "    return s[::-1]\n",
        "\n",
        "@app.template_filter('format_currency')\n",
        "def format_currency(value, currency=\"$\"):\n",
        "    \"\"\"Formats a numeric value as currency.\"\"\"\n",
        "    return f\"{currency}{value:.2f}\"\n",
        "\n",
        "@app.route('/data')\n",
        "def show_data():\n",
        "    my_string = \"hello\"\n",
        "    price = 12.345\n",
        "    return render_template('data.html', text=my_string, amount=price)\n",
        "\n",
        "if __name__ == '__main__':\n",
        "    app.run(debug=True)"
      ],
      "metadata": {
        "id": "aIz31nUvh8hJ"
      },
      "execution_count": null,
      "outputs": []
    },
    {
      "cell_type": "code",
      "source": [
        "# 13.  How can you redirect with query parameters in Flask\n",
        "from flask import Flask, redirect, url_for, request\n",
        "\n",
        "app = Flask(__name__)\n",
        "\n",
        "@app.route('/')\n",
        "def home():\n",
        "    # Redirect to /search with query parameters ?q=flask&page=2\n",
        "    return redirect(url_for('search', q='flask', page=2))\n",
        "\n",
        "@app.route('/search')\n",
        "def search():\n",
        "    query = request.args.get('q')\n",
        "    page = request.args.get('page')\n",
        "    return f'Search results for \"{query}\", page {page}'\n",
        "\n",
        "if __name__ == '__main__':\n",
        "    app.run(debug=True)\n"
      ],
      "metadata": {
        "id": "OYt6FPxxiRwm"
      },
      "execution_count": null,
      "outputs": []
    },
    {
      "cell_type": "code",
      "source": [
        "#14 . How do you return JSON responses in Flask\n",
        "\n",
        "\n",
        "from flask import Flask, jsonify\n",
        "\n",
        "app = Flask(__name__)\n",
        "\n",
        "@app.route('/api/data')\n",
        "def data():\n",
        "    response_data = {\n",
        "        'name': 'Alice',\n",
        "        'age': 30,\n",
        "        'city': 'Wonderland'\n",
        "    }\n",
        "    return jsonify(response_data)\n",
        "\n",
        "if __name__ == '__main__':\n",
        "    app.run(debug=True)\n"
      ],
      "metadata": {
        "id": "QoOubcVCiarp"
      },
      "execution_count": null,
      "outputs": []
    },
    {
      "cell_type": "code",
      "source": [
        "#  15. How do you capture URL parameters in Flask?\n",
        "\n",
        "from flask import Flask\n",
        "\n",
        "app = Flask(__name__)\n",
        "\n",
        "@app.route('/user/<int:user_id>/<username>')\n",
        "def show_user_details(user_id, username):\n",
        "    \"\"\"Captures both user ID (integer) and username (string).\"\"\"\n",
        "    return f\"User ID: {user_id}, Username: {username}\"\n",
        "\n",
        "if __name__ == '__main__':\n",
        "    app.run(debug=True)\n"
      ],
      "metadata": {
        "id": "l0bi9keQipTI"
      },
      "execution_count": null,
      "outputs": []
    }
  ]
}